{
 "cells": [
  {
   "cell_type": "code",
   "execution_count": 190,
   "metadata": {},
   "outputs": [],
   "source": [
    "import numpy as np\n",
    "import pandas as pd\n",
    "import matplotlib.pyplot as plt\n",
    "import tensorflow as tf\n",
    "from sklearn.model_selection import train_test_split\n",
    "from sklearn.preprocessing import normalize\n",
    "from tensorflow.keras.models import Sequential\n",
    "from tensorflow.keras.layers import Dense, Flatten, Lambda\n",
    "from tensorflow.keras.preprocessing.image import ImageDataGenerator\n",
    "from tensorflow.keras.utils import to_categorical"
   ]
  },
  {
   "cell_type": "code",
   "execution_count": 191,
   "metadata": {},
   "outputs": [],
   "source": [
    "# загружаем данные и разбиваем их на составляющие\n",
    "train = pd.read_csv(\"./train.csv\")\n",
    "y_train = train[\"label\"]\n",
    "X_train = train.drop(labels = [\"label\"],axis = 1)"
   ]
  },
  {
   "cell_type": "code",
   "execution_count": 192,
   "metadata": {},
   "outputs": [],
   "source": [
    "\n",
    "X_train = normalize(X_train.astype('float32'), axis=1)\n",
    "\n",
    "# Из файла информацию о изображения с цифрами мы получили в виде одномерных векторов из 784 значений\n",
    "# Переформируем все данные в трехмерные матрицы 28x28x1.\n",
    "# Keras требует дополнительное измерение в конце, для каналов. \n",
    "# Если бы это были RGB-изображения, то было бы 3 канала, но поскольку у нас \"черно-белое\" изображение, мы указываем 1 серый канал.\n",
    "X_train = X_train.reshape(X_train.shape[0], 28, 28, 1)"
   ]
  },
  {
   "cell_type": "code",
   "execution_count": 193,
   "metadata": {},
   "outputs": [
    {
     "data": {
      "image/png": "[encoded data removed]",
      "text/plain": [
       "<Figure size 640x480 with 3 Axes>"
      ]
     },
     "metadata": {},
     "output_type": "display_data"
    }
   ],
   "source": [
    "# убедимся, что все ок, выведем сами тестовые изображения и соответствующие им цифры \n",
    "for i in range(6, 9):\n",
    "    plt.subplot(330 + (i+1))\n",
    "    plt.imshow(X_train[i], cmap=plt.get_cmap('gray'))\n",
    "    plt.title(y_train[i])"
   ]
  },
  {
   "cell_type": "code",
   "execution_count": 194,
   "metadata": {},
   "outputs": [],
   "source": [
    "mean_px = X_train.mean().astype(np.float32)\n",
    "std_px = X_train.std().astype(np.float32)\n",
    "\n",
    "# Нормализуем данные\n",
    "def normalize(x): \n",
    "    return (x-mean_px)/std_px"
   ]
  },
  {
   "cell_type": "markdown",
   "metadata": {},
   "source": [
    "Метки в данном случае представлены целыми числами от 0 до 9. \n",
    "Нам нужно применить one-hot encoding, чтобы преобразовать эти one-hot числовой массив (например: 2 -> [0,0,1,0,0,0,0,0,0,0,0])."
   ]
  },
  {
   "cell_type": "code",
   "execution_count": 195,
   "metadata": {},
   "outputs": [
    {
     "name": "stdout",
     "output_type": "stream",
     "text": [
      "1 преобрауется в \n",
      "[0. 1. 0. 0. 0. 0. 0. 0. 0. 0.]\n"
     ]
    }
   ],
   "source": [
    "print(f\"{y_train[0]} преобрауется в \")\n",
    "y_train = to_categorical(y_train, num_classes = 10)\n",
    "# Пример:\n",
    "print(y_train[0])"
   ]
  },
  {
   "cell_type": "code",
   "execution_count": 196,
   "metadata": {},
   "outputs": [],
   "source": [
    "from tensorflow.keras.callbacks import ModelCheckpoint\n",
    "\n",
    "# Define the checkpoint callback to save weights\n",
    "checkpoint_callback = ModelCheckpoint(\n",
    "    filepath='weights.{epoch:02d}.h5',\n",
    "    save_weights_only=True,\n",
    "    save_best_only=False,\n",
    "    verbose=1\n",
    ")\n",
    "# Split the train and the validation set for the fitting\n",
    "X_train, X_test, y_train, y_test = train_test_split(X_train, y_train, test_size = 0.2, random_state=42)"
   ]
  },
  {
   "cell_type": "code",
   "execution_count": 197,
   "metadata": {},
   "outputs": [],
   "source": [
    "datagen = ImageDataGenerator(zoom_range = 0.1,\n",
    "                            height_shift_range = 0.1,\n",
    "                            width_shift_range = 0.1,\n",
    "                            rotation_range = 10)\n"
   ]
  },
  {
   "cell_type": "code",
   "execution_count": 198,
   "metadata": {},
   "outputs": [],
   "source": [
    "model = Sequential()\n",
    "model.add(Lambda(normalize,input_shape=(28, 28, 1)))\n",
    "model.add(Flatten())\n",
    "model.add(Dense(128, activation='relu')),\n",
    "model.add(Dense(128, activation='relu')),\n",
    "model.add(Dense(10, activation='softmax'))"
   ]
  },
  {
   "cell_type": "code",
   "execution_count": 199,
   "metadata": {},
   "outputs": [],
   "source": [
    "model.compile(optimizer='adam', loss='categorical_crossentropy', metrics=['accuracy'])"
   ]
  },
  {
   "cell_type": "code",
   "execution_count": 200,
   "metadata": {},
   "outputs": [
    {
     "name": "stdout",
     "output_type": "stream",
     "text": [
      "Epoch 1/30\n",
      "2100/2100 [==============================] - ETA: 0s - loss: 0.4841 - accuracy: 0.8459\n",
      "Epoch 1: saving model to weights.01.h5\n",
      "2100/2100 [==============================] - 15s 7ms/step - loss: 0.4841 - accuracy: 0.8459 - val_loss: 0.1864 - val_accuracy: 0.9383\n",
      "Epoch 2/30\n",
      "2096/2100 [============================>.] - ETA: 0s - loss: 0.2551 - accuracy: 0.9193\n",
      "Epoch 2: saving model to weights.02.h5\n",
      "2100/2100 [==============================] - 14s 7ms/step - loss: 0.2552 - accuracy: 0.9193 - val_loss: 0.2061 - val_accuracy: 0.9337\n",
      "Epoch 3/30\n",
      "2098/2100 [============================>.] - ETA: 0s - loss: 0.2126 - accuracy: 0.9349\n",
      "Epoch 3: saving model to weights.03.h5\n",
      "2100/2100 [==============================] - 16s 8ms/step - loss: 0.2124 - accuracy: 0.9349 - val_loss: 0.1172 - val_accuracy: 0.9630\n",
      "Epoch 4/30\n",
      "2095/2100 [============================>.] - ETA: 0s - loss: 0.1921 - accuracy: 0.9399\n",
      "Epoch 4: saving model to weights.04.h5\n",
      "2100/2100 [==============================] - 14s 7ms/step - loss: 0.1920 - accuracy: 0.9399 - val_loss: 0.1039 - val_accuracy: 0.9660\n",
      "Epoch 5/30\n",
      "2094/2100 [============================>.] - ETA: 0s - loss: 0.1745 - accuracy: 0.9444\n",
      "Epoch 5: saving model to weights.05.h5\n",
      "2100/2100 [==============================] - 15s 7ms/step - loss: 0.1750 - accuracy: 0.9442 - val_loss: 0.1159 - val_accuracy: 0.9656\n",
      "Epoch 6/30\n",
      "2098/2100 [============================>.] - ETA: 0s - loss: 0.1651 - accuracy: 0.9491\n",
      "Epoch 6: saving model to weights.06.h5\n",
      "2100/2100 [==============================] - 16s 8ms/step - loss: 0.1653 - accuracy: 0.9491 - val_loss: 0.1176 - val_accuracy: 0.9651\n",
      "Epoch 7/30\n",
      "2097/2100 [============================>.] - ETA: 0s - loss: 0.1626 - accuracy: 0.9493\n",
      "Epoch 7: saving model to weights.07.h5\n",
      "2100/2100 [==============================] - 17s 8ms/step - loss: 0.1625 - accuracy: 0.9494 - val_loss: 0.0983 - val_accuracy: 0.9685\n",
      "Epoch 8/30\n",
      "2098/2100 [============================>.] - ETA: 0s - loss: 0.1521 - accuracy: 0.9525\n",
      "Epoch 8: saving model to weights.08.h5\n",
      "2100/2100 [==============================] - 17s 8ms/step - loss: 0.1521 - accuracy: 0.9524 - val_loss: 0.0993 - val_accuracy: 0.9675\n",
      "Epoch 9/30\n",
      "2096/2100 [============================>.] - ETA: 0s - loss: 0.1460 - accuracy: 0.9543\n",
      "Epoch 9: saving model to weights.09.h5\n",
      "2100/2100 [==============================] - 16s 8ms/step - loss: 0.1460 - accuracy: 0.9543 - val_loss: 0.0925 - val_accuracy: 0.9732\n",
      "Epoch 10/30\n",
      "2097/2100 [============================>.] - ETA: 0s - loss: 0.1463 - accuracy: 0.9554\n",
      "Epoch 10: saving model to weights.10.h5\n",
      "2100/2100 [==============================] - 21s 10ms/step - loss: 0.1463 - accuracy: 0.9554 - val_loss: 0.0882 - val_accuracy: 0.9725\n",
      "Epoch 11/30\n",
      "2095/2100 [============================>.] - ETA: 0s - loss: 0.1398 - accuracy: 0.9573\n",
      "Epoch 11: saving model to weights.11.h5\n",
      "2100/2100 [==============================] - 17s 8ms/step - loss: 0.1398 - accuracy: 0.9574 - val_loss: 0.0991 - val_accuracy: 0.9727\n",
      "Epoch 12/30\n",
      "2094/2100 [============================>.] - ETA: 0s - loss: 0.1332 - accuracy: 0.9577\n",
      "Epoch 12: saving model to weights.12.h5\n",
      "2100/2100 [==============================] - 15s 7ms/step - loss: 0.1333 - accuracy: 0.9577 - val_loss: 0.0858 - val_accuracy: 0.9739\n",
      "Epoch 13/30\n",
      "2099/2100 [============================>.] - ETA: 0s - loss: 0.1280 - accuracy: 0.9616\n",
      "Epoch 13: saving model to weights.13.h5\n",
      "2100/2100 [==============================] - 15s 7ms/step - loss: 0.1280 - accuracy: 0.9616 - val_loss: 0.0796 - val_accuracy: 0.9786\n",
      "Epoch 14/30\n",
      "2093/2100 [============================>.] - ETA: 0s - loss: 0.1298 - accuracy: 0.9603\n",
      "Epoch 14: saving model to weights.14.h5\n",
      "2100/2100 [==============================] - 14s 7ms/step - loss: 0.1299 - accuracy: 0.9602 - val_loss: 0.0843 - val_accuracy: 0.9742\n",
      "Epoch 15/30\n",
      "2093/2100 [============================>.] - ETA: 0s - loss: 0.1241 - accuracy: 0.9623\n",
      "Epoch 15: saving model to weights.15.h5\n",
      "2100/2100 [==============================] - 15s 7ms/step - loss: 0.1242 - accuracy: 0.9622 - val_loss: 0.0878 - val_accuracy: 0.9748\n",
      "Epoch 16/30\n",
      "2093/2100 [============================>.] - ETA: 0s - loss: 0.1234 - accuracy: 0.9629\n",
      "Epoch 16: saving model to weights.16.h5\n",
      "2100/2100 [==============================] - 14s 7ms/step - loss: 0.1235 - accuracy: 0.9628 - val_loss: 0.0808 - val_accuracy: 0.9765\n",
      "Epoch 17/30\n",
      "2092/2100 [============================>.] - ETA: 0s - loss: 0.1230 - accuracy: 0.9630\n",
      "Epoch 17: saving model to weights.17.h5\n",
      "2100/2100 [==============================] - 14s 7ms/step - loss: 0.1229 - accuracy: 0.9631 - val_loss: 0.0871 - val_accuracy: 0.9755\n",
      "Epoch 18/30\n",
      "2097/2100 [============================>.] - ETA: 0s - loss: 0.1195 - accuracy: 0.9629\n",
      "Epoch 18: saving model to weights.18.h5\n",
      "2100/2100 [==============================] - 15s 7ms/step - loss: 0.1195 - accuracy: 0.9629 - val_loss: 0.0862 - val_accuracy: 0.9727\n",
      "Epoch 19/30\n",
      "2096/2100 [============================>.] - ETA: 0s - loss: 0.1164 - accuracy: 0.9646\n",
      "Epoch 19: saving model to weights.19.h5\n",
      "2100/2100 [==============================] - 14s 7ms/step - loss: 0.1169 - accuracy: 0.9645 - val_loss: 0.0848 - val_accuracy: 0.9749\n",
      "Epoch 20/30\n",
      "2096/2100 [============================>.] - ETA: 0s - loss: 0.1195 - accuracy: 0.9642\n",
      "Epoch 20: saving model to weights.20.h5\n",
      "2100/2100 [==============================] - 13s 6ms/step - loss: 0.1195 - accuracy: 0.9642 - val_loss: 0.0775 - val_accuracy: 0.9780\n",
      "Epoch 21/30\n",
      "2098/2100 [============================>.] - ETA: 0s - loss: 0.1161 - accuracy: 0.9660\n",
      "Epoch 21: saving model to weights.21.h5\n",
      "2100/2100 [==============================] - 14s 7ms/step - loss: 0.1160 - accuracy: 0.9660 - val_loss: 0.0906 - val_accuracy: 0.9731\n",
      "Epoch 22/30\n",
      "2098/2100 [============================>.] - ETA: 0s - loss: 0.1184 - accuracy: 0.9641\n",
      "Epoch 22: saving model to weights.22.h5\n",
      "2100/2100 [==============================] - 14s 7ms/step - loss: 0.1183 - accuracy: 0.9641 - val_loss: 0.0747 - val_accuracy: 0.9774\n",
      "Epoch 23/30\n",
      "2095/2100 [============================>.] - ETA: 0s - loss: 0.1112 - accuracy: 0.9666\n",
      "Epoch 23: saving model to weights.23.h5\n",
      "2100/2100 [==============================] - 14s 7ms/step - loss: 0.1112 - accuracy: 0.9666 - val_loss: 0.0882 - val_accuracy: 0.9756\n",
      "Epoch 24/30\n",
      "2098/2100 [============================>.] - ETA: 0s - loss: 0.1123 - accuracy: 0.9663\n",
      "Epoch 24: saving model to weights.24.h5\n",
      "2100/2100 [==============================] - 15s 7ms/step - loss: 0.1124 - accuracy: 0.9662 - val_loss: 0.0899 - val_accuracy: 0.9737\n",
      "Epoch 25/30\n",
      "2092/2100 [============================>.] - ETA: 0s - loss: 0.1080 - accuracy: 0.9670\n",
      "Epoch 25: saving model to weights.25.h5\n",
      "2100/2100 [==============================] - 14s 7ms/step - loss: 0.1078 - accuracy: 0.9670 - val_loss: 0.0787 - val_accuracy: 0.9785\n",
      "Epoch 26/30\n",
      "2092/2100 [============================>.] - ETA: 0s - loss: 0.1109 - accuracy: 0.9672\n",
      "Epoch 26: saving model to weights.26.h5\n",
      "2100/2100 [==============================] - 13s 6ms/step - loss: 0.1106 - accuracy: 0.9673 - val_loss: 0.0777 - val_accuracy: 0.9787\n",
      "Epoch 27/30\n",
      "2097/2100 [============================>.] - ETA: 0s - loss: 0.1093 - accuracy: 0.9679\n",
      "Epoch 27: saving model to weights.27.h5\n",
      "2100/2100 [==============================] - 15s 7ms/step - loss: 0.1092 - accuracy: 0.9679 - val_loss: 0.0846 - val_accuracy: 0.9752\n",
      "Epoch 28/30\n",
      "2096/2100 [============================>.] - ETA: 0s - loss: 0.1087 - accuracy: 0.9674\n",
      "Epoch 28: saving model to weights.28.h5\n",
      "2100/2100 [==============================] - 15s 7ms/step - loss: 0.1085 - accuracy: 0.9674 - val_loss: 0.0832 - val_accuracy: 0.9742\n",
      "Epoch 29/30\n",
      "2099/2100 [============================>.] - ETA: 0s - loss: 0.1089 - accuracy: 0.9679\n",
      "Epoch 29: saving model to weights.29.h5\n",
      "2100/2100 [==============================] - 14s 7ms/step - loss: 0.1089 - accuracy: 0.9679 - val_loss: 0.0662 - val_accuracy: 0.9801\n",
      "Epoch 30/30\n",
      "2099/2100 [============================>.] - ETA: 0s - loss: 0.1063 - accuracy: 0.9680\n",
      "Epoch 30: saving model to weights.30.h5\n",
      "2100/2100 [==============================] - 15s 7ms/step - loss: 0.1066 - accuracy: 0.9679 - val_loss: 0.0771 - val_accuracy: 0.9781\n",
      "263/263 [==============================] - 0s 1ms/step - loss: 0.0771 - accuracy: 0.9781\n",
      "Final loss: 0.07713520526885986\n",
      "Final accuracy: 0.9780952334403992\n"
     ]
    }
   ],
   "source": [
    "history = model.fit(datagen.flow(X_train, y_train, batch_size=16),\n",
    "                    epochs=30, \n",
    "                    verbose=1,\n",
    "                    validation_data=(X_test, y_test), callbacks=[checkpoint_callback])\n",
    "\n",
    "loss, accuracy = model.evaluate(X_test, y_test)\n",
    "\n",
    "print(f\"Final loss: {loss}\")\n",
    "print(f\"Final accuracy: {accuracy}\")\n"
   ]
  },
  {
   "cell_type": "code",
   "execution_count": 201,
   "metadata": {},
   "outputs": [
    {
     "data": {
      "text/plain": [
       "dict_keys(['loss', 'accuracy', 'val_loss', 'val_accuracy'])"
      ]
     },
     "execution_count": 201,
     "metadata": {},
     "output_type": "execute_result"
    }
   ],
   "source": [
    "history_dict = history.history\n",
    "history_dict.keys()"
   ]
  },
  {
   "cell_type": "markdown",
   "metadata": {},
   "source": [
    "Посмотрим, как происходило изменение точности на каждой из эпох"
   ]
  },
  {
   "cell_type": "code",
   "execution_count": 202,
   "metadata": {},
   "outputs": [
    {
     "data": {
      "image/png": "[encoded data removed]",
      "text/plain": [
       "<Figure size 640x480 with 1 Axes>"
      ]
     },
     "metadata": {},
     "output_type": "display_data"
    }
   ],
   "source": [
    "loss_values = history_dict['loss']\n",
    "val_loss_values = history_dict['val_loss']\n",
    "epochs = range(1, len(loss_values) + 1)\n",
    "\n",
    "# \"bo\" is for \"blue dot\"\n",
    "plt.plot(epochs, loss_values, 'bo')\n",
    "# b+ is for \"blue crosses\"\n",
    "plt.plot(epochs, val_loss_values, 'b+')\n",
    "plt.xlabel('Epochs')\n",
    "plt.ylabel('Loss')\n",
    "\n",
    "plt.show()"
   ]
  },
  {
   "cell_type": "code",
   "execution_count": 203,
   "metadata": {},
   "outputs": [
    {
     "data": {
      "image/png": "[encoded data removed]",
      "text/plain": [
       "<Figure size 640x480 with 1 Axes>"
      ]
     },
     "metadata": {},
     "output_type": "display_data"
    }
   ],
   "source": [
    "plt.clf() # clear\n",
    "acc_values = history_dict['accuracy']\n",
    "val_acc_values = history_dict['val_accuracy']\n",
    "\n",
    "plt.plot(epochs, acc_values, 'bo')\n",
    "plt.plot(epochs, val_acc_values, 'b+')\n",
    "plt.xlabel('Epochs')\n",
    "plt.ylabel('Accuracy')\n",
    "\n",
    "plt.show()"
   ]
  },
  {
   "cell_type": "markdown",
   "metadata": {},
   "source": [
    "### градиент целевой функции по обучаемым параметрам нейронной сети"
   ]
  },
  {
   "cell_type": "code",
   "execution_count": 204,
   "metadata": {},
   "outputs": [
    {
     "name": "stdout",
     "output_type": "stream",
     "text": [
      "Variable: dense_29/kernel:0, Gradient shape: (784, 128)\n",
      "[[ 0.1330024  -4.440092   -0.6854059  ...  0.11676839  0.9746438\n",
      "   0.29099798]\n",
      " [ 0.1330024  -4.440092   -0.6854059  ...  0.11676839  0.9746438\n",
      "   0.29099798]\n",
      " [ 0.1330024  -4.440092   -0.6854059  ...  0.11676839  0.9746438\n",
      "   0.29099798]\n",
      " ...\n",
      " [ 0.1330024  -4.440092   -0.6854059  ...  0.11676839  0.9746438\n",
      "   0.29099798]\n",
      " [ 0.1330024  -4.440092   -0.6854059  ...  0.11676839  0.9746438\n",
      "   0.29099798]\n",
      " [ 0.1330024  -4.440092   -0.6854059  ...  0.11676839  0.9746438\n",
      "   0.29099798]]\n",
      "Variable: dense_29/bias:0, Gradient shape: (128,)\n",
      "[-3.17261487e-01  1.05913191e+01  1.63495481e+00  3.56039181e-02\n",
      "  1.75576672e-01 -7.14331269e-01  9.78976011e-01  1.70222497e+00\n",
      "  1.58386087e+00  2.26797327e-01  1.37818909e+00 -1.79760635e-01\n",
      " -1.40424585e+00 -1.80058837e+00  1.66997790e-01 -2.72190675e-07\n",
      "  2.72696495e+00 -7.21729994e-01 -3.09527493e+00  1.25915301e+00\n",
      "  5.63342750e-01  2.03933522e-01 -9.95080054e-01  1.32732129e+00\n",
      " -1.70658076e+00  3.92854810e-01 -6.43493980e-02  6.37522787e-02\n",
      " -3.57723498e+00  1.19551741e-01  2.59884238e-01  5.00252187e-01\n",
      " -4.22740914e-02 -1.71325594e-01  2.80804920e+00  5.92196941e-01\n",
      "  0.00000000e+00  1.41824758e+00 -7.97140598e-02 -4.11610097e-01\n",
      " -1.41764805e-02  2.13545704e+00  9.09140289e-01 -3.93100023e-01\n",
      "  1.00158252e-01 -2.19661713e-01 -3.21220011e-01 -9.48583841e-01\n",
      " -2.89403248e+00  2.62748647e+00  2.98416615e-01 -1.02273405e+00\n",
      "  4.31815177e-01 -1.01693273e+00 -3.52983296e-01  2.36593172e-01\n",
      " -1.06547125e-01  5.83298504e-01  1.94466305e+00 -2.58212280e+00\n",
      "  9.89543200e-02  1.01340413e+00  2.71976322e-01  0.00000000e+00\n",
      " -1.06670290e-01  9.21160340e-01 -4.21595240e+00  1.74126029e+00\n",
      " -8.11496198e-01  0.00000000e+00  2.22287655e+00 -1.74600244e+00\n",
      "  3.90998721e+00  5.71943521e-01  4.43125784e-01  6.37051463e-01\n",
      "  7.29724824e-01 -8.76841426e-01  2.61779487e-01  0.00000000e+00\n",
      "  2.58633345e-01 -3.77468443e+00 -2.12542677e+00 -1.66646942e-01\n",
      "  8.71660411e-01  0.00000000e+00 -2.78491527e-01  1.52904975e+00\n",
      "  1.47837257e+00  9.91744399e-02 -2.31338906e+00  1.46639693e+00\n",
      " -1.16380692e+00 -9.08764303e-02  7.93428659e-01 -1.71913996e-01\n",
      "  4.32359028e+00  0.00000000e+00  7.60959566e-01 -4.30535451e-02\n",
      " -3.01510358e+00  1.70381904e-01  8.22640598e-01  2.54676968e-01\n",
      "  1.12641358e+00  1.70951664e-01 -1.33679330e+00 -1.33108711e-04\n",
      "  1.44903564e+00 -2.52541089e+00 -5.12997091e-01  3.03302431e+00\n",
      " -2.55675244e+00 -1.31400716e+00  3.39949310e-01  2.56083757e-01\n",
      " -9.39067826e-02 -5.12620270e-01  3.78745466e-01 -2.40040757e-02\n",
      " -3.86949611e+00  8.59938338e-02  5.02893591e+00 -7.31706321e-02\n",
      "  9.77565646e-01 -2.78536648e-01 -2.32489729e+00 -6.94141448e-01]\n",
      "Variable: dense_30/kernel:0, Gradient shape: (128, 128)\n",
      "[[-6.03934168e-04  2.05072928e-02  2.90363282e-01 ...  3.87649350e-02\n",
      "  -1.14113164e+00 -1.92427356e-02]\n",
      " [-2.09595216e-03  9.67097402e-01  1.12012959e+01 ...  9.93488371e-01\n",
      "   5.27526569e+00  2.31508002e-01]\n",
      " [-2.33756844e-03  8.88770294e+00 -2.25535274e+00 ...  2.79848123e+00\n",
      "   2.74212146e+00  1.22986920e-01]\n",
      " ...\n",
      " [ 2.17518723e-03 -1.86345446e+00 -7.38340855e-01 ...  1.54133964e+00\n",
      "  -9.81973588e-01  2.39288256e-01]\n",
      " [-1.04737386e-01  1.16747131e+01 -8.87922645e-01 ...  4.24277115e+00\n",
      "   3.07798147e+00  1.85371339e-01]\n",
      " [ 0.00000000e+00  2.58365774e+00 -4.26747036e+00 ...  1.99762821e+00\n",
      "   2.68558908e+00  3.83043826e-01]]\n",
      "Variable: dense_30/bias:0, Gradient shape: (128,)\n",
      "[-1.64033920e-01  1.89173728e-01  1.03388929e+00  1.15723491e+00\n",
      " -2.23463058e-01  1.83672309e-01  2.24019384e+00  4.42891344e-02\n",
      " -6.92262232e-01 -1.75527227e-03 -3.23639303e-01 -2.26136088e+00\n",
      " -1.30984798e-01  3.14937115e-01 -2.47187686e+00 -1.52893767e-01\n",
      " -5.84079266e-01  1.91505384e+00 -2.51644671e-01 -8.30578506e-01\n",
      "  6.25280023e-01  6.75302982e-01  1.10435581e+00  3.27700567e+00\n",
      " -6.19550645e-01  1.18583643e+00 -8.85161757e-01 -1.07210159e+00\n",
      " -1.48331404e+00  1.92691386e-03  1.04300380e-02  2.10181642e+00\n",
      "  7.54720807e-01  5.85554004e-01  6.20401502e-01 -7.60775089e-01\n",
      " -6.59390986e-02  1.58514309e+00 -1.70347482e-01 -1.19453764e+00\n",
      " -2.28459859e+00  3.80046678e+00 -2.25026190e-01  1.17671616e-01\n",
      "  1.59013748e-01 -1.47575587e-01  3.14609826e-01 -1.46072596e-01\n",
      " -2.46150589e+00 -1.27465737e+00  8.20300132e-02 -6.09620094e-01\n",
      " -9.00534570e-01  8.30339417e-02 -2.34527135e+00 -3.68024735e-03\n",
      " -6.41280830e-01  1.10144235e-01  9.65854302e-02  7.40063429e-01\n",
      "  1.00292909e+00  6.09104753e-01  1.72713113e+00 -1.94104433e-01\n",
      " -1.56705976e+00  5.87966561e-01 -1.44954824e+00 -5.32042921e-01\n",
      "  4.18812603e-01  4.67673808e-01  5.27757883e-01 -4.26347256e-01\n",
      "  1.27090052e-01 -1.21533167e+00 -3.30534875e-02  4.71143536e-02\n",
      " -5.20737410e-01 -1.26431569e-01 -6.07333705e-03 -1.58375710e-01\n",
      "  1.78410280e+00  2.45087624e+00 -1.21361390e-03  3.64950806e-01\n",
      " -2.90199447e+00 -1.48698157e-02 -4.18392211e-01 -4.24778402e-01\n",
      "  2.57807761e-01  7.73367524e-01 -6.05938196e-01  1.22778607e-03\n",
      "  5.11201477e+00  1.10713020e-02 -4.11998630e-02 -3.05823863e-01\n",
      "  3.58162671e-01 -4.67612892e-02 -4.83059376e-01  1.33030012e-01\n",
      "  5.69798529e-01  7.36031085e-02  6.86737776e-01  4.78779638e-09\n",
      "  1.13394213e+00  1.86071485e-01 -2.84089819e-02 -9.90164697e-01\n",
      " -5.00801623e-01  8.64050165e-02  2.20973283e-01  1.39021724e-02\n",
      " -2.03178310e+00  3.73107076e-01 -1.56343430e-01 -6.70973584e-02\n",
      " -2.82706171e-01  1.22023180e-01 -5.88479126e-03  5.73170066e-01\n",
      " -1.56989217e+00  9.36756968e-01  6.89925998e-02  7.28467762e-01\n",
      "  3.44833827e+00  6.22878313e-01  4.33565736e-01  4.16499972e-01]\n",
      "Variable: dense_31/kernel:0, Gradient shape: (128, 10)\n",
      "[[ 3.8528442e+00  1.2852800e+00  8.6046770e-02 ...  1.2095448e-01\n",
      "   9.9421572e-03  6.1166900e-01]\n",
      " [-2.5097198e+01  1.8880030e+01  2.0236338e+01 ... -2.6928196e+01\n",
      "  -2.2516462e+01  1.1527451e+01]\n",
      " [ 6.7315954e-01 -2.9350792e+01  5.6250887e+00 ...  8.1155081e+00\n",
      "  -5.5453782e+00  7.0059462e+00]\n",
      " ...\n",
      " [ 7.4793720e+00  1.2426235e+01  1.0703777e+01 ...  6.3587799e+00\n",
      "  -5.3211861e+01 -3.5638779e+01]\n",
      " [-1.7738503e+00 -9.7101593e+00  7.6105642e+00 ...  5.8026508e+01\n",
      "  -1.2972786e+01 -4.5755993e+01]\n",
      " [ 1.7463829e+01  2.3978233e+00 -2.1039085e+01 ...  5.0249658e+00\n",
      "   1.0771554e+00 -1.5267270e+01]]\n",
      "Variable: dense_31/bias:0, Gradient shape: (10,)\n",
      "[  3.1996388   12.1786       0.09813388  -6.4973865  -34.412163\n",
      "  11.3667       0.202071     8.642798   -14.329755    19.550829  ]\n"
     ]
    }
   ],
   "source": [
    "# Calculate gradients using tf.GradientTape\n",
    "with tf.GradientTape() as tape:\n",
    "    y_pred = model(X_test)\n",
    "    loss_value = tf.keras.losses.categorical_crossentropy(y_test, y_pred)\n",
    "\n",
    "# Calculate gradients of loss with respect to model trainable variables\n",
    "gradients = tape.gradient(loss_value, model.trainable_variables)\n",
    "\n",
    "# Print the gradients\n",
    "for var, grad in zip(model.trainable_variables, gradients):\n",
    "    print(f\"Variable: {var.name}, Gradient shape: {grad.shape}\")\n",
    "    print(grad.numpy())"
   ]
  },
  {
   "cell_type": "markdown",
   "metadata": {},
   "source": [
    "### параметры нейронной сети, при которых точность классификации максимальна\n",
    "\n",
    "Чтобы определить параметры нейронной сети, при которых точность классификации максимальна, мы\n",
    "- должны проанализировать объект history, возвращаемый методом fit(), который содержит историю обучения, включая значения точности для каждой эпохи;\n",
    "- найти эпоху с лучшей точностью проверки;\n",
    "- по мере обучения модели мы сохраняем веса, полученные на каждой эпохе, в отдельный файл. Загрузим веса из файла соответсвующего эпохе с лучшей точностью;\n",
    "- используем model.get_weights() для получения параметров (весов и смещений) модели в лучшую эпоху. Мы перебираем параметры и выводим их формы, чтобы проверить размеры параметров каждого слоя."
   ]
  },
  {
   "cell_type": "code",
   "execution_count": 205,
   "metadata": {},
   "outputs": [
    {
     "name": "stdout",
     "output_type": "stream",
     "text": [
      "Лучшая точность: 0.9801190495491028\n",
      "Лучшие праметры:\n",
      "(784, 128)\n",
      "(128,)\n",
      "(128, 128)\n",
      "(128,)\n",
      "(128, 10)\n",
      "(10,)\n",
      "\n",
      "\n",
      "Описание модели:\n",
      "Model: \"sequential_10\"\n",
      "_________________________________________________________________\n",
      " Layer (type)                Output Shape              Param #   \n",
      "=================================================================\n",
      " lambda_10 (Lambda)          (None, 28, 28, 1)         0         \n",
      "                                                                 \n",
      " flatten_10 (Flatten)        (None, 784)               0         \n",
      "                                                                 \n",
      " dense_29 (Dense)            (None, 128)               100480    \n",
      "                                                                 \n",
      " dense_30 (Dense)            (None, 128)               16512     \n",
      "                                                                 \n",
      " dense_31 (Dense)            (None, 10)                1290      \n",
      "                                                                 \n",
      "=================================================================\n",
      "Total params: 118282 (462.04 KB)\n",
      "Trainable params: 118282 (462.04 KB)\n",
      "Non-trainable params: 0 (0.00 Byte)\n",
      "_________________________________________________________________\n"
     ]
    }
   ],
   "source": [
    "# Find the epoch with the highest validation accuracy\n",
    "best_epoch = np.argmax(history.history['val_accuracy'])\n",
    "best_accuracy = history.history['val_accuracy'][best_epoch]\n",
    "\n",
    "# Load the weights of the model at the best epoch\n",
    "model.load_weights(f'weights.{best_epoch+1:02d}.h5')\n",
    "\n",
    "# Get the parameters of the model at the best epoch\n",
    "best_parameters = model.get_weights()\n",
    "\n",
    "# Print the best accuracy and parameters\n",
    "print(f\"Лучшая точность: {best_accuracy}\")\n",
    "print(\"Лучшие праметры:\")\n",
    "for layer_param in best_parameters:\n",
    "    print(layer_param.shape)\n",
    "\n",
    "print('\\n')\n",
    "print(\"Описание модели:\")\n",
    "model.summary()"
   ]
  }
 ],
 "metadata": {
  "kernelspec": {
   "display_name": "venv",
   "language": "python",
   "name": "python3"
  },
  "language_info": {
   "codemirror_mode": {
    "name": "ipython",
    "version": 3
   },
   "file_extension": ".py",
   "mimetype": "text/x-python",
   "name": "python",
   "nbconvert_exporter": "python",
   "pygments_lexer": "ipython3",
   "version": "3.10.7"
  }
 },
 "nbformat": 4,
 "nbformat_minor": 2
}
