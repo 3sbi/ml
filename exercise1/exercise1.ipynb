{
 "cells": [
  {
   "cell_type": "code",
   "execution_count": 199,
   "metadata": {},
   "outputs": [],
   "source": [
    "import pandas as pd\n",
    "import numpy as np\n",
    "from sklearn.model_selection import train_test_split\n",
    "from sklearn.preprocessing import StandardScaler\n",
    "from sklearn.linear_model import SGDRegressor, LinearRegression, Ridge\n",
    "from sklearn import metrics\n",
    "%matplotlib inline\n",
    "\n",
    "import warnings\n",
    "def ignore_warn(*args, **kwargs):\n",
    "    pass\n",
    "warnings.warn = ignore_warn"
   ]
  },
  {
   "cell_type": "code",
   "execution_count": 200,
   "metadata": {},
   "outputs": [
    {
     "data": {
      "text/html": [
       "<div>\n",
       "<style scoped>\n",
       "    .dataframe tbody tr th:only-of-type {\n",
       "        vertical-align: middle;\n",
       "    }\n",
       "\n",
       "    .dataframe tbody tr th {\n",
       "        vertical-align: top;\n",
       "    }\n",
       "\n",
       "    .dataframe thead th {\n",
       "        text-align: right;\n",
       "    }\n",
       "</style>\n",
       "<table border=\"1\" class=\"dataframe\">\n",
       "  <thead>\n",
       "    <tr style=\"text-align: right;\">\n",
       "      <th></th>\n",
       "      <th>Posted On</th>\n",
       "      <th>BHK</th>\n",
       "      <th>Rent</th>\n",
       "      <th>Size</th>\n",
       "      <th>Floor</th>\n",
       "      <th>Area Type</th>\n",
       "      <th>Area Locality</th>\n",
       "      <th>City</th>\n",
       "      <th>Furnishing Status</th>\n",
       "      <th>Tenant Preferred</th>\n",
       "      <th>Bathroom</th>\n",
       "      <th>Point of Contact</th>\n",
       "    </tr>\n",
       "  </thead>\n",
       "  <tbody>\n",
       "    <tr>\n",
       "      <th>0</th>\n",
       "      <td>2022-05-18</td>\n",
       "      <td>2</td>\n",
       "      <td>10000</td>\n",
       "      <td>1100</td>\n",
       "      <td>Ground out of 2</td>\n",
       "      <td>Super Area</td>\n",
       "      <td>Bandel</td>\n",
       "      <td>Kolkata</td>\n",
       "      <td>Unfurnished</td>\n",
       "      <td>Bachelors/Family</td>\n",
       "      <td>2</td>\n",
       "      <td>Contact Owner</td>\n",
       "    </tr>\n",
       "    <tr>\n",
       "      <th>1</th>\n",
       "      <td>2022-05-13</td>\n",
       "      <td>2</td>\n",
       "      <td>20000</td>\n",
       "      <td>800</td>\n",
       "      <td>1 out of 3</td>\n",
       "      <td>Super Area</td>\n",
       "      <td>Phool Bagan, Kankurgachi</td>\n",
       "      <td>Kolkata</td>\n",
       "      <td>Semi-Furnished</td>\n",
       "      <td>Bachelors/Family</td>\n",
       "      <td>1</td>\n",
       "      <td>Contact Owner</td>\n",
       "    </tr>\n",
       "    <tr>\n",
       "      <th>2</th>\n",
       "      <td>2022-05-16</td>\n",
       "      <td>2</td>\n",
       "      <td>17000</td>\n",
       "      <td>1000</td>\n",
       "      <td>1 out of 3</td>\n",
       "      <td>Super Area</td>\n",
       "      <td>Salt Lake City Sector 2</td>\n",
       "      <td>Kolkata</td>\n",
       "      <td>Semi-Furnished</td>\n",
       "      <td>Bachelors/Family</td>\n",
       "      <td>1</td>\n",
       "      <td>Contact Owner</td>\n",
       "    </tr>\n",
       "    <tr>\n",
       "      <th>3</th>\n",
       "      <td>2022-07-04</td>\n",
       "      <td>2</td>\n",
       "      <td>10000</td>\n",
       "      <td>800</td>\n",
       "      <td>1 out of 2</td>\n",
       "      <td>Super Area</td>\n",
       "      <td>Dumdum Park</td>\n",
       "      <td>Kolkata</td>\n",
       "      <td>Unfurnished</td>\n",
       "      <td>Bachelors/Family</td>\n",
       "      <td>1</td>\n",
       "      <td>Contact Owner</td>\n",
       "    </tr>\n",
       "    <tr>\n",
       "      <th>4</th>\n",
       "      <td>2022-05-09</td>\n",
       "      <td>2</td>\n",
       "      <td>7500</td>\n",
       "      <td>850</td>\n",
       "      <td>1 out of 2</td>\n",
       "      <td>Carpet Area</td>\n",
       "      <td>South Dum Dum</td>\n",
       "      <td>Kolkata</td>\n",
       "      <td>Unfurnished</td>\n",
       "      <td>Bachelors</td>\n",
       "      <td>1</td>\n",
       "      <td>Contact Owner</td>\n",
       "    </tr>\n",
       "  </tbody>\n",
       "</table>\n",
       "</div>"
      ],
      "text/plain": [
       "    Posted On  BHK   Rent  Size            Floor    Area Type  \\\n",
       "0  2022-05-18    2  10000  1100  Ground out of 2   Super Area   \n",
       "1  2022-05-13    2  20000   800       1 out of 3   Super Area   \n",
       "2  2022-05-16    2  17000  1000       1 out of 3   Super Area   \n",
       "3  2022-07-04    2  10000   800       1 out of 2   Super Area   \n",
       "4  2022-05-09    2   7500   850       1 out of 2  Carpet Area   \n",
       "\n",
       "              Area Locality     City Furnishing Status  Tenant Preferred  \\\n",
       "0                    Bandel  Kolkata       Unfurnished  Bachelors/Family   \n",
       "1  Phool Bagan, Kankurgachi  Kolkata    Semi-Furnished  Bachelors/Family   \n",
       "2   Salt Lake City Sector 2  Kolkata    Semi-Furnished  Bachelors/Family   \n",
       "3               Dumdum Park  Kolkata       Unfurnished  Bachelors/Family   \n",
       "4             South Dum Dum  Kolkata       Unfurnished         Bachelors   \n",
       "\n",
       "   Bathroom Point of Contact  \n",
       "0         2    Contact Owner  \n",
       "1         1    Contact Owner  \n",
       "2         1    Contact Owner  \n",
       "3         1    Contact Owner  \n",
       "4         1    Contact Owner  "
      ]
     },
     "execution_count": 200,
     "metadata": {},
     "output_type": "execute_result"
    }
   ],
   "source": [
    "data = pd.read_csv('./House_Rent_Dataset.csv')\n",
    "data.head()"
   ]
  },
  {
   "cell_type": "markdown",
   "metadata": {},
   "source": [
    "### Предварительная обработка данных\n",
    "В первую очередь проверим есть ли пропущенные значения"
   ]
  },
  {
   "cell_type": "code",
   "execution_count": 201,
   "metadata": {},
   "outputs": [
    {
     "data": {
      "text/plain": [
       "Posted On            0\n",
       "BHK                  0\n",
       "Rent                 0\n",
       "Size                 0\n",
       "Floor                0\n",
       "Area Type            0\n",
       "Area Locality        0\n",
       "City                 0\n",
       "Furnishing Status    0\n",
       "Tenant Preferred     0\n",
       "Bathroom             0\n",
       "Point of Contact     0\n",
       "dtype: int64"
      ]
     },
     "execution_count": 201,
     "metadata": {},
     "output_type": "execute_result"
    }
   ],
   "source": [
    "data.isna().sum()"
   ]
  },
  {
   "cell_type": "markdown",
   "metadata": {},
   "source": [
    "Пропущенных значений нет"
   ]
  },
  {
   "cell_type": "code",
   "execution_count": 202,
   "metadata": {},
   "outputs": [
    {
     "name": "stdout",
     "output_type": "stream",
     "text": [
      "<class 'pandas.core.frame.DataFrame'>\n",
      "RangeIndex: 4746 entries, 0 to 4745\n",
      "Data columns (total 12 columns):\n",
      " #   Column             Non-Null Count  Dtype \n",
      "---  ------             --------------  ----- \n",
      " 0   Posted On          4746 non-null   object\n",
      " 1   BHK                4746 non-null   int64 \n",
      " 2   Rent               4746 non-null   int64 \n",
      " 3   Size               4746 non-null   int64 \n",
      " 4   Floor              4746 non-null   object\n",
      " 5   Area Type          4746 non-null   object\n",
      " 6   Area Locality      4746 non-null   object\n",
      " 7   City               4746 non-null   object\n",
      " 8   Furnishing Status  4746 non-null   object\n",
      " 9   Tenant Preferred   4746 non-null   object\n",
      " 10  Bathroom           4746 non-null   int64 \n",
      " 11  Point of Contact   4746 non-null   object\n",
      "dtypes: int64(4), object(8)\n",
      "memory usage: 445.1+ KB\n"
     ]
    }
   ],
   "source": [
    "data.info()"
   ]
  },
  {
   "cell_type": "code",
   "execution_count": 203,
   "metadata": {},
   "outputs": [
    {
     "name": "stdout",
     "output_type": "stream",
     "text": [
      "<class 'pandas.core.frame.DataFrame'>\n",
      "RangeIndex: 4746 entries, 0 to 4745\n",
      "Data columns (total 12 columns):\n",
      " #   Column             Non-Null Count  Dtype         \n",
      "---  ------             --------------  -----         \n",
      " 0   Posted On          4746 non-null   datetime64[ns]\n",
      " 1   BHK                4746 non-null   int64         \n",
      " 2   Rent               4746 non-null   int64         \n",
      " 3   Size               4746 non-null   int64         \n",
      " 4   Floor              4746 non-null   object        \n",
      " 5   Area Type          4746 non-null   object        \n",
      " 6   Area Locality      4746 non-null   object        \n",
      " 7   City               4746 non-null   object        \n",
      " 8   Furnishing Status  4746 non-null   object        \n",
      " 9   Tenant Preferred   4746 non-null   object        \n",
      " 10  Bathroom           4746 non-null   int64         \n",
      " 11  Point of Contact   4746 non-null   object        \n",
      "dtypes: datetime64[ns](1), int64(4), object(7)\n",
      "memory usage: 445.1+ KB\n"
     ]
    }
   ],
   "source": [
    "# у столбца Posted On указан тип object, преобразуем его во время.\n",
    "data['Posted On'] = pd.to_datetime(data['Posted On'])\n",
    "data.info()"
   ]
  },
  {
   "cell_type": "code",
   "execution_count": 204,
   "metadata": {},
   "outputs": [
    {
     "data": {
      "text/plain": [
       "[('Posted On', 81),\n",
       " ('BHK', 6),\n",
       " ('Rent', 243),\n",
       " ('Size', 615),\n",
       " ('Floor', 480),\n",
       " ('Area Type', 3),\n",
       " ('Area Locality', 2235),\n",
       " ('City', 6),\n",
       " ('Furnishing Status', 3),\n",
       " ('Tenant Preferred', 3),\n",
       " ('Bathroom', 8),\n",
       " ('Point of Contact', 3)]"
      ]
     },
     "execution_count": 204,
     "metadata": {},
     "output_type": "execute_result"
    }
   ],
   "source": [
    "[(data.columns[i], data.iloc[:, i].unique().shape[0]) for i in range(len(data.columns))]"
   ]
  },
  {
   "cell_type": "markdown",
   "metadata": {},
   "source": [
    "В столбце `Area Locality`, где хранится информация о местоположении дома, слишком много уникальных значений."
   ]
  },
  {
   "cell_type": "code",
   "execution_count": 205,
   "metadata": {},
   "outputs": [],
   "source": [
    "data = data.drop(['Area Locality', 'Posted On', 'Floor'],axis=1)"
   ]
  },
  {
   "cell_type": "code",
   "execution_count": 206,
   "metadata": {},
   "outputs": [
    {
     "data": {
      "text/html": [
       "<div>\n",
       "<style scoped>\n",
       "    .dataframe tbody tr th:only-of-type {\n",
       "        vertical-align: middle;\n",
       "    }\n",
       "\n",
       "    .dataframe tbody tr th {\n",
       "        vertical-align: top;\n",
       "    }\n",
       "\n",
       "    .dataframe thead th {\n",
       "        text-align: right;\n",
       "    }\n",
       "</style>\n",
       "<table border=\"1\" class=\"dataframe\">\n",
       "  <thead>\n",
       "    <tr style=\"text-align: right;\">\n",
       "      <th></th>\n",
       "      <th>BHK</th>\n",
       "      <th>Rent</th>\n",
       "      <th>Size</th>\n",
       "      <th>Bathroom</th>\n",
       "      <th>Area Type_Built Area</th>\n",
       "      <th>Area Type_Carpet Area</th>\n",
       "      <th>Area Type_Super Area</th>\n",
       "      <th>City_Bangalore</th>\n",
       "      <th>City_Chennai</th>\n",
       "      <th>City_Delhi</th>\n",
       "      <th>...</th>\n",
       "      <th>City_Mumbai</th>\n",
       "      <th>Furnishing Status_Furnished</th>\n",
       "      <th>Furnishing Status_Semi-Furnished</th>\n",
       "      <th>Furnishing Status_Unfurnished</th>\n",
       "      <th>Tenant Preferred_Bachelors</th>\n",
       "      <th>Tenant Preferred_Bachelors/Family</th>\n",
       "      <th>Tenant Preferred_Family</th>\n",
       "      <th>Point of Contact_Contact Agent</th>\n",
       "      <th>Point of Contact_Contact Builder</th>\n",
       "      <th>Point of Contact_Contact Owner</th>\n",
       "    </tr>\n",
       "  </thead>\n",
       "  <tbody>\n",
       "    <tr>\n",
       "      <th>0</th>\n",
       "      <td>2</td>\n",
       "      <td>10000</td>\n",
       "      <td>1100</td>\n",
       "      <td>2</td>\n",
       "      <td>False</td>\n",
       "      <td>False</td>\n",
       "      <td>True</td>\n",
       "      <td>False</td>\n",
       "      <td>False</td>\n",
       "      <td>False</td>\n",
       "      <td>...</td>\n",
       "      <td>False</td>\n",
       "      <td>False</td>\n",
       "      <td>False</td>\n",
       "      <td>True</td>\n",
       "      <td>False</td>\n",
       "      <td>True</td>\n",
       "      <td>False</td>\n",
       "      <td>False</td>\n",
       "      <td>False</td>\n",
       "      <td>True</td>\n",
       "    </tr>\n",
       "    <tr>\n",
       "      <th>1</th>\n",
       "      <td>2</td>\n",
       "      <td>20000</td>\n",
       "      <td>800</td>\n",
       "      <td>1</td>\n",
       "      <td>False</td>\n",
       "      <td>False</td>\n",
       "      <td>True</td>\n",
       "      <td>False</td>\n",
       "      <td>False</td>\n",
       "      <td>False</td>\n",
       "      <td>...</td>\n",
       "      <td>False</td>\n",
       "      <td>False</td>\n",
       "      <td>True</td>\n",
       "      <td>False</td>\n",
       "      <td>False</td>\n",
       "      <td>True</td>\n",
       "      <td>False</td>\n",
       "      <td>False</td>\n",
       "      <td>False</td>\n",
       "      <td>True</td>\n",
       "    </tr>\n",
       "    <tr>\n",
       "      <th>2</th>\n",
       "      <td>2</td>\n",
       "      <td>17000</td>\n",
       "      <td>1000</td>\n",
       "      <td>1</td>\n",
       "      <td>False</td>\n",
       "      <td>False</td>\n",
       "      <td>True</td>\n",
       "      <td>False</td>\n",
       "      <td>False</td>\n",
       "      <td>False</td>\n",
       "      <td>...</td>\n",
       "      <td>False</td>\n",
       "      <td>False</td>\n",
       "      <td>True</td>\n",
       "      <td>False</td>\n",
       "      <td>False</td>\n",
       "      <td>True</td>\n",
       "      <td>False</td>\n",
       "      <td>False</td>\n",
       "      <td>False</td>\n",
       "      <td>True</td>\n",
       "    </tr>\n",
       "    <tr>\n",
       "      <th>3</th>\n",
       "      <td>2</td>\n",
       "      <td>10000</td>\n",
       "      <td>800</td>\n",
       "      <td>1</td>\n",
       "      <td>False</td>\n",
       "      <td>False</td>\n",
       "      <td>True</td>\n",
       "      <td>False</td>\n",
       "      <td>False</td>\n",
       "      <td>False</td>\n",
       "      <td>...</td>\n",
       "      <td>False</td>\n",
       "      <td>False</td>\n",
       "      <td>False</td>\n",
       "      <td>True</td>\n",
       "      <td>False</td>\n",
       "      <td>True</td>\n",
       "      <td>False</td>\n",
       "      <td>False</td>\n",
       "      <td>False</td>\n",
       "      <td>True</td>\n",
       "    </tr>\n",
       "    <tr>\n",
       "      <th>4</th>\n",
       "      <td>2</td>\n",
       "      <td>7500</td>\n",
       "      <td>850</td>\n",
       "      <td>1</td>\n",
       "      <td>False</td>\n",
       "      <td>True</td>\n",
       "      <td>False</td>\n",
       "      <td>False</td>\n",
       "      <td>False</td>\n",
       "      <td>False</td>\n",
       "      <td>...</td>\n",
       "      <td>False</td>\n",
       "      <td>False</td>\n",
       "      <td>False</td>\n",
       "      <td>True</td>\n",
       "      <td>True</td>\n",
       "      <td>False</td>\n",
       "      <td>False</td>\n",
       "      <td>False</td>\n",
       "      <td>False</td>\n",
       "      <td>True</td>\n",
       "    </tr>\n",
       "  </tbody>\n",
       "</table>\n",
       "<p>5 rows × 22 columns</p>\n",
       "</div>"
      ],
      "text/plain": [
       "   BHK   Rent  Size  Bathroom  Area Type_Built Area  Area Type_Carpet Area  \\\n",
       "0    2  10000  1100         2                 False                  False   \n",
       "1    2  20000   800         1                 False                  False   \n",
       "2    2  17000  1000         1                 False                  False   \n",
       "3    2  10000   800         1                 False                  False   \n",
       "4    2   7500   850         1                 False                   True   \n",
       "\n",
       "   Area Type_Super Area  City_Bangalore  City_Chennai  City_Delhi  ...  \\\n",
       "0                  True           False         False       False  ...   \n",
       "1                  True           False         False       False  ...   \n",
       "2                  True           False         False       False  ...   \n",
       "3                  True           False         False       False  ...   \n",
       "4                 False           False         False       False  ...   \n",
       "\n",
       "   City_Mumbai  Furnishing Status_Furnished  Furnishing Status_Semi-Furnished  \\\n",
       "0        False                        False                             False   \n",
       "1        False                        False                              True   \n",
       "2        False                        False                              True   \n",
       "3        False                        False                             False   \n",
       "4        False                        False                             False   \n",
       "\n",
       "   Furnishing Status_Unfurnished  Tenant Preferred_Bachelors  \\\n",
       "0                           True                       False   \n",
       "1                          False                       False   \n",
       "2                          False                       False   \n",
       "3                           True                       False   \n",
       "4                           True                        True   \n",
       "\n",
       "   Tenant Preferred_Bachelors/Family  Tenant Preferred_Family  \\\n",
       "0                               True                    False   \n",
       "1                               True                    False   \n",
       "2                               True                    False   \n",
       "3                               True                    False   \n",
       "4                              False                    False   \n",
       "\n",
       "   Point of Contact_Contact Agent  Point of Contact_Contact Builder  \\\n",
       "0                           False                             False   \n",
       "1                           False                             False   \n",
       "2                           False                             False   \n",
       "3                           False                             False   \n",
       "4                           False                             False   \n",
       "\n",
       "   Point of Contact_Contact Owner  \n",
       "0                            True  \n",
       "1                            True  \n",
       "2                            True  \n",
       "3                            True  \n",
       "4                            True  \n",
       "\n",
       "[5 rows x 22 columns]"
      ]
     },
     "execution_count": 206,
     "metadata": {},
     "output_type": "execute_result"
    }
   ],
   "source": [
    "columns = ['Area Type', 'City', 'Furnishing Status', 'Tenant Preferred', 'Point of Contact']\n",
    "data = pd.get_dummies(data, columns=columns)\n",
    "\n",
    "data.head()"
   ]
  },
  {
   "cell_type": "code",
   "execution_count": 207,
   "metadata": {},
   "outputs": [
    {
     "data": {
      "text/plain": [
       "Rent                                 1.000000\n",
       "Bathroom                             0.441215\n",
       "Size                                 0.413551\n",
       "BHK                                  0.369718\n",
       "Point of Contact_Contact Agent       0.339750\n",
       "City_Mumbai                          0.327038\n",
       "Area Type_Carpet Area                0.215769\n",
       "Furnishing Status_Furnished          0.110576\n",
       "Tenant Preferred_Family              0.063941\n",
       "Furnishing Status_Semi-Furnished     0.045309\n",
       "Tenant Preferred_Bachelors           0.042151\n",
       "Point of Contact_Contact Builder    -0.005482\n",
       "Area Type_Built Area                -0.006439\n",
       "City_Delhi                          -0.027072\n",
       "City_Bangalore                      -0.061512\n",
       "Tenant Preferred_Bachelors/Family   -0.078774\n",
       "City_Chennai                        -0.082361\n",
       "City_Hyderabad                      -0.087465\n",
       "City_Kolkata                        -0.105322\n",
       "Furnishing Status_Unfurnished       -0.126271\n",
       "Area Type_Super Area                -0.215499\n",
       "Point of Contact_Contact Owner      -0.339521\n",
       "Name: Rent, dtype: float64"
      ]
     },
     "execution_count": 207,
     "metadata": {},
     "output_type": "execute_result"
    }
   ],
   "source": [
    "\n",
    "data.corr()['Rent'].sort_values(ascending=False)"
   ]
  },
  {
   "cell_type": "markdown",
   "metadata": {},
   "source": [
    "### Разбиваем данные и масштабируем данные"
   ]
  },
  {
   "cell_type": "code",
   "execution_count": 208,
   "metadata": {},
   "outputs": [],
   "source": [
    "# Разделение на признаки и целевую переменную\n",
    "X = data.drop('Rent', axis=1)\n",
    "y = data['Rent']\n",
    "\n",
    "# Разделение на обучающую и тестовую выборки\n",
    "X_train, X_test, y_train, y_test = train_test_split(X, y, test_size=0.2, random_state=42)"
   ]
  },
  {
   "cell_type": "code",
   "execution_count": 209,
   "metadata": {},
   "outputs": [],
   "source": [
    "# Нормализуем данные\n",
    "scaler = StandardScaler()\n",
    "sc_y = StandardScaler()\n",
    "X_train = scaler.fit_transform(X_train)\n",
    "X_test = scaler.transform(X_test)"
   ]
  },
  {
   "cell_type": "markdown",
   "metadata": {},
   "source": [
    "### Найдем решение задачи в замкнутом виде с помощью псевдообратной матрицы.\n",
    "Для этого воспользуемся функциями из numpy, а позже получим те же значения с помощью функций из sklearn для сравнения"
   ]
  },
  {
   "cell_type": "code",
   "execution_count": 210,
   "metadata": {},
   "outputs": [
    {
     "name": "stdout",
     "output_type": "stream",
     "text": [
      "[  2718.71400164  24252.54009331   9483.51722303    112.77729514\n",
      "  -8911.87925602  -2583.69311496  -3204.69861232  -5315.75091805\n",
      "   1991.97310378 -10307.56314367  -2029.91832984  18775.40912466\n",
      "   2064.75499528  -1175.8199536    -812.73796294   -802.5264888\n",
      "  -1136.57379652  -4161.14316176  -2849.73755441    354.45674058\n",
      "  -6900.31629318]\n"
     ]
    }
   ],
   "source": [
    "# Найдем решение с помощью псевдообратной матрицы для OLS\n",
    "def closed_form_ols(X, y):\n",
    "    X_transpose = np.transpose(X)\n",
    "    X_transpose_X_inv = np.linalg.inv(np.dot(X_transpose, X))\n",
    "    X_transpose_y = np.dot(X_transpose, y)\n",
    "    theta = np.dot(X_transpose_X_inv, X_transpose_y)\n",
    "    return theta\n",
    "\n",
    "theta_ols = closed_form_ols(X_train, y_train)\n",
    "print(theta_ols)"
   ]
  },
  {
   "cell_type": "code",
   "execution_count": 211,
   "metadata": {},
   "outputs": [
    {
     "name": "stdout",
     "output_type": "stream",
     "text": [
      "[ 3078.33787597 23243.00165847 10195.33294289   190.96017714\n",
      "   746.19018834  -754.93343456 -2334.65454623 -5385.25080894\n",
      "   433.16182566 -8751.39617575 -2749.9417648  17614.66879448\n",
      "  2332.46827683  -962.85094129  -684.12523805  1029.32061116\n",
      "   862.03200272 -2607.58937062  2185.11226706   471.88398607\n",
      " -2201.03047559]\n"
     ]
    }
   ],
   "source": [
    "# Найдем решение с помощью псевдообратной матрицы для Ridge\n",
    "def closed_form_ridge(X, y, alpha):\n",
    "    X_transpose = np.transpose(X)\n",
    "    identity = np.eye(X.shape[1])\n",
    "    X_transpose_X_inv = np.linalg.inv(np.dot(X_transpose, X) + alpha * identity)\n",
    "    X_transpose_y = np.dot(X_transpose, y)\n",
    "    theta = np.dot(X_transpose_X_inv, X_transpose_y)\n",
    "    return theta\n",
    "\n",
    "theta_ridge = closed_form_ridge(X_train, y_train, alpha=0.1)\n",
    "print(theta_ridge)"
   ]
  },
  {
   "cell_type": "code",
   "execution_count": 212,
   "metadata": {},
   "outputs": [
    {
     "name": "stdout",
     "output_type": "stream",
     "text": [
      "[35149.99879817  3694.49054164 22071.0631258  10636.68360586\n",
      "   194.33126011   699.39394668  -708.29357239 -2191.76966446\n",
      " -5315.26198664   279.8805297  -8599.96006643 -2704.41769419\n",
      " 17355.07303614  2374.93540232  -965.79550268  -711.55790505\n",
      "  1048.38112454   855.47558035 -2622.13515646  2311.06663242\n",
      "   464.78900678 -2326.71140878]\n"
     ]
    }
   ],
   "source": [
    "def gradient_descent(X, y, theta_init, learning_rate, num_iterations):\n",
    "    theta = theta_init.copy()\n",
    "    m = len(y)\n",
    "    for iteration in range(num_iterations):\n",
    "        error = np.dot(X, theta) - y\n",
    "        gradient = (1/m) * np.dot(X.T, error)\n",
    "        theta = theta - learning_rate * gradient  # Reshape the gradient array\n",
    "    return theta\n",
    "\n",
    "X_train_with_bias = np.c_[np.ones((X_train.shape[0], 1)), X_train]\n",
    "X_test_with_bias = np.c_[np.ones((X_test.shape[0], 1)), X_test]\n",
    "\n",
    "theta_init = np.zeros(X_train_with_bias.shape[1])  # Инициализируем нулями\n",
    "learning_rate = 0.01 \n",
    "num_iterations = 1000  \n",
    "\n",
    "theta_gradient_descent = gradient_descent(X_train_with_bias, y_train, theta_init, learning_rate, num_iterations)\n",
    "\n",
    "print(theta_gradient_descent)"
   ]
  },
  {
   "cell_type": "code",
   "execution_count": 213,
   "metadata": {},
   "outputs": [
    {
     "name": "stdout",
     "output_type": "stream",
     "text": [
      "Линейная регрессия: y = 2718.714001636131 * x1 + 24252.54009331136 * x2 + 9483.517223028866 * x3 + 112.77729514396437 * x4 + -8911.879256019412 * x5 + -2583.693114956183 * x6 + -3204.6986123241763 * x7 + -5315.7509180525185 * x8 + 1991.9731037793838 * x9 + -10307.56314366815 * x10 + -2029.9183298350747 * x11 + 18775.409124657053 * x12 + 2064.75499527563 * x13 + -1175.8199536016793 * x14 + -812.7379629442964 * x15 + -802.5264887981089 * x16 + -1136.5737965210628 * x17 + -4161.143161760814 * x18 + -2849.7375544145525 * x19 + 354.4567405835712 * x20 + -6900.316293178943\n",
      "Ridge (L2): y = 3078.337875965751 * x1 + 23243.001658472214 * x2 + 10195.332942889905 * x3 + 190.96017714071272 * x4 + 746.1901883434894 * x5 + -754.9334345649445 * x6 + -2334.654546226496 * x7 + -5385.250808938496 * x8 + 433.16182566212245 * x9 + -8751.396175750846 * x10 + -2749.9417648006224 * x11 + 17614.668794482597 * x12 + 2332.468276826155 * x13 + -962.8509412945313 * x14 + -684.1252380452851 * x15 + 1029.3206111619968 * x16 + 862.0320027246764 * x17 + -2607.5893706222796 * x18 + 2185.1122670613336 * x19 + 471.88398607443963 * x20 + -2201.030475590329\n",
      "Градиентный спуск: y = 35149.9987981736 * x1 + 3694.490541642669 * x2 + 22071.06312579911 * x3 + 10636.683605860648 * x4 + 194.33126010559744 * x5 + 699.3939466774057 * x6 + -708.2935723939789 * x7 + -2191.7696644617563 * x8 + -5315.26198663809 * x9 + 279.88052969560965 * x10 + -8599.960066430205 * x11 + -2704.417694188231 * x12 + 17355.073036135454 * x13 + 2374.9354023232977 * x14 + -965.7955026834182 * x15 + -711.5579050532014 * x16 + 1048.381124539672 * x17 + 855.4755803525455 * x18 + -2622.1351564572437 * x19 + 2311.0666324170256 * x20 + 464.78900678006886\n"
     ]
    }
   ],
   "source": [
    "#Посмотрим на полученные модели\n",
    "n = X.shape[1] - 1\n",
    "linear_function_ols = \"y = \"\n",
    "for i in range(n):\n",
    "    linear_function_ols += f\"{theta_ols[i]} * x{i+1} + \"\n",
    "linear_function_ols += f\"{theta_ols[n]}\"\n",
    "print(\"Линейная регрессия:\", linear_function_ols)\n",
    "\n",
    "\n",
    "linear_function_ridge = \"y = \"\n",
    "for i in range(n):\n",
    "    linear_function_ridge += f\"{theta_ridge[i]} * x{i+1} + \"\n",
    "linear_function_ridge += f\"{theta_ridge[n]}\"\n",
    "print(\"Ridge (L2):\", linear_function_ridge)\n",
    "\n",
    "\n",
    "linear_function_gradient_descent = \"y = \"\n",
    "for i in range(n):\n",
    "    linear_function_gradient_descent += f\"{theta_gradient_descent[i]} * x{i+1} + \"\n",
    "linear_function_gradient_descent += f\"{theta_gradient_descent[n]}\"\n",
    "print(\"Градиентный спуск:\", linear_function_gradient_descent)\n"
   ]
  },
  {
   "cell_type": "code",
   "execution_count": 214,
   "metadata": {},
   "outputs": [
    {
     "name": "stdout",
     "output_type": "stream",
     "text": [
      "Линейная регрессия\n",
      "Mean Absolute Error (MAE): 36946.69564637552\n",
      "Mean Squared Error (MSE): 3154829916.4354167\n",
      "Root Mean Squared Error (RMSE): 56167.87263583531\n",
      "\n",
      "\n",
      "Ridge (L2)\n",
      "Mean Absolute Error (MAE): 36870.67660011662\n",
      "Mean Squared Error (MSE): 3105682758.908532\n",
      "Root Mean Squared Error (RMSE): 55728.65294360283\n",
      "\n",
      "\n",
      "Градиентный спуск\n",
      "Mean Absolute Error (MAE): 22171.447982042526\n",
      "Mean Squared Error (MSE): 1920221117.704339\n",
      "Root Mean Squared Error (RMSE): 43820.327676825276\n",
      "\n",
      "\n"
     ]
    }
   ],
   "source": [
    "\n",
    "def print_metrics_for_theta(X_test,theta):\n",
    "    y_pred = np.dot(X_test, theta)\n",
    "    mae = np.mean(np.abs(y_pred - y_test))\n",
    "    mse = np.mean((y_pred - y_test) ** 2)\n",
    "    rmse = np.sqrt(mse)\n",
    "    print(\"Mean Absolute Error (MAE):\", mae)\n",
    "    print(\"Mean Squared Error (MSE):\", mse)\n",
    "    print(\"Root Mean Squared Error (RMSE):\", rmse)\n",
    "    print(\"\\n\")\n",
    "\n",
    "print(\"Линейная регрессия\")\n",
    "print_metrics_for_theta(X_test, theta_ols)\n",
    "print(\"Ridge (L2)\")\n",
    "print_metrics_for_theta(X_test, theta_ridge)\n",
    "print(\"Градиентный спуск\")\n",
    "print_metrics_for_theta(X_test_with_bias, theta_gradient_descent)\n"
   ]
  },
  {
   "cell_type": "markdown",
   "metadata": {},
   "source": [
    "### Какая модель имеет наименьшее значение функции потерь на тестовой выборке?\n",
    "\n",
    "\n",
    "**Наименьшее значение функции потерь MSE на тестовой выборке имеет модель, полученная градиентным спуском, следовательно, она имеет наилучшую точность**\n",
    "\n",
    "\n",
    "Значение функции потерь для случая с L2 регуляцией меньше, чем без него. Регуляризация помогает избежать эффекта переобучения в данном примере. Использование L2-регуляризации (Ridge) позволяет штрафовать большие значения коэффициентов модели, что помогает уменьшить переобучение."
   ]
  },
  {
   "cell_type": "markdown",
   "metadata": {},
   "source": [
    "### Моделирование\n"
   ]
  },
  {
   "cell_type": "code",
   "execution_count": 215,
   "metadata": {},
   "outputs": [
    {
     "name": "stdout",
     "output_type": "stream",
     "text": [
      "Значения функции потерь (линейная регрессия):\n",
      "MAE: 22148.57412587433\n",
      "MSE: 1912217685.5071487\n",
      "RMSE: 43728.91132314123\n",
      "\n",
      "\n"
     ]
    }
   ],
   "source": [
    "from numpy import ndarray\n",
    "# Модель линейной регрессии без регуляризации\n",
    "ols_linear_reg = LinearRegression()\n",
    "ols_linear_reg.fit(X_train, y_train)\n",
    "ols_linear_reg_prediction = ols_linear_reg.predict(X_test)\n",
    "\n",
    "def print_metrics(prediction: ndarray):\n",
    "    # Evaluation metrics\n",
    "    mae = metrics.mean_absolute_error(y_test, prediction)\n",
    "    mse=  metrics.mean_squared_error(y_test, prediction)\n",
    "    rmse =  np.sqrt(mse)\n",
    "    print('MAE:', mae)\n",
    "    print('MSE:', mse)\n",
    "    print('RMSE:', rmse)\n",
    "    print('\\n')\n",
    "\n",
    "print(\"Значения функции потерь (линейная регрессия):\")\n",
    "print_metrics(ols_linear_reg_prediction)\n"
   ]
  },
  {
   "cell_type": "code",
   "execution_count": 216,
   "metadata": {},
   "outputs": [
    {
     "name": "stdout",
     "output_type": "stream",
     "text": [
      "Значения функции потерь (регуляризация Ridge):\n",
      "MAE: 22231.23802532524\n",
      "MSE: 1911230601.2362475\n",
      "RMSE: 43717.62346281243\n",
      "\n",
      "\n"
     ]
    }
   ],
   "source": [
    "# Модель линейной регрессии с L2-регуляризацией (Ridge)\n",
    "ridge_reg = Ridge(alpha=0.5)\n",
    "ridge_reg.fit(X_train, y_train)\n",
    "ridge_reg_prediction = ridge_reg.predict(X_test)\n",
    "print(\"Значения функции потерь (регуляризация Ridge):\")\n",
    "print_metrics(ridge_reg_prediction)"
   ]
  },
  {
   "cell_type": "markdown",
   "metadata": {},
   "source": [
    "Получим модель линейной регрессии с помощью стохастического градиентного спуска"
   ]
  },
  {
   "cell_type": "code",
   "execution_count": 217,
   "metadata": {},
   "outputs": [
    {
     "name": "stdout",
     "output_type": "stream",
     "text": [
      "Значения функции потерь (Стохастический градиентный спуск):\n",
      "MAE: 67556.44778540895\n",
      "MSE: 9254697805.888643\n",
      "RMSE: 96201.3399381144\n",
      "\n",
      "\n",
      "Градиент:\n",
      " [-67805.62804351 -53887.5618814  -62354.71336614   1523.69546816\n",
      " -53456.44543932  53384.66792072 -18645.52095505 -20913.45160433\n",
      " -11985.19469922  76273.79714109  -5753.73858863 -19813.35097088\n",
      " -17185.03899769 -48272.42950025  61890.43733709 -25366.18094467\n",
      "  35937.77299339 -21414.32697808 -32118.96863782 896515.05273461\n",
      "    978.40049224]\n"
     ]
    }
   ],
   "source": [
    "sgdr_reg = SGDRegressor(tol=.0001, eta0=.01) \n",
    "sgdr_reg.fit(X_train, y_train)\n",
    "sgdr_reg_prediction = sgdr_reg.predict(X_test)\n",
    "print(\"Значения функции потерь (Стохастический градиентный спуск):\")\n",
    "print_metrics(sgdr_reg_prediction)\n",
    "\n",
    "n = X.shape[1] - 1\n",
    "\n",
    "# Найдем градиент\n",
    "theta = sgdr_reg.coef_ # коэффициенты\n",
    "m = len(X_train)  # количество характеристик\n",
    "\n",
    "gradient = (1/m) * np.dot(X_train.T, (np.dot(X_train, theta) - y_train))\n",
    "\n",
    "print(f\"Градиент:\\n {gradient}\")"
   ]
  },
  {
   "cell_type": "markdown",
   "metadata": {},
   "source": [
    "### Какие признаки оказывают наибольший вклад в точность определения стоимости аренды?\n",
    "\n",
    "Чтобы определить признаки, которые оказывают наибольший вклад в точность определения стоимости аренды, можно использовать коэффициенты модели линейной регрессии. Чем больше абсолютное значение коэффициента, тем больший вклад вносит соответствующий признак."
   ]
  },
  {
   "cell_type": "code",
   "execution_count": 218,
   "metadata": {},
   "outputs": [
    {
     "name": "stdout",
     "output_type": "stream",
     "text": [
      "Наиболее важные признаки для линейной регрессии:\n",
      "                              Признак   Коэффициент\n",
      "5                Area Type_Super Area  2.203124e+17\n",
      "4               Area Type_Carpet Area  2.203049e+17\n",
      "20     Point of Contact_Contact Owner  1.284339e+17\n",
      "18     Point of Contact_Contact Agent  1.284063e+17\n",
      "16  Tenant Preferred_Bachelors/Family -8.776834e+16\n",
      "11                        City_Mumbai  8.528406e+16\n",
      "6                      City_Bangalore  8.337818e+16\n",
      "7                        City_Chennai  8.289407e+16\n",
      "9                      City_Hyderabad  8.135026e+16\n",
      "15         Tenant Preferred_Bachelors -7.489404e+16\n",
      "8                          City_Delhi  7.094643e+16\n",
      "10                       City_Kolkata  6.545185e+16\n",
      "17            Tenant Preferred_Family -5.857866e+16\n",
      "3                Area Type_Built Area  1.011634e+16\n",
      "13   Furnishing Status_Semi-Furnished  7.983530e+15\n",
      "14      Furnishing Status_Unfurnished  7.775199e+15\n",
      "12        Furnishing Status_Furnished  5.576135e+15\n",
      "19   Point of Contact_Contact Builder  4.460180e+15\n",
      "1                                Size  2.313488e+04\n",
      "2                            Bathroom  1.037663e+04\n",
      "0                                 BHK  2.788108e+03\n"
     ]
    }
   ],
   "source": [
    "# Выведем все коэффициенты от самого высокого по модулю до самого низкого (т.е. от более значимых до менее значимых) для каждой из представленных моделей\n",
    "feature_importance = pd.DataFrame({\"Признак\": X.columns, \"Коэффициент\": ols_linear_reg.coef_})\n",
    "feature_importance_sorted = feature_importance.iloc[feature_importance['Коэффициент'].abs().argsort()[::-1]]\n",
    "print(\"Наиболее важные признаки для линейной регрессии:\")\n",
    "print(feature_importance_sorted)"
   ]
  },
  {
   "cell_type": "code",
   "execution_count": 219,
   "metadata": {},
   "outputs": [
    {
     "name": "stdout",
     "output_type": "stream",
     "text": [
      "Наиболее важные признаки для Ridge:\n",
      "                              Признак   Коэффициент\n",
      "1                                Size  23236.682368\n",
      "11                        City_Mumbai  17611.681952\n",
      "2                            Bathroom  10196.250431\n",
      "9                      City_Hyderabad  -8749.633215\n",
      "7                        City_Chennai  -5384.293605\n",
      "0                                 BHK   3081.155265\n",
      "10                       City_Kolkata  -2749.625945\n",
      "17            Tenant Preferred_Family  -2607.177939\n",
      "6                      City_Bangalore  -2333.885349\n",
      "12        Furnishing Status_Furnished   2332.687384\n",
      "20     Point of Contact_Contact Owner  -2202.134926\n",
      "18     Point of Contact_Contact Agent   2186.221892\n",
      "15         Tenant Preferred_Bachelors   1029.110425\n",
      "13   Furnishing Status_Semi-Furnished   -962.767640\n",
      "16  Tenant Preferred_Bachelors/Family    861.936758\n",
      "5                Area Type_Super Area   -755.017416\n",
      "4               Area Type_Carpet Area    746.276894\n",
      "14      Furnishing Status_Unfurnished   -684.367909\n",
      "19   Point of Contact_Contact Builder    471.741869\n",
      "8                          City_Delhi    432.417052\n",
      "3                Area Type_Built Area    190.900927\n"
     ]
    }
   ],
   "source": [
    "\n",
    "feature_importance = pd.DataFrame({\"Признак\": X.columns, \"Коэффициент\": ridge_reg.coef_})\n",
    "feature_importance_sorted = feature_importance.iloc[feature_importance['Коэффициент'].abs().argsort()[::-1]]\n",
    "print(\"Наиболее важные признаки для Ridge:\")\n",
    "print(feature_importance_sorted)"
   ]
  },
  {
   "cell_type": "code",
   "execution_count": 220,
   "metadata": {},
   "outputs": [
    {
     "name": "stdout",
     "output_type": "stream",
     "text": [
      "Наиболее важные признаки для градиентного спуска:\n",
      "                              Признак    Коэффициент\n",
      "19   Point of Contact_Contact Builder  892285.770939\n",
      "9                      City_Hyderabad   31294.751366\n",
      "20     Point of Contact_Contact Owner  -30016.835819\n",
      "14      Furnishing Status_Unfurnished   20121.186770\n",
      "0                                 BHK  -18685.096358\n",
      "13   Furnishing Status_Semi-Furnished  -16085.447465\n",
      "7                        City_Chennai  -15598.806523\n",
      "4               Area Type_Carpet Area  -14199.652589\n",
      "5                Area Type_Super Area   14181.093571\n",
      "6                      City_Bangalore  -10958.985362\n",
      "11                        City_Mumbai   10506.085448\n",
      "10                       City_Kolkata  -10338.551732\n",
      "16  Tenant Preferred_Bachelors/Family    9291.582842\n",
      "1                                Size    8449.134395\n",
      "8                          City_Delhi   -7870.328010\n",
      "2                            Bathroom   -7445.441430\n",
      "17            Tenant Preferred_Family   -6423.413025\n",
      "15         Tenant Preferred_Bachelors   -5864.709530\n",
      "12        Furnishing Status_Furnished   -5026.346339\n",
      "18     Point of Contact_Contact Agent    -970.172956\n",
      "3                Area Type_Built Area     393.692513\n"
     ]
    }
   ],
   "source": [
    "feature_importance = pd.DataFrame({\"Признак\": X.columns, \"Коэффициент\": sgdr_reg.coef_})\n",
    "feature_importance_sorted = feature_importance.iloc[feature_importance['Коэффициент'].abs().argsort()[::-1]]\n",
    "print(\"Наиболее важные признаки для градиентного спуска:\")\n",
    "print(feature_importance_sorted)"
   ]
  }
 ],
 "metadata": {
  "kernelspec": {
   "display_name": "venv",
   "language": "python",
   "name": "python3"
  },
  "language_info": {
   "codemirror_mode": {
    "name": "ipython",
    "version": 3
   },
   "file_extension": ".py",
   "mimetype": "text/x-python",
   "name": "python",
   "nbconvert_exporter": "python",
   "pygments_lexer": "ipython3",
   "version": "3.10.7"
  }
 },
 "nbformat": 4,
 "nbformat_minor": 2
}
