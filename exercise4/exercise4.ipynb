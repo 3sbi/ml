{
 "cells": [
  {
   "cell_type": "code",
   "execution_count": 29,
   "metadata": {},
   "outputs": [],
   "source": [
    "import numpy as np\n",
    "import pandas as pd\n",
    "import matplotlib.pyplot as plt\n",
    "import tensorflow as tf\n",
    "from sklearn.model_selection import train_test_split\n",
    "from sklearn.preprocessing import normalize\n",
    "from keras.models import Sequential\n",
    "from keras.layers import Dense, Flatten, Lambda\n",
    "from keras.preprocessing.image import ImageDataGenerator\n",
    "from keras.utils import to_categorical\n",
    "# from tensorflow.keras.models import Sequential\n",
    "# from tensorflow.keras.layers import Dense, Flatten, Lambda\n",
    "# from tensorflow.keras.preprocessing.image import ImageDataGenerator\n",
    "# from tensorflow.keras.utils import to_categorical"
   ]
  },
  {
   "cell_type": "markdown",
   "metadata": {},
   "source": [
    "### Решить задачу многоклассовой классификации с помощью многослойной нейронной сети, состоящей из полносвязных слоев."
   ]
  },
  {
   "cell_type": "code",
   "execution_count": 30,
   "metadata": {},
   "outputs": [],
   "source": [
    "# загружаем данные и разбиваем их на составляющие\n",
    "train = pd.read_csv(\"./train.csv\")\n",
    "y_train = train[\"label\"]\n",
    "X_train = train.drop(labels = [\"label\"],axis = 1)"
   ]
  },
  {
   "cell_type": "code",
   "execution_count": 31,
   "metadata": {},
   "outputs": [],
   "source": [
    "\n",
    "X_train = normalize(X_train.astype('float32'), axis=1)\n",
    "\n",
    "# Из файла информацию о изображения с цифрами мы получили в виде одномерных векторов из 784 значений\n",
    "# Переформируем все данные в трехмерные матрицы 28x28x1.\n",
    "# Keras требует дополнительное измерение в конце, для каналов. \n",
    "# Если бы это были RGB-изображения, то было бы 3 канала, но поскольку у нас \"черно-белое\" изображение, мы указываем 1 серый канал.\n",
    "X_train = X_train.reshape(X_train.shape[0], 28, 28, 1)"
   ]
  },
  {
   "cell_type": "code",
   "execution_count": 32,
   "metadata": {},
   "outputs": [
    {
     "data": {
      "image/png": "[encoded data removed]",
      "text/plain": [
       "<Figure size 640x480 with 3 Axes>"
      ]
     },
     "metadata": {},
     "output_type": "display_data"
    }
   ],
   "source": [
    "# убедимся, что все ок, выведем сами тестовые изображения и соответствующие им цифры \n",
    "for i in range(6, 9):\n",
    "    plt.subplot(330 + (i+1))\n",
    "    plt.imshow(X_train[i], cmap=plt.get_cmap('gray'))\n",
    "    plt.title(y_train[i])"
   ]
  },
  {
   "cell_type": "code",
   "execution_count": 33,
   "metadata": {},
   "outputs": [],
   "source": [
    "mean_px = X_train.mean().astype(np.float32)\n",
    "std_px = X_train.std().astype(np.float32)\n",
    "\n",
    "# Нормализуем данные\n",
    "def normalize(x): \n",
    "    return (x-mean_px)/std_px"
   ]
  },
  {
   "cell_type": "markdown",
   "metadata": {},
   "source": [
    "Метки в данном случае представлены целыми числами от 0 до 9. \n",
    "Нам нужно применить one-hot encoding, чтобы преобразовать эти one-hot числовой массив (например: 2 -> [0,0,1,0,0,0,0,0,0,0,0])."
   ]
  },
  {
   "cell_type": "code",
   "execution_count": 34,
   "metadata": {},
   "outputs": [
    {
     "name": "stdout",
     "output_type": "stream",
     "text": [
      "1 преобрауется в \n",
      "[0. 1. 0. 0. 0. 0. 0. 0. 0. 0.]\n"
     ]
    }
   ],
   "source": [
    "print(f\"{y_train[0]} преобрауется в \")\n",
    "y_train = to_categorical(y_train, num_classes = 10)\n",
    "# Пример:\n",
    "print(y_train[0])"
   ]
  },
  {
   "cell_type": "code",
   "execution_count": 35,
   "metadata": {},
   "outputs": [],
   "source": [
    "X_train, X_test, y_train, y_test = train_test_split(X_train, y_train, test_size = 0.2, random_state=42)"
   ]
  },
  {
   "cell_type": "code",
   "execution_count": 36,
   "metadata": {},
   "outputs": [],
   "source": [
    "datagen = ImageDataGenerator(zoom_range = 0.1,\n",
    "                            height_shift_range = 0.1,\n",
    "                            width_shift_range = 0.1,\n",
    "                            rotation_range = 10)"
   ]
  },
  {
   "cell_type": "code",
   "execution_count": 37,
   "metadata": {},
   "outputs": [],
   "source": [
    "model = Sequential()\n",
    "model.add(Lambda(normalize,input_shape=(28, 28, 1)))\n",
    "model.add(Flatten())\n",
    "model.add(Dense(128, activation='relu')),\n",
    "model.add(Dense(128, activation='relu')),\n",
    "model.add(Dense(10, activation='softmax'))"
   ]
  },
  {
   "cell_type": "code",
   "execution_count": 38,
   "metadata": {},
   "outputs": [],
   "source": [
    "model.compile(optimizer='adam', loss='categorical_crossentropy', metrics=['accuracy'])"
   ]
  },
  {
   "cell_type": "code",
   "execution_count": 39,
   "metadata": {},
   "outputs": [
    {
     "name": "stdout",
     "output_type": "stream",
     "text": [
      "Epoch 1/29\n",
      "2095/2100 [============================>.] - ETA: 0s - loss: 0.4871 - accuracy: 0.8424\n",
      "Epoch 1: saving model to weights.01.h5\n",
      "2100/2100 [==============================] - 14s 6ms/step - loss: 0.4870 - accuracy: 0.8425 - val_loss: 0.2515 - val_accuracy: 0.9202\n",
      "Epoch 2/29\n",
      "2100/2100 [==============================] - ETA: 0s - loss: 0.2626 - accuracy: 0.9185\n",
      "Epoch 2: saving model to weights.02.h5\n",
      "2100/2100 [==============================] - 16s 7ms/step - loss: 0.2626 - accuracy: 0.9185 - val_loss: 0.1572 - val_accuracy: 0.9538\n",
      "Epoch 3/29\n",
      "2098/2100 [============================>.] - ETA: 0s - loss: 0.2170 - accuracy: 0.9329\n",
      "Epoch 3: saving model to weights.03.h5\n",
      "2100/2100 [==============================] - 14s 7ms/step - loss: 0.2170 - accuracy: 0.9329 - val_loss: 0.1264 - val_accuracy: 0.9602\n",
      "Epoch 4/29\n",
      "2097/2100 [============================>.] - ETA: 0s - loss: 0.1914 - accuracy: 0.9397\n",
      "Epoch 4: saving model to weights.04.h5\n",
      "2100/2100 [==============================] - 14s 7ms/step - loss: 0.1913 - accuracy: 0.9397 - val_loss: 0.1361 - val_accuracy: 0.9583\n",
      "Epoch 5/29\n",
      "2095/2100 [============================>.] - ETA: 0s - loss: 0.1767 - accuracy: 0.9455\n",
      "Epoch 5: saving model to weights.05.h5\n",
      "2100/2100 [==============================] - 15s 7ms/step - loss: 0.1765 - accuracy: 0.9456 - val_loss: 0.1324 - val_accuracy: 0.9576\n",
      "Epoch 6/29\n",
      "2099/2100 [============================>.] - ETA: 0s - loss: 0.1690 - accuracy: 0.9472\n",
      "Epoch 6: saving model to weights.06.h5\n",
      "2100/2100 [==============================] - 15s 7ms/step - loss: 0.1690 - accuracy: 0.9472 - val_loss: 0.1163 - val_accuracy: 0.9643\n",
      "Epoch 7/29\n",
      "2094/2100 [============================>.] - ETA: 0s - loss: 0.1552 - accuracy: 0.9521\n",
      "Epoch 7: saving model to weights.07.h5\n",
      "2100/2100 [==============================] - 16s 7ms/step - loss: 0.1550 - accuracy: 0.9521 - val_loss: 0.1054 - val_accuracy: 0.9701\n",
      "Epoch 8/29\n",
      "2099/2100 [============================>.] - ETA: 0s - loss: 0.1492 - accuracy: 0.9545\n",
      "Epoch 8: saving model to weights.08.h5\n",
      "2100/2100 [==============================] - 19s 9ms/step - loss: 0.1493 - accuracy: 0.9544 - val_loss: 0.0953 - val_accuracy: 0.9718\n",
      "Epoch 9/29\n",
      "2095/2100 [============================>.] - ETA: 0s - loss: 0.1492 - accuracy: 0.9537\n",
      "Epoch 9: saving model to weights.09.h5\n",
      "2100/2100 [==============================] - 18s 9ms/step - loss: 0.1491 - accuracy: 0.9538 - val_loss: 0.0911 - val_accuracy: 0.9745\n",
      "Epoch 10/29\n",
      "2096/2100 [============================>.] - ETA: 0s - loss: 0.1391 - accuracy: 0.9572\n",
      "Epoch 10: saving model to weights.10.h5\n",
      "2100/2100 [==============================] - 19s 9ms/step - loss: 0.1389 - accuracy: 0.9573 - val_loss: 0.0900 - val_accuracy: 0.9737\n",
      "Epoch 11/29\n",
      "2099/2100 [============================>.] - ETA: 0s - loss: 0.1307 - accuracy: 0.9587\n",
      "Epoch 11: saving model to weights.11.h5\n",
      "2100/2100 [==============================] - 17s 8ms/step - loss: 0.1307 - accuracy: 0.9587 - val_loss: 0.0949 - val_accuracy: 0.9712\n",
      "Epoch 12/29\n",
      "2096/2100 [============================>.] - ETA: 0s - loss: 0.1335 - accuracy: 0.9587\n",
      "Epoch 12: saving model to weights.12.h5\n",
      "2100/2100 [==============================] - 19s 9ms/step - loss: 0.1337 - accuracy: 0.9587 - val_loss: 0.1104 - val_accuracy: 0.9679\n",
      "Epoch 13/29\n",
      "2094/2100 [============================>.] - ETA: 0s - loss: 0.1308 - accuracy: 0.9617\n",
      "Epoch 13: saving model to weights.13.h5\n",
      "2100/2100 [==============================] - 14s 7ms/step - loss: 0.1310 - accuracy: 0.9616 - val_loss: 0.0844 - val_accuracy: 0.9742\n",
      "Epoch 14/29\n",
      "2100/2100 [==============================] - ETA: 0s - loss: 0.1246 - accuracy: 0.9626\n",
      "Epoch 14: saving model to weights.14.h5\n",
      "2100/2100 [==============================] - 15s 7ms/step - loss: 0.1246 - accuracy: 0.9626 - val_loss: 0.0776 - val_accuracy: 0.9767\n",
      "Epoch 15/29\n",
      "2093/2100 [============================>.] - ETA: 0s - loss: 0.1219 - accuracy: 0.9634\n",
      "Epoch 15: saving model to weights.15.h5\n",
      "2100/2100 [==============================] - 15s 7ms/step - loss: 0.1219 - accuracy: 0.9634 - val_loss: 0.0847 - val_accuracy: 0.9748\n",
      "Epoch 16/29\n",
      "2097/2100 [============================>.] - ETA: 0s - loss: 0.1251 - accuracy: 0.9625\n",
      "Epoch 16: saving model to weights.16.h5\n",
      "2100/2100 [==============================] - 14s 7ms/step - loss: 0.1250 - accuracy: 0.9625 - val_loss: 0.0772 - val_accuracy: 0.9770\n",
      "Epoch 17/29\n",
      "2093/2100 [============================>.] - ETA: 0s - loss: 0.1233 - accuracy: 0.9629\n",
      "Epoch 17: saving model to weights.17.h5\n",
      "2100/2100 [==============================] - 14s 6ms/step - loss: 0.1233 - accuracy: 0.9630 - val_loss: 0.1058 - val_accuracy: 0.9695\n",
      "Epoch 18/29\n",
      "2097/2100 [============================>.] - ETA: 0s - loss: 0.1183 - accuracy: 0.9644\n",
      "Epoch 18: saving model to weights.18.h5\n",
      "2100/2100 [==============================] - 13s 6ms/step - loss: 0.1184 - accuracy: 0.9643 - val_loss: 0.0939 - val_accuracy: 0.9745\n",
      "Epoch 19/29\n",
      "2093/2100 [============================>.] - ETA: 0s - loss: 0.1140 - accuracy: 0.9657\n",
      "Epoch 19: saving model to weights.19.h5\n",
      "2100/2100 [==============================] - 13s 6ms/step - loss: 0.1142 - accuracy: 0.9657 - val_loss: 0.0773 - val_accuracy: 0.9758\n",
      "Epoch 20/29\n",
      "2092/2100 [============================>.] - ETA: 0s - loss: 0.1171 - accuracy: 0.9644\n",
      "Epoch 20: saving model to weights.20.h5\n",
      "2100/2100 [==============================] - 13s 6ms/step - loss: 0.1168 - accuracy: 0.9645 - val_loss: 0.0952 - val_accuracy: 0.9731\n",
      "Epoch 21/29\n",
      "2092/2100 [============================>.] - ETA: 0s - loss: 0.1182 - accuracy: 0.9649\n",
      "Epoch 21: saving model to weights.21.h5\n",
      "2100/2100 [==============================] - 13s 6ms/step - loss: 0.1181 - accuracy: 0.9648 - val_loss: 0.0804 - val_accuracy: 0.9762\n",
      "Epoch 22/29\n",
      "2097/2100 [============================>.] - ETA: 0s - loss: 0.1129 - accuracy: 0.9663\n",
      "Epoch 22: saving model to weights.22.h5\n",
      "2100/2100 [==============================] - 14s 6ms/step - loss: 0.1128 - accuracy: 0.9663 - val_loss: 0.0715 - val_accuracy: 0.9786\n",
      "Epoch 23/29\n",
      "2092/2100 [============================>.] - ETA: 0s - loss: 0.1120 - accuracy: 0.9666\n",
      "Epoch 23: saving model to weights.23.h5\n",
      "2100/2100 [==============================] - 13s 6ms/step - loss: 0.1118 - accuracy: 0.9666 - val_loss: 0.0792 - val_accuracy: 0.9767\n",
      "Epoch 24/29\n",
      "2100/2100 [==============================] - ETA: 0s - loss: 0.1138 - accuracy: 0.9659\n",
      "Epoch 24: saving model to weights.24.h5\n",
      "2100/2100 [==============================] - 14s 7ms/step - loss: 0.1138 - accuracy: 0.9659 - val_loss: 0.0819 - val_accuracy: 0.9774\n",
      "Epoch 25/29\n",
      "2095/2100 [============================>.] - ETA: 0s - loss: 0.1066 - accuracy: 0.9681\n",
      "Epoch 25: saving model to weights.25.h5\n",
      "2100/2100 [==============================] - 14s 7ms/step - loss: 0.1064 - accuracy: 0.9682 - val_loss: 0.0792 - val_accuracy: 0.9762\n",
      "Epoch 26/29\n",
      "2098/2100 [============================>.] - ETA: 0s - loss: 0.1050 - accuracy: 0.9686\n",
      "Epoch 26: saving model to weights.26.h5\n",
      "2100/2100 [==============================] - 15s 7ms/step - loss: 0.1049 - accuracy: 0.9686 - val_loss: 0.0781 - val_accuracy: 0.9768\n",
      "Epoch 27/29\n",
      "2100/2100 [==============================] - ETA: 0s - loss: 0.1110 - accuracy: 0.9665\n",
      "Epoch 27: saving model to weights.27.h5\n",
      "2100/2100 [==============================] - 15s 7ms/step - loss: 0.1110 - accuracy: 0.9665 - val_loss: 0.0781 - val_accuracy: 0.9777\n",
      "Epoch 28/29\n",
      "2093/2100 [============================>.] - ETA: 0s - loss: 0.1059 - accuracy: 0.9692\n",
      "Epoch 28: saving model to weights.28.h5\n",
      "2100/2100 [==============================] - 15s 7ms/step - loss: 0.1057 - accuracy: 0.9693 - val_loss: 0.0763 - val_accuracy: 0.9790\n",
      "Epoch 29/29\n",
      "2099/2100 [============================>.] - ETA: 0s - loss: 0.1090 - accuracy: 0.9681\n",
      "Epoch 29: saving model to weights.29.h5\n",
      "2100/2100 [==============================] - 20s 9ms/step - loss: 0.1090 - accuracy: 0.9680 - val_loss: 0.0822 - val_accuracy: 0.9773\n",
      "263/263 [==============================] - 1s 3ms/step - loss: 0.0822 - accuracy: 0.9773\n",
      "Final loss: 0.08223448693752289\n",
      "Final accuracy: 0.9772619009017944\n"
     ]
    }
   ],
   "source": [
    "from tensorflow.keras.callbacks import ModelCheckpoint\n",
    "# Определим callback для сохранения весов на каждой этапе обучения\n",
    "# Это понадобится позже для определения параметров, при которых точность максимальна\n",
    "checkpoint_callback = ModelCheckpoint(\n",
    "    filepath='weights.{epoch:02d}.h5',\n",
    "    save_weights_only=True,\n",
    "    save_best_only=False,\n",
    "    verbose=1\n",
    ")\n",
    "\n",
    "history = model.fit(datagen.flow(X_train, y_train, batch_size=16),\n",
    "                    epochs=29, \n",
    "                    verbose=1,\n",
    "                    validation_data=(X_test, y_test), callbacks=[checkpoint_callback])\n",
    "\n",
    "loss, accuracy = model.evaluate(X_test, y_test)\n",
    "\n",
    "print(f\"Final loss: {loss}\")\n",
    "print(f\"Final accuracy: {accuracy}\")\n"
   ]
  },
  {
   "cell_type": "code",
   "execution_count": 40,
   "metadata": {},
   "outputs": [
    {
     "data": {
      "text/plain": [
       "dict_keys(['loss', 'accuracy', 'val_loss', 'val_accuracy'])"
      ]
     },
     "execution_count": 40,
     "metadata": {},
     "output_type": "execute_result"
    }
   ],
   "source": [
    "history_dict = history.history\n",
    "history_dict.keys()"
   ]
  },
  {
   "cell_type": "markdown",
   "metadata": {},
   "source": [
    "Посмотрим, как происходило изменение точности на каждой из эпох"
   ]
  },
  {
   "cell_type": "code",
   "execution_count": 47,
   "metadata": {},
   "outputs": [
    {
     "data": {
      "image/png": "[encoded data removed]",
      "text/plain": [
       "<Figure size 640x480 with 1 Axes>"
      ]
     },
     "metadata": {},
     "output_type": "display_data"
    }
   ],
   "source": [
    "loss_values = history_dict['loss']\n",
    "val_loss_values = history_dict['val_loss']\n",
    "epochs = range(1, len(loss_values) + 1)\n",
    "\n",
    "plt.plot(epochs, loss_values, 'bo')\n",
    "plt.plot(epochs, val_loss_values, 'b+')\n",
    "plt.legend(['loss', 'val_loss'])\n",
    "plt.xlabel('Epochs')\n",
    "plt.ylabel('Loss')\n",
    "\n",
    "plt.show()"
   ]
  },
  {
   "cell_type": "code",
   "execution_count": 48,
   "metadata": {},
   "outputs": [
    {
     "data": {
      "image/png": "[encoded data removed]",
      "text/plain": [
       "<Figure size 640x480 with 1 Axes>"
      ]
     },
     "metadata": {},
     "output_type": "display_data"
    }
   ],
   "source": [
    "plt.clf()\n",
    "acc_values = history_dict['accuracy']\n",
    "val_acc_values = history_dict['val_accuracy']\n",
    "\n",
    "plt.plot(epochs, acc_values, 'bo')\n",
    "plt.plot(epochs, val_acc_values, 'b+')\n",
    "plt.legend(['accuracy', 'val_accuracy'])\n",
    "plt.xlabel('Epochs')\n",
    "plt.ylabel('Accuracy')\n",
    "\n",
    "plt.show()"
   ]
  },
  {
   "cell_type": "markdown",
   "metadata": {},
   "source": [
    "### Вычислить градиент целевой функции по обучаемым параметрам нейронной сети, сравнить полученные значения со значениями, вычисленными с помощью библиотечных функций"
   ]
  },
  {
   "cell_type": "code",
   "execution_count": 43,
   "metadata": {},
   "outputs": [
    {
     "name": "stdout",
     "output_type": "stream",
     "text": [
      "Best accuracy: 0.9790475964546204\n",
      "Best params:\n",
      "[[ 0.07339697  0.1281565   0.13618346 ...  0.14385054  0.15881875\n",
      "   0.25441962]\n",
      " [ 0.08194564  0.11939254  0.20486127 ...  0.09638471  0.11861615\n",
      "   0.13689826]\n",
      " [ 0.1622842   0.08663205  0.19660623 ...  0.14094059  0.10748278\n",
      "   0.17209455]\n",
      " ...\n",
      " [ 0.06761391 -0.03229456  0.17304061 ... -0.00842601  0.14061764\n",
      "   0.1960472 ]\n",
      " [ 0.09847224  0.08989424  0.25271535 ...  0.11931877  0.10632395\n",
      "   0.21829408]\n",
      " [ 0.11674468  0.10395157  0.16281047 ...  0.06573924  0.11271806\n",
      "   0.1371498 ]]\n",
      "[-0.12091871 -0.07295922 -0.17320985  0.13195518 -0.0544329  -0.07580148\n",
      " -0.12837742 -0.12326887 -0.03688931 -0.14901394 -0.11621713  0.00430297\n",
      " -0.08852132 -0.24827382 -0.11041967 -0.13118896 -0.11356082 -0.13770157\n",
      " -0.11202147 -0.04329206 -0.10650682  0.04061216 -0.22848569 -0.07552306\n",
      " -0.05078715 -0.14170176 -0.07029857  0.01927406 -0.09613718 -0.00229663\n",
      " -0.16468582 -0.1997996  -0.06262368 -0.10568061 -0.1630225  -0.09957252\n",
      "  0.02161248 -0.03361128 -0.05612473  0.0007145  -0.08429404 -0.13180332\n",
      " -0.09535741 -0.06380108  0.00455566 -0.12598485 -0.18133648 -0.16781726\n",
      " -0.0429026   0.09787203 -0.10984783 -0.08614326 -0.01908717 -0.10101584\n",
      "  0.18654421 -0.12722331 -0.1717732  -0.1564837  -0.14302674 -0.05649574\n",
      " -0.07468741 -0.05788868 -0.05702275  0.0306171  -0.1063253  -0.11633938\n",
      " -0.16388416  0.02250416 -0.04530752 -0.08141182 -0.09412109 -0.19908184\n",
      " -0.07079925 -0.21983597 -0.04122824 -0.14225897 -0.19629486 -0.07178567\n",
      " -0.12042489 -0.17935015 -0.13237372 -0.00500656 -0.07228968 -0.06021539\n",
      " -0.16273648 -0.16814701  0.04318329 -0.18049243 -0.04428817  0.12211215\n",
      " -0.11880488 -0.1401755   0.04083305 -0.13674286 -0.11814307  0.06332543\n",
      " -0.18674642  0.0310987  -0.00571056  0.04955449 -0.03147001  0.01054443\n",
      " -0.15451661 -0.00416236 -0.1403208  -0.07345021 -0.06354804 -0.15494204\n",
      " -0.13839917 -0.14368942  0.0383484  -0.03390612  0.12262318 -0.18002957\n",
      " -0.14165086 -0.08696273 -0.1246453  -0.06284757  0.08805865 -0.08481929\n",
      "  0.04305093 -0.09930342 -0.14764357 -0.03036837  0.03341854 -0.06966485\n",
      " -0.1017337  -0.18564431]\n",
      "[[ 0.1876216   0.17521036 -0.19594301 ... -0.19564688  0.04072585\n",
      "   0.02234943]\n",
      " [ 0.01121663 -0.13033402 -0.2049765  ... -0.22055787  0.1729426\n",
      "  -0.01573388]\n",
      " [ 0.03174233 -0.00529544 -0.27693728 ... -0.3237584   0.15537833\n",
      "  -0.01210987]\n",
      " ...\n",
      " [ 0.05565742 -0.0850842  -0.64160043 ... -0.34874654 -0.29106408\n",
      "  -0.14088476]\n",
      " [-0.04984667  0.07979964  0.01320936 ... -0.2283757   0.36887074\n",
      "   0.07276558]\n",
      " [ 0.02655036  0.11824467 -0.29660457 ...  0.21397041  0.21365517\n",
      "   0.1411165 ]]\n",
      "[ 0.23287117  0.26489708 -0.3746688  -0.22247721 -0.7634593  -0.3768596\n",
      " -0.11868623 -0.31491664 -0.27462196 -0.33205283 -0.2613612  -0.47289366\n",
      " -0.4931297  -0.33997154 -0.2693235  -0.20493865 -0.36939508 -0.85437566\n",
      " -0.21885903 -0.26736164 -0.4224881  -0.04020962 -0.13280876 -0.07156707\n",
      " -0.06685523  0.3351226  -0.40575105 -0.68764806 -0.53696126 -0.22511706\n",
      " -0.4970357   0.07704941 -0.21642032  0.11969669 -0.11711236 -0.27567473\n",
      " -0.36560568 -0.15085411 -0.20260589 -0.44685453  0.02254644 -0.20806155\n",
      "  0.5246701  -0.33768946 -0.3432142  -0.03691434 -0.27268913 -0.38679284\n",
      " -0.24562609  0.00671791  0.07566007 -0.01107059 -0.06975487 -0.16198651\n",
      " -0.33236465 -0.34447914  0.00368609 -0.21398266 -0.10026328  0.13965781\n",
      " -0.16631839 -0.09675999  0.23891242 -0.10572948 -0.15583095  0.41162378\n",
      " -0.23283786  0.17739135  0.05135562  0.47179866 -0.5340556   0.28962967\n",
      "  0.01898998 -0.64135456 -0.47632316  0.04873749 -0.28650904  0.5204414\n",
      " -0.3991932  -0.27743313 -0.3808305  -0.2690467   0.08867741 -0.5742495\n",
      " -0.5083016  -0.33830953 -0.11962719 -0.26140156  0.1010617  -0.19490011\n",
      "  0.17163302 -0.41679275  0.3806372  -0.11489867 -0.20247814 -0.36712247\n",
      " -0.13885498 -0.517874   -0.39936623  0.16354744 -0.28510565 -0.19533223\n",
      " -0.42538035 -0.13837984  0.35323682 -0.15416558  0.10222136 -0.11625482\n",
      " -0.13197877 -0.4035545  -0.6037965  -0.07040128 -0.14500077  0.14444351\n",
      "  0.01899785 -0.20970507 -0.6703724  -0.070494    0.00573462  0.267194\n",
      " -0.25167996 -0.27122086 -0.06705458 -0.20672579 -0.3647715   0.3008233\n",
      "  0.33827415 -0.12527718]\n",
      "[[-0.03606949 -0.10294545 -0.01137727 ...  0.06542516  0.01884867\n",
      "   0.04251078]\n",
      " [-0.00702407 -0.4049676  -0.11307216 ... -0.3067675  -0.01840494\n",
      "  -0.11166792]\n",
      " [-0.29825386  0.19247179  0.18702121 ... -0.08165161  0.04097344\n",
      "  -0.20195155]\n",
      " ...\n",
      " [-0.24047658  0.04728338 -0.1101991  ... -0.08933364  0.10761773\n",
      "  -0.01897669]\n",
      " [-0.0658809  -0.09588641 -0.06513394 ... -0.15736419  0.08768925\n",
      "  -0.0201046 ]\n",
      " [-0.13237658 -0.30314597 -0.19470373 ... -0.20923018 -0.12261887\n",
      "  -0.22283079]]\n",
      "[ 0.38482815 -0.6106285  -0.13493127 -0.11996724 -0.088113    0.0307379\n",
      " -0.34134266 -0.18033928  0.87702954 -0.06760758]\n"
     ]
    }
   ],
   "source": [
    "# Найдем эпоху с наивысшей точностью валидации\n",
    "best_epoch = np.argmax(history.history['val_accuracy'])\n",
    "best_accuracy = history.history['val_accuracy'][best_epoch]\n",
    "\n",
    "# Получим веса модели для этой эпохи из файла, сохраненного ранее на этапе обучения\n",
    "model.load_weights(f'weights.{best_epoch+1:02d}.h5')\n",
    "\n",
    "# Получим параметры модели для лучшей эпохи\n",
    "best_parameters = model.get_weights()\n",
    "\n",
    "print(f\"Best accuracy: {best_accuracy}\")\n",
    "print(\"Best params:\")\n",
    "for layer_param in best_parameters:\n",
    "    print(layer_param)"
   ]
  },
  {
   "cell_type": "markdown",
   "metadata": {},
   "source": [
    "### Определить параметры нейронной сети, при которых точность классификации максимальна\n",
    "\n",
    "Чтобы определить параметры нейронной сети, при которых точность классификации максимальна, мы\n",
    "- должны проанализировать объект history, возвращаемый методом fit(), который содержит историю обучения, включая значения точности для каждой эпохи;\n",
    "- найти эпоху с лучшей точностью проверки;\n",
    "- по мере обучения модели мы сохраняем веса, полученные на каждой эпохе, в отдельный файл. Загрузим веса из файла соответсвующего эпохе с лучшей точностью;\n",
    "- используем model.get_weights() для получения параметров (весов и смещений) модели в лучшую эпоху. Мы перебираем параметры и выводим их формы, чтобы проверить размеры параметров каждого слоя."
   ]
  },
  {
   "cell_type": "code",
   "execution_count": 44,
   "metadata": {},
   "outputs": [
    {
     "name": "stdout",
     "output_type": "stream",
     "text": [
      "Best accuracy: 0.9790475964546204\n",
      "Best params:\n",
      "[[ 0.07339697  0.1281565   0.13618346 ...  0.14385054  0.15881875\n",
      "   0.25441962]\n",
      " [ 0.08194564  0.11939254  0.20486127 ...  0.09638471  0.11861615\n",
      "   0.13689826]\n",
      " [ 0.1622842   0.08663205  0.19660623 ...  0.14094059  0.10748278\n",
      "   0.17209455]\n",
      " ...\n",
      " [ 0.06761391 -0.03229456  0.17304061 ... -0.00842601  0.14061764\n",
      "   0.1960472 ]\n",
      " [ 0.09847224  0.08989424  0.25271535 ...  0.11931877  0.10632395\n",
      "   0.21829408]\n",
      " [ 0.11674468  0.10395157  0.16281047 ...  0.06573924  0.11271806\n",
      "   0.1371498 ]]\n",
      "[-0.12091871 -0.07295922 -0.17320985  0.13195518 -0.0544329  -0.07580148\n",
      " -0.12837742 -0.12326887 -0.03688931 -0.14901394 -0.11621713  0.00430297\n",
      " -0.08852132 -0.24827382 -0.11041967 -0.13118896 -0.11356082 -0.13770157\n",
      " -0.11202147 -0.04329206 -0.10650682  0.04061216 -0.22848569 -0.07552306\n",
      " -0.05078715 -0.14170176 -0.07029857  0.01927406 -0.09613718 -0.00229663\n",
      " -0.16468582 -0.1997996  -0.06262368 -0.10568061 -0.1630225  -0.09957252\n",
      "  0.02161248 -0.03361128 -0.05612473  0.0007145  -0.08429404 -0.13180332\n",
      " -0.09535741 -0.06380108  0.00455566 -0.12598485 -0.18133648 -0.16781726\n",
      " -0.0429026   0.09787203 -0.10984783 -0.08614326 -0.01908717 -0.10101584\n",
      "  0.18654421 -0.12722331 -0.1717732  -0.1564837  -0.14302674 -0.05649574\n",
      " -0.07468741 -0.05788868 -0.05702275  0.0306171  -0.1063253  -0.11633938\n",
      " -0.16388416  0.02250416 -0.04530752 -0.08141182 -0.09412109 -0.19908184\n",
      " -0.07079925 -0.21983597 -0.04122824 -0.14225897 -0.19629486 -0.07178567\n",
      " -0.12042489 -0.17935015 -0.13237372 -0.00500656 -0.07228968 -0.06021539\n",
      " -0.16273648 -0.16814701  0.04318329 -0.18049243 -0.04428817  0.12211215\n",
      " -0.11880488 -0.1401755   0.04083305 -0.13674286 -0.11814307  0.06332543\n",
      " -0.18674642  0.0310987  -0.00571056  0.04955449 -0.03147001  0.01054443\n",
      " -0.15451661 -0.00416236 -0.1403208  -0.07345021 -0.06354804 -0.15494204\n",
      " -0.13839917 -0.14368942  0.0383484  -0.03390612  0.12262318 -0.18002957\n",
      " -0.14165086 -0.08696273 -0.1246453  -0.06284757  0.08805865 -0.08481929\n",
      "  0.04305093 -0.09930342 -0.14764357 -0.03036837  0.03341854 -0.06966485\n",
      " -0.1017337  -0.18564431]\n",
      "[[ 0.1876216   0.17521036 -0.19594301 ... -0.19564688  0.04072585\n",
      "   0.02234943]\n",
      " [ 0.01121663 -0.13033402 -0.2049765  ... -0.22055787  0.1729426\n",
      "  -0.01573388]\n",
      " [ 0.03174233 -0.00529544 -0.27693728 ... -0.3237584   0.15537833\n",
      "  -0.01210987]\n",
      " ...\n",
      " [ 0.05565742 -0.0850842  -0.64160043 ... -0.34874654 -0.29106408\n",
      "  -0.14088476]\n",
      " [-0.04984667  0.07979964  0.01320936 ... -0.2283757   0.36887074\n",
      "   0.07276558]\n",
      " [ 0.02655036  0.11824467 -0.29660457 ...  0.21397041  0.21365517\n",
      "   0.1411165 ]]\n",
      "[ 0.23287117  0.26489708 -0.3746688  -0.22247721 -0.7634593  -0.3768596\n",
      " -0.11868623 -0.31491664 -0.27462196 -0.33205283 -0.2613612  -0.47289366\n",
      " -0.4931297  -0.33997154 -0.2693235  -0.20493865 -0.36939508 -0.85437566\n",
      " -0.21885903 -0.26736164 -0.4224881  -0.04020962 -0.13280876 -0.07156707\n",
      " -0.06685523  0.3351226  -0.40575105 -0.68764806 -0.53696126 -0.22511706\n",
      " -0.4970357   0.07704941 -0.21642032  0.11969669 -0.11711236 -0.27567473\n",
      " -0.36560568 -0.15085411 -0.20260589 -0.44685453  0.02254644 -0.20806155\n",
      "  0.5246701  -0.33768946 -0.3432142  -0.03691434 -0.27268913 -0.38679284\n",
      " -0.24562609  0.00671791  0.07566007 -0.01107059 -0.06975487 -0.16198651\n",
      " -0.33236465 -0.34447914  0.00368609 -0.21398266 -0.10026328  0.13965781\n",
      " -0.16631839 -0.09675999  0.23891242 -0.10572948 -0.15583095  0.41162378\n",
      " -0.23283786  0.17739135  0.05135562  0.47179866 -0.5340556   0.28962967\n",
      "  0.01898998 -0.64135456 -0.47632316  0.04873749 -0.28650904  0.5204414\n",
      " -0.3991932  -0.27743313 -0.3808305  -0.2690467   0.08867741 -0.5742495\n",
      " -0.5083016  -0.33830953 -0.11962719 -0.26140156  0.1010617  -0.19490011\n",
      "  0.17163302 -0.41679275  0.3806372  -0.11489867 -0.20247814 -0.36712247\n",
      " -0.13885498 -0.517874   -0.39936623  0.16354744 -0.28510565 -0.19533223\n",
      " -0.42538035 -0.13837984  0.35323682 -0.15416558  0.10222136 -0.11625482\n",
      " -0.13197877 -0.4035545  -0.6037965  -0.07040128 -0.14500077  0.14444351\n",
      "  0.01899785 -0.20970507 -0.6703724  -0.070494    0.00573462  0.267194\n",
      " -0.25167996 -0.27122086 -0.06705458 -0.20672579 -0.3647715   0.3008233\n",
      "  0.33827415 -0.12527718]\n",
      "[[-0.03606949 -0.10294545 -0.01137727 ...  0.06542516  0.01884867\n",
      "   0.04251078]\n",
      " [-0.00702407 -0.4049676  -0.11307216 ... -0.3067675  -0.01840494\n",
      "  -0.11166792]\n",
      " [-0.29825386  0.19247179  0.18702121 ... -0.08165161  0.04097344\n",
      "  -0.20195155]\n",
      " ...\n",
      " [-0.24047658  0.04728338 -0.1101991  ... -0.08933364  0.10761773\n",
      "  -0.01897669]\n",
      " [-0.0658809  -0.09588641 -0.06513394 ... -0.15736419  0.08768925\n",
      "  -0.0201046 ]\n",
      " [-0.13237658 -0.30314597 -0.19470373 ... -0.20923018 -0.12261887\n",
      "  -0.22283079]]\n",
      "[ 0.38482815 -0.6106285  -0.13493127 -0.11996724 -0.088113    0.0307379\n",
      " -0.34134266 -0.18033928  0.87702954 -0.06760758]\n"
     ]
    }
   ],
   "source": [
    "# Найдем эпоху с наивысшей точностью валидации\n",
    "best_epoch = np.argmax(history.history['val_accuracy'])\n",
    "best_accuracy = history.history['val_accuracy'][best_epoch]\n",
    "\n",
    "# Получим веса модели для этой эпохи из файла, сохраненного ранее на этапе обучения\n",
    "model.load_weights(f'weights.{best_epoch+1:02d}.h5')\n",
    "\n",
    "# Получим параметры модели для лучшей эпохи\n",
    "best_parameters = model.get_weights()\n",
    "\n",
    "print(f\"Best accuracy: {best_accuracy}\")\n",
    "print(\"Best params:\")\n",
    "for layer_param in best_parameters:\n",
    "    print(layer_param)"
   ]
  },
  {
   "cell_type": "code",
   "execution_count": 45,
   "metadata": {},
   "outputs": [
    {
     "name": "stdout",
     "output_type": "stream",
     "text": [
      "Описание модели:\n",
      "Model: \"sequential_2\"\n",
      "_________________________________________________________________\n",
      " Layer (type)                Output Shape              Param #   \n",
      "=================================================================\n",
      " lambda_2 (Lambda)           (None, 28, 28, 1)         0         \n",
      "                                                                 \n",
      " flatten_2 (Flatten)         (None, 784)               0         \n",
      "                                                                 \n",
      " dense_6 (Dense)             (None, 128)               100480    \n",
      "                                                                 \n",
      " dense_7 (Dense)             (None, 128)               16512     \n",
      "                                                                 \n",
      " dense_8 (Dense)             (None, 10)                1290      \n",
      "                                                                 \n",
      "=================================================================\n",
      "Total params: 118282 (462.04 KB)\n",
      "Trainable params: 118282 (462.04 KB)\n",
      "Non-trainable params: 0 (0.00 Byte)\n",
      "_________________________________________________________________\n"
     ]
    }
   ],
   "source": [
    "print(\"Описание модели:\")\n",
    "model.summary()"
   ]
  }
 ],
 "metadata": {
  "kernelspec": {
   "display_name": "venv",
   "language": "python",
   "name": "python3"
  },
  "language_info": {
   "codemirror_mode": {
    "name": "ipython",
    "version": 3
   },
   "file_extension": ".py",
   "mimetype": "text/x-python",
   "name": "python",
   "nbconvert_exporter": "python",
   "pygments_lexer": "ipython3",
   "version": "3.10.7"
  }
 },
 "nbformat": 4,
 "nbformat_minor": 2
}
