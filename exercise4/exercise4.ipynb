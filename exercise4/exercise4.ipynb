{
 "cells": [
  {
   "cell_type": "code",
   "execution_count": 1,
   "metadata": {},
   "outputs": [
    {
     "name": "stdout",
     "output_type": "stream",
     "text": [
      "WARNING:tensorflow:From d:\\www\\ml-python\\venv\\lib\\site-packages\\keras\\src\\losses.py:2976: The name tf.losses.sparse_softmax_cross_entropy is deprecated. Please use tf.compat.v1.losses.sparse_softmax_cross_entropy instead.\n",
      "\n"
     ]
    }
   ],
   "source": [
    "import numpy as np\n",
    "import pandas as pd\n",
    "import matplotlib.pyplot as plt\n",
    "import tensorflow as tf\n",
    "from sklearn.model_selection import train_test_split\n",
    "from sklearn.preprocessing import normalize\n",
    "from keras.models import Sequential\n",
    "from keras.layers import Dense, Flatten, Lambda\n",
    "from keras.preprocessing.image import ImageDataGenerator\n",
    "from keras.utils import to_categorical"
   ]
  },
  {
   "cell_type": "markdown",
   "metadata": {},
   "source": [
    "### Решить задачу многоклассовой классификации с помощью многослойной нейронной сети, состоящей из полносвязных слоев."
   ]
  },
  {
   "cell_type": "code",
   "execution_count": 2,
   "metadata": {},
   "outputs": [],
   "source": [
    "# загружаем данные и разбиваем их на составляющие\n",
    "train = pd.read_csv(\"./train.csv\")\n",
    "y_train = train[\"label\"]\n",
    "X_train = train.drop(labels = [\"label\"],axis = 1)"
   ]
  },
  {
   "cell_type": "code",
   "execution_count": 3,
   "metadata": {},
   "outputs": [],
   "source": [
    "\n",
    "X_train = normalize(X_train.astype('float32'), axis=1)\n",
    "\n",
    "# Из файла информацию о изображения с цифрами мы получили в виде одномерных векторов из 784 значений\n",
    "# Переформируем все данные в трехмерные матрицы 28x28x1.\n",
    "# Keras требует дополнительное измерение в конце, для каналов. \n",
    "# Если бы это были RGB-изображения, то было бы 3 канала, но поскольку у нас \"черно-белое\" изображение, мы указываем 1 серый канал.\n",
    "X_train = X_train.reshape(X_train.shape[0], 28, 28, 1)"
   ]
  },
  {
   "cell_type": "code",
   "execution_count": 4,
   "metadata": {},
   "outputs": [
    {
     "data": {
      "image/png": "[encoded data removed]",
      "text/plain": [
       "<Figure size 640x480 with 3 Axes>"
      ]
     },
     "metadata": {},
     "output_type": "display_data"
    }
   ],
   "source": [
    "# убедимся, что все ок, выведем сами тестовые изображения и соответствующие им цифры \n",
    "for i in range(6, 9):\n",
    "    plt.subplot(330 + (i+1))\n",
    "    plt.imshow(X_train[i], cmap=plt.get_cmap('gray'))\n",
    "    plt.title(y_train[i])"
   ]
  },
  {
   "cell_type": "markdown",
   "metadata": {},
   "source": [
    "Стандартизация особенностей - это важный этап предварительной обработки. Он используется для центрирования данных вокруг нулевого среднего и единичной дисперсии."
   ]
  },
  {
   "cell_type": "code",
   "execution_count": 5,
   "metadata": {},
   "outputs": [],
   "source": [
    "mean_px = X_train.mean().astype(np.float32)\n",
    "std_px = X_train.std().astype(np.float32)\n",
    "def standardize(x): \n",
    "    return (x-mean_px)/std_px"
   ]
  },
  {
   "cell_type": "markdown",
   "metadata": {},
   "source": [
    "Метки в данном случае представлены целыми числами от 0 до 9. \n",
    "Нам нужно применить one-hot encoding, чтобы преобразовать эти one-hot числовой массив (например: 2 -> [0,0,1,0,0,0,0,0,0,0,0])."
   ]
  },
  {
   "cell_type": "code",
   "execution_count": 6,
   "metadata": {},
   "outputs": [
    {
     "name": "stdout",
     "output_type": "stream",
     "text": [
      "1 преобрауется в \n",
      "[0. 1. 0. 0. 0. 0. 0. 0. 0. 0.]\n"
     ]
    }
   ],
   "source": [
    "print(f\"{y_train[0]} преобрауется в \")\n",
    "y_train = to_categorical(y_train, num_classes = 10)\n",
    "# Пример:\n",
    "print(y_train[0])"
   ]
  },
  {
   "cell_type": "code",
   "execution_count": 7,
   "metadata": {},
   "outputs": [],
   "source": [
    "X_train, X_test, y_train, y_test = train_test_split(X_train, y_train, test_size = 0.2, random_state=42)"
   ]
  },
  {
   "cell_type": "code",
   "execution_count": 8,
   "metadata": {},
   "outputs": [],
   "source": [
    "datagen = ImageDataGenerator(zoom_range = 0.1,\n",
    "                            height_shift_range = 0.1,\n",
    "                            width_shift_range = 0.1,\n",
    "                            rotation_range = 10)"
   ]
  },
  {
   "cell_type": "code",
   "execution_count": 9,
   "metadata": {},
   "outputs": [
    {
     "name": "stdout",
     "output_type": "stream",
     "text": [
      "WARNING:tensorflow:From d:\\www\\ml-python\\venv\\lib\\site-packages\\keras\\src\\backend.py:873: The name tf.get_default_graph is deprecated. Please use tf.compat.v1.get_default_graph instead.\n",
      "\n"
     ]
    }
   ],
   "source": [
    "model = Sequential()\n",
    "model.add(Lambda(standardize,input_shape=(28, 28, 1)))\n",
    "model.add(Flatten())\n",
    "model.add(Dense(128, activation='relu')),\n",
    "model.add(Dense(128, activation='relu')),\n",
    "model.add(Dense(10, activation='softmax'))"
   ]
  },
  {
   "cell_type": "code",
   "execution_count": 10,
   "metadata": {},
   "outputs": [
    {
     "name": "stdout",
     "output_type": "stream",
     "text": [
      "WARNING:tensorflow:From d:\\www\\ml-python\\venv\\lib\\site-packages\\keras\\src\\optimizers\\__init__.py:309: The name tf.train.Optimizer is deprecated. Please use tf.compat.v1.train.Optimizer instead.\n",
      "\n"
     ]
    }
   ],
   "source": [
    "model.compile(optimizer='adam', loss='categorical_crossentropy', metrics=['accuracy'])"
   ]
  },
  {
   "cell_type": "code",
   "execution_count": 11,
   "metadata": {},
   "outputs": [
    {
     "name": "stdout",
     "output_type": "stream",
     "text": [
      "Epoch 1/29\n",
      "WARNING:tensorflow:From d:\\www\\ml-python\\venv\\lib\\site-packages\\keras\\src\\utils\\tf_utils.py:492: The name tf.ragged.RaggedTensorValue is deprecated. Please use tf.compat.v1.ragged.RaggedTensorValue instead.\n",
      "\n",
      "WARNING:tensorflow:From d:\\www\\ml-python\\venv\\lib\\site-packages\\keras\\src\\engine\\base_layer_utils.py:384: The name tf.executing_eagerly_outside_functions is deprecated. Please use tf.compat.v1.executing_eagerly_outside_functions instead.\n",
      "\n",
      "2100/2100 [==============================] - ETA: 0s - loss: 0.4819 - accuracy: 0.8464\n",
      "Epoch 1: saving model to weights.01.h5\n",
      "2100/2100 [==============================] - 14s 6ms/step - loss: 0.4819 - accuracy: 0.8464 - val_loss: 0.1907 - val_accuracy: 0.9414\n",
      "Epoch 2/29\n",
      "2100/2100 [==============================] - ETA: 0s - loss: 0.2530 - accuracy: 0.9203\n",
      "Epoch 2: saving model to weights.02.h5\n",
      "2100/2100 [==============================] - 14s 6ms/step - loss: 0.2530 - accuracy: 0.9203 - val_loss: 0.1673 - val_accuracy: 0.9469\n",
      "Epoch 3/29\n",
      "2098/2100 [============================>.] - ETA: 0s - loss: 0.2141 - accuracy: 0.9337\n",
      "Epoch 3: saving model to weights.03.h5\n",
      "2100/2100 [==============================] - 14s 6ms/step - loss: 0.2140 - accuracy: 0.9337 - val_loss: 0.1457 - val_accuracy: 0.9530\n",
      "Epoch 4/29\n",
      "2100/2100 [==============================] - ETA: 0s - loss: 0.1943 - accuracy: 0.9411\n",
      "Epoch 4: saving model to weights.04.h5\n",
      "2100/2100 [==============================] - 13s 6ms/step - loss: 0.1943 - accuracy: 0.9411 - val_loss: 0.1416 - val_accuracy: 0.9554\n",
      "Epoch 5/29\n",
      "2098/2100 [============================>.] - ETA: 0s - loss: 0.1776 - accuracy: 0.9457\n",
      "Epoch 5: saving model to weights.05.h5\n",
      "2100/2100 [==============================] - 12s 6ms/step - loss: 0.1781 - accuracy: 0.9457 - val_loss: 0.1059 - val_accuracy: 0.9681\n",
      "Epoch 6/29\n",
      "2091/2100 [============================>.] - ETA: 0s - loss: 0.1656 - accuracy: 0.9482\n",
      "Epoch 6: saving model to weights.06.h5\n",
      "2100/2100 [==============================] - 13s 6ms/step - loss: 0.1657 - accuracy: 0.9482 - val_loss: 0.1165 - val_accuracy: 0.9651\n",
      "Epoch 7/29\n",
      "2100/2100 [==============================] - ETA: 0s - loss: 0.1563 - accuracy: 0.9512\n",
      "Epoch 7: saving model to weights.07.h5\n",
      "2100/2100 [==============================] - 11s 5ms/step - loss: 0.1563 - accuracy: 0.9512 - val_loss: 0.1232 - val_accuracy: 0.9625\n",
      "Epoch 8/29\n",
      "2099/2100 [============================>.] - ETA: 0s - loss: 0.1491 - accuracy: 0.9544\n",
      "Epoch 8: saving model to weights.08.h5\n",
      "2100/2100 [==============================] - 13s 6ms/step - loss: 0.1493 - accuracy: 0.9544 - val_loss: 0.1055 - val_accuracy: 0.9685\n",
      "Epoch 9/29\n",
      "2097/2100 [============================>.] - ETA: 0s - loss: 0.1456 - accuracy: 0.9552\n",
      "Epoch 9: saving model to weights.09.h5\n",
      "2100/2100 [==============================] - 13s 6ms/step - loss: 0.1458 - accuracy: 0.9551 - val_loss: 0.0941 - val_accuracy: 0.9720\n",
      "Epoch 10/29\n",
      "2096/2100 [============================>.] - ETA: 0s - loss: 0.1373 - accuracy: 0.9558\n",
      "Epoch 10: saving model to weights.10.h5\n",
      "2100/2100 [==============================] - 11s 5ms/step - loss: 0.1372 - accuracy: 0.9558 - val_loss: 0.1092 - val_accuracy: 0.9656\n",
      "Epoch 11/29\n",
      "2099/2100 [============================>.] - ETA: 0s - loss: 0.1397 - accuracy: 0.9581\n",
      "Epoch 11: saving model to weights.11.h5\n",
      "2100/2100 [==============================] - 11s 5ms/step - loss: 0.1397 - accuracy: 0.9582 - val_loss: 0.1001 - val_accuracy: 0.9706\n",
      "Epoch 12/29\n",
      "2094/2100 [============================>.] - ETA: 0s - loss: 0.1349 - accuracy: 0.9584\n",
      "Epoch 12: saving model to weights.12.h5\n",
      "2100/2100 [==============================] - 12s 6ms/step - loss: 0.1351 - accuracy: 0.9584 - val_loss: 0.0770 - val_accuracy: 0.9773\n",
      "Epoch 13/29\n",
      "2097/2100 [============================>.] - ETA: 0s - loss: 0.1281 - accuracy: 0.9604\n",
      "Epoch 13: saving model to weights.13.h5\n",
      "2100/2100 [==============================] - 12s 6ms/step - loss: 0.1284 - accuracy: 0.9603 - val_loss: 0.0919 - val_accuracy: 0.9729\n",
      "Epoch 14/29\n",
      "2099/2100 [============================>.] - ETA: 0s - loss: 0.1296 - accuracy: 0.9618\n",
      "Epoch 14: saving model to weights.14.h5\n",
      "2100/2100 [==============================] - 15s 7ms/step - loss: 0.1296 - accuracy: 0.9618 - val_loss: 0.0992 - val_accuracy: 0.9704\n",
      "Epoch 15/29\n",
      "2092/2100 [============================>.] - ETA: 0s - loss: 0.1210 - accuracy: 0.9627\n",
      "Epoch 15: saving model to weights.15.h5\n",
      "2100/2100 [==============================] - 12s 6ms/step - loss: 0.1210 - accuracy: 0.9627 - val_loss: 0.0898 - val_accuracy: 0.9730\n",
      "Epoch 16/29\n",
      "2097/2100 [============================>.] - ETA: 0s - loss: 0.1246 - accuracy: 0.9640\n",
      "Epoch 16: saving model to weights.16.h5\n",
      "2100/2100 [==============================] - 11s 5ms/step - loss: 0.1246 - accuracy: 0.9640 - val_loss: 0.0902 - val_accuracy: 0.9713\n",
      "Epoch 17/29\n",
      "2099/2100 [============================>.] - ETA: 0s - loss: 0.1198 - accuracy: 0.9643\n",
      "Epoch 17: saving model to weights.17.h5\n",
      "2100/2100 [==============================] - 13s 6ms/step - loss: 0.1199 - accuracy: 0.9643 - val_loss: 0.0953 - val_accuracy: 0.9706\n",
      "Epoch 18/29\n",
      "2091/2100 [============================>.] - ETA: 0s - loss: 0.1243 - accuracy: 0.9629\n",
      "Epoch 18: saving model to weights.18.h5\n",
      "2100/2100 [==============================] - 12s 6ms/step - loss: 0.1247 - accuracy: 0.9627 - val_loss: 0.0828 - val_accuracy: 0.9760\n",
      "Epoch 19/29\n",
      "2099/2100 [============================>.] - ETA: 0s - loss: 0.1155 - accuracy: 0.9646\n",
      "Epoch 19: saving model to weights.19.h5\n",
      "2100/2100 [==============================] - 12s 6ms/step - loss: 0.1155 - accuracy: 0.9646 - val_loss: 0.0932 - val_accuracy: 0.9706\n",
      "Epoch 20/29\n",
      "2092/2100 [============================>.] - ETA: 0s - loss: 0.1084 - accuracy: 0.9665\n",
      "Epoch 20: saving model to weights.20.h5\n",
      "2100/2100 [==============================] - 13s 6ms/step - loss: 0.1088 - accuracy: 0.9663 - val_loss: 0.0785 - val_accuracy: 0.9781\n",
      "Epoch 21/29\n",
      "2098/2100 [============================>.] - ETA: 0s - loss: 0.1124 - accuracy: 0.9659\n",
      "Epoch 21: saving model to weights.21.h5\n",
      "2100/2100 [==============================] - 13s 6ms/step - loss: 0.1126 - accuracy: 0.9658 - val_loss: 0.0899 - val_accuracy: 0.9729\n",
      "Epoch 22/29\n",
      "2092/2100 [============================>.] - ETA: 0s - loss: 0.1135 - accuracy: 0.9654\n",
      "Epoch 22: saving model to weights.22.h5\n",
      "2100/2100 [==============================] - 14s 6ms/step - loss: 0.1135 - accuracy: 0.9654 - val_loss: 0.0908 - val_accuracy: 0.9742\n",
      "Epoch 23/29\n",
      "2094/2100 [============================>.] - ETA: 0s - loss: 0.1105 - accuracy: 0.9673\n",
      "Epoch 23: saving model to weights.23.h5\n",
      "2100/2100 [==============================] - 14s 7ms/step - loss: 0.1106 - accuracy: 0.9673 - val_loss: 0.0856 - val_accuracy: 0.9754\n",
      "Epoch 24/29\n",
      "2100/2100 [==============================] - ETA: 0s - loss: 0.1083 - accuracy: 0.9672\n",
      "Epoch 24: saving model to weights.24.h5\n",
      "2100/2100 [==============================] - 15s 7ms/step - loss: 0.1083 - accuracy: 0.9672 - val_loss: 0.0711 - val_accuracy: 0.9774\n",
      "Epoch 25/29\n",
      "2100/2100 [==============================] - ETA: 0s - loss: 0.1150 - accuracy: 0.9649\n",
      "Epoch 25: saving model to weights.25.h5\n",
      "2100/2100 [==============================] - 15s 7ms/step - loss: 0.1150 - accuracy: 0.9649 - val_loss: 0.0779 - val_accuracy: 0.9792\n",
      "Epoch 26/29\n",
      "2097/2100 [============================>.] - ETA: 0s - loss: 0.1092 - accuracy: 0.9677\n",
      "Epoch 26: saving model to weights.26.h5\n",
      "2100/2100 [==============================] - 18s 9ms/step - loss: 0.1091 - accuracy: 0.9677 - val_loss: 0.0906 - val_accuracy: 0.9731\n",
      "Epoch 27/29\n",
      "2095/2100 [============================>.] - ETA: 0s - loss: 0.1080 - accuracy: 0.9679\n",
      "Epoch 27: saving model to weights.27.h5\n",
      "2100/2100 [==============================] - 16s 7ms/step - loss: 0.1079 - accuracy: 0.9679 - val_loss: 0.0880 - val_accuracy: 0.9740\n",
      "Epoch 28/29\n",
      "2100/2100 [==============================] - ETA: 0s - loss: 0.1090 - accuracy: 0.9683\n",
      "Epoch 28: saving model to weights.28.h5\n",
      "2100/2100 [==============================] - 16s 8ms/step - loss: 0.1090 - accuracy: 0.9683 - val_loss: 0.0700 - val_accuracy: 0.9786\n",
      "Epoch 29/29\n",
      "2093/2100 [============================>.] - ETA: 0s - loss: 0.1084 - accuracy: 0.9677\n",
      "Epoch 29: saving model to weights.29.h5\n",
      "2100/2100 [==============================] - 17s 8ms/step - loss: 0.1086 - accuracy: 0.9676 - val_loss: 0.0724 - val_accuracy: 0.9785\n",
      "263/263 [==============================] - 1s 2ms/step - loss: 0.0724 - accuracy: 0.9785\n",
      "Final loss: 0.07243877649307251\n",
      "Final accuracy: 0.9784523844718933\n"
     ]
    }
   ],
   "source": [
    "from tensorflow.keras.callbacks import ModelCheckpoint\n",
    "# Определим callback для сохранения весов на каждой этапе обучения\n",
    "# Это понадобится позже для определения параметров, при которых точность максимальна\n",
    "checkpoint_callback = ModelCheckpoint(\n",
    "    filepath='weights.{epoch:02d}.h5',\n",
    "    save_weights_only=True,\n",
    "    save_best_only=False,\n",
    "    verbose=1\n",
    ")\n",
    "\n",
    "history = model.fit(datagen.flow(X_train, y_train, batch_size=16),\n",
    "                    epochs=29, \n",
    "                    verbose=1,\n",
    "                    validation_data=(X_test, y_test), callbacks=[checkpoint_callback])\n",
    "\n",
    "loss, accuracy = model.evaluate(X_test, y_test)\n",
    "\n",
    "print(f\"Final loss: {loss}\")\n",
    "print(f\"Final accuracy: {accuracy}\")\n"
   ]
  },
  {
   "cell_type": "code",
   "execution_count": 12,
   "metadata": {},
   "outputs": [
    {
     "data": {
      "text/plain": [
       "dict_keys(['loss', 'accuracy', 'val_loss', 'val_accuracy'])"
      ]
     },
     "execution_count": 12,
     "metadata": {},
     "output_type": "execute_result"
    }
   ],
   "source": [
    "history_dict = history.history\n",
    "history_dict.keys()"
   ]
  },
  {
   "cell_type": "markdown",
   "metadata": {},
   "source": [
    "Посмотрим, как происходило изменение точности на каждой из эпох"
   ]
  },
  {
   "cell_type": "code",
   "execution_count": 13,
   "metadata": {},
   "outputs": [
    {
     "data": {
      "image/png": "[encoded data removed]",
      "text/plain": [
       "<Figure size 640x480 with 1 Axes>"
      ]
     },
     "metadata": {},
     "output_type": "display_data"
    }
   ],
   "source": [
    "loss_values = history_dict['loss']\n",
    "val_loss_values = history_dict['val_loss']\n",
    "epochs = range(1, len(loss_values) + 1)\n",
    "\n",
    "plt.plot(epochs, loss_values, 'bo')\n",
    "plt.plot(epochs, val_loss_values, 'b+')\n",
    "plt.legend(['loss', 'val_loss'])\n",
    "plt.xlabel('Epochs')\n",
    "plt.ylabel('Loss')\n",
    "\n",
    "plt.show()"
   ]
  },
  {
   "cell_type": "code",
   "execution_count": 14,
   "metadata": {},
   "outputs": [
    {
     "data": {
      "image/png": "[encoded data removed]",
      "text/plain": [
       "<Figure size 640x480 with 1 Axes>"
      ]
     },
     "metadata": {},
     "output_type": "display_data"
    }
   ],
   "source": [
    "plt.clf()\n",
    "acc_values = history_dict['accuracy']\n",
    "val_acc_values = history_dict['val_accuracy']\n",
    "\n",
    "plt.plot(epochs, acc_values, 'bo')\n",
    "plt.plot(epochs, val_acc_values, 'b+')\n",
    "plt.legend(['accuracy', 'val_accuracy'])\n",
    "plt.xlabel('Epochs')\n",
    "plt.ylabel('Accuracy')\n",
    "\n",
    "plt.show()"
   ]
  },
  {
   "cell_type": "markdown",
   "metadata": {},
   "source": [
    "### Вычислить градиент целевой функции по обучаемым параметрам нейронной сети, сравнить полученные значения со значениями, вычисленными с помощью библиотечных функций"
   ]
  },
  {
   "cell_type": "code",
   "execution_count": 15,
   "metadata": {},
   "outputs": [
    {
     "name": "stdout",
     "output_type": "stream",
     "text": [
      "Variable: dense/kernel:0, Gradient shape: (784, 128)\n",
      "[[ 1.1608798e-02  6.9909668e-01 -8.1845246e-02 ... -4.4582456e-02\n",
      "  -4.8950019e-01  6.7492813e-04]\n",
      " [ 1.1608798e-02  6.9909668e-01 -8.1845246e-02 ... -4.4582456e-02\n",
      "  -4.8950019e-01  6.7492813e-04]\n",
      " [ 1.1608798e-02  6.9909668e-01 -8.1845246e-02 ... -4.4582456e-02\n",
      "  -4.8950019e-01  6.7492813e-04]\n",
      " ...\n",
      " [ 1.1608798e-02  6.9909668e-01 -8.1845246e-02 ... -4.4582456e-02\n",
      "  -4.8950019e-01  6.7492813e-04]\n",
      " [ 1.1608798e-02  6.9909668e-01 -8.1845246e-02 ... -4.4582456e-02\n",
      "  -4.8950019e-01  6.7492813e-04]\n",
      " [ 1.1608798e-02  6.9909668e-01 -8.1845246e-02 ... -4.4582456e-02\n",
      "  -4.8950019e-01  6.7492813e-04]]\n",
      "Variable: dense/bias:0, Gradient shape: (128,)\n",
      "[-2.76908502e-02 -1.66761243e+00  1.95232332e-01  4.72614467e-01\n",
      " -7.95422047e-02  2.63594687e-01 -5.44211149e+00 -5.59582338e-02\n",
      " -7.05127001e-01 -1.91984594e+00  5.45436144e-03  8.14600229e-01\n",
      "  1.41080737e+00 -1.28690422e+00 -5.29121518e-01 -2.03978330e-01\n",
      "  1.81721985e+00  7.98329949e-01 -7.90127963e-02 -8.01633835e-01\n",
      "  4.58206326e-01  7.23619401e-01  8.46471116e-02  3.17606306e+00\n",
      "  2.39751056e-01  5.00900030e-01 -5.49720287e-01 -3.80684662e+00\n",
      " -1.34353876e-01  1.00792438e-01  0.00000000e+00  1.31711566e+00\n",
      "  9.88962233e-01 -4.65318680e-01 -3.28718498e-03 -8.70259553e-02\n",
      " -6.18789002e-08  2.62795782e+00  1.52646875e+00  1.16730738e+00\n",
      "  2.59760189e+00 -1.24257363e-01  3.93386483e-01 -1.18562937e+00\n",
      "  5.97476959e-04  1.04204796e-01 -1.40810704e+00  3.02925110e+00\n",
      " -2.90148053e-02 -3.82750094e-01  2.98446625e-01 -4.71265584e-01\n",
      " -7.60315037e+00  5.94248152e+00  2.90903517e-05 -1.62053913e-01\n",
      " -6.68872476e-01  2.25145197e+00 -2.64732647e+00  3.21395487e-01\n",
      " -1.01034904e+00  1.79577582e-02  1.05410922e+00  2.42203498e+00\n",
      " -7.66604722e-01  0.00000000e+00 -5.63731045e-02 -1.08471000e+00\n",
      "  3.17236118e-05 -4.84317690e-01  1.00475693e+00  1.36063337e+00\n",
      "  6.82211876e-01 -3.95028383e-01 -2.35518545e-01 -1.05150533e+00\n",
      "  7.55431578e-02 -2.76501679e+00 -7.95951545e-01  3.73315692e+00\n",
      "  2.15057015e+00 -3.72849655e+00 -1.75227255e-01 -1.34621215e+00\n",
      " -2.74433792e-02  1.63423419e+00 -4.99530822e-01  1.58527684e+00\n",
      " -1.73031226e-01 -1.86534095e+00  8.53755832e-01  5.65466928e+00\n",
      "  9.19855908e-02  7.18362808e-01  1.32719755e-01  7.45011792e-02\n",
      " -1.02054906e+00 -1.98724329e-01 -3.60222101e+00  1.68457523e-01\n",
      " -3.52600999e-02 -7.38324583e-01 -5.54932177e-01  6.99115396e-02\n",
      " -1.98255286e-01 -2.03713328e-02 -8.30477476e-02  2.94631273e-01\n",
      "  0.00000000e+00  9.73357201e-01  4.38513041e-01 -1.43043995e-01\n",
      "  8.07370543e-01  1.33973713e+01 -2.30582267e-01 -3.57075632e-01\n",
      "  2.49730515e+00 -4.51088428e+00  4.54343939e+00  3.17655540e+00\n",
      "  0.00000000e+00 -3.19296300e-01 -1.38527560e+00 -6.86817825e-01\n",
      " -3.93810511e+00  1.06345803e-01  1.16764498e+00 -1.60996139e-03]\n",
      "Variable: dense_1/kernel:0, Gradient shape: (128, 128)\n",
      "[[-6.2684870e+00 -2.4568148e+00  1.8787411e+00 ... -3.5631444e+00\n",
      "  -6.0818404e-01  2.9463820e+00]\n",
      " [-9.2688847e+00  4.5100428e-02  1.1891515e+00 ... -6.5195704e-01\n",
      "   9.5660863e-03  8.7192738e-01]\n",
      " [-2.1866493e+00  4.0214763e+00  1.0812920e+01 ...  2.4225974e+00\n",
      "  -2.2621803e+00  6.0395679e+00]\n",
      " ...\n",
      " [-5.2371221e+00  3.0133075e-03  5.9308596e+00 ... -1.7881728e+00\n",
      "  -1.2284678e+00  1.8569121e+00]\n",
      " [-3.9510292e+01 -1.8454442e+00 -2.2714213e-01 ... -3.7921371e+00\n",
      "  -4.5550134e-04 -1.3288183e+01]\n",
      " [-3.3857539e-06  0.0000000e+00  0.0000000e+00 ...  0.0000000e+00\n",
      "   0.0000000e+00  2.9907073e-03]]\n",
      "Variable: dense_1/bias:0, Gradient shape: (128,)\n",
      "[-4.2679944e+00  2.9621351e-01  1.2105553e+00  9.9422741e-01\n",
      " -6.3761187e-01  3.8765520e-03  1.6570303e+00 -5.5175136e-05\n",
      "  6.2501538e-01 -9.9126756e-02  4.3925688e-01 -1.2338556e-02\n",
      "  7.2503221e-01 -7.3956549e-01  4.1971316e+00  2.3923424e-01\n",
      " -1.7769170e-01  3.4127181e+00 -7.6226091e-01 -1.7558923e+00\n",
      " -1.6139213e+00 -5.9443855e-01 -6.6866994e-01  2.0319125e-01\n",
      " -2.2913761e-01  1.3664840e+00 -2.9568321e-03 -4.7799850e-01\n",
      "  1.7421061e-01 -5.2167801e-03 -1.5242233e+00 -3.7200356e-01\n",
      "  3.9652473e-01 -3.1488662e+00 -2.1245500e-01 -1.0850488e+00\n",
      "  7.9662961e-01 -1.8651086e-01 -4.7422552e-01 -6.4599830e-01\n",
      " -1.0935685e-01  2.9220679e-01  2.9045445e-01 -1.1092601e+00\n",
      " -4.5604181e-01 -1.5006682e+00  4.9130544e-02  4.9634802e-01\n",
      "  4.5444739e-01  1.5110032e-01 -1.3482292e-01 -7.8237161e-02\n",
      "  4.3301161e-02  7.0329165e-01 -7.9315680e-01 -8.0537125e-02\n",
      " -2.2595696e-04 -1.6714113e+00 -1.4005663e+00 -9.0840423e-01\n",
      "  2.1798410e+00  1.1600014e+00 -2.1101139e+00 -1.4515318e+00\n",
      "  7.9681396e-01  1.7963182e+00 -4.0935084e-01  2.2606120e-05\n",
      " -1.7083105e-01  0.0000000e+00 -2.8850088e+00 -1.4035901e-03\n",
      " -1.8857068e-01 -1.3021238e-01  1.5031695e-05  2.7845189e-01\n",
      " -9.0975785e-01  1.0985620e+00 -3.5018742e+00 -3.8943636e-01\n",
      " -1.3964646e+00  9.9421686e-01  8.1160337e-02 -6.1164200e-03\n",
      "  1.1557839e+00  3.0398259e-01  1.1660656e-02 -8.9947864e-02\n",
      " -5.4929990e-01  2.4451524e-01 -3.6077946e-01 -2.0132634e-01\n",
      "  2.1187505e-02  2.5079542e-01  3.6505449e-01 -7.2026446e-02\n",
      "  7.1911240e-01 -1.0612444e+00  4.2031488e+00 -3.9254668e+00\n",
      " -8.0012637e-01  5.3586121e+00 -4.1489673e-01 -2.6231070e+00\n",
      " -3.5981196e-01 -1.6298389e-01  1.9309616e+00 -4.4652027e-01\n",
      " -6.8049990e-02 -2.3138509e+00  2.0146751e+00  2.3938394e-01\n",
      "  9.3303055e-02 -5.6149989e-02 -4.7428134e-01  4.6592256e-01\n",
      " -3.4834981e-01  4.6820867e-01 -2.3108749e-05 -3.1218318e-02\n",
      "  3.6969006e-02  2.8207419e+00  1.5259004e-01 -3.6982971e-01\n",
      "  1.9924513e+00 -3.7019506e-01 -2.3250589e-01 -5.2366436e-01]\n",
      "Variable: dense_2/kernel:0, Gradient shape: (128, 10)\n",
      "[[-2.37406540e+00  3.03082409e+01 -1.77320945e+00 ...  1.14495766e+02\n",
      "  -9.37306285e-01 -1.36504547e+02]\n",
      " [-3.66671157e+00  3.17534581e-02  1.67627763e-02 ...  9.35072731e-03\n",
      "   5.52622175e+00 -1.12487149e+00]\n",
      " [-7.23054934e+00  5.77589989e+00  4.24128685e+01 ... -1.53491421e+01\n",
      "  -9.99030304e+00  7.47924268e-01]\n",
      " ...\n",
      " [-3.27149391e-01 -3.70349735e-01  3.02385569e+00 ...  8.22142887e+00\n",
      "   6.11732817e+00  5.74496078e+00]\n",
      " [-1.67628324e+00  1.75477937e-02  3.52387756e-01 ...  1.12170659e-01\n",
      "   4.63001102e-01  3.19073975e-01]\n",
      " [-3.53656654e+01  8.61215368e-02  1.83779955e+00 ...  1.35204582e+01\n",
      "  -1.29969969e+01 -8.45927238e+00]]\n",
      "Variable: dense_2/bias:0, Gradient shape: (10,)\n",
      "[-13.02235     5.8012166  -7.2227507  -7.5787206  19.71873    11.966394\n",
      "   1.1764734  21.525545    1.6645982 -34.029785 ]\n"
     ]
    }
   ],
   "source": [
    "# Найдем градиенты через tf.GradientTape\n",
    "with tf.GradientTape() as tape:\n",
    "    y_pred = model(X_test)\n",
    "    loss_value = tf.keras.losses.categorical_crossentropy(y_test, y_pred)\n",
    "\n",
    "# Рассчитать градиенты потерь по отношению к обучаемым переменным модели\n",
    "gradients = tape.gradient(loss_value, model.trainable_variables)\n",
    "\n",
    "# Выведем сами градиенты и переменные, к которым они относятся\n",
    "for var, grad in zip(model.trainable_variables, gradients):\n",
    "    print(f\"Variable: {var.name}, Gradient shape: {grad.shape}\")\n",
    "    print(grad.numpy())"
   ]
  },
  {
   "cell_type": "markdown",
   "metadata": {},
   "source": [
    "### Определить параметры нейронной сети, при которых точность классификации максимальна\n",
    "\n",
    "Чтобы определить параметры нейронной сети, при которых точность классификации максимальна, мы\n",
    "- должны проанализировать объект history, возвращаемый методом fit(), который содержит историю обучения, включая значения точности для каждой эпохи;\n",
    "- найти эпоху с лучшей точностью проверки;\n",
    "- по мере обучения модели мы сохраняем веса, полученные на каждой эпохе, в отдельный файл. Загрузим веса из файла соответсвующего эпохе с лучшей точностью;\n",
    "- используем model.get_weights() для получения параметров (весов и смещений) модели в лучшую эпоху. Мы перебираем параметры и выводим их формы, чтобы проверить размеры параметров каждого слоя."
   ]
  },
  {
   "cell_type": "code",
   "execution_count": 16,
   "metadata": {},
   "outputs": [
    {
     "name": "stdout",
     "output_type": "stream",
     "text": [
      "Best accuracy: 0.9791666865348816\n",
      "Best params:\n",
      "[[-0.04629204  0.06990304  0.0258188  ... -0.0710553   0.18708406\n",
      "   0.15787755]\n",
      " [ 0.06423483  0.04526265  0.04913613 ... -0.10262723  0.09807988\n",
      "   0.01804112]\n",
      " [-0.04484887  0.00375663  0.12461584 ... -0.03612404  0.22367525\n",
      "   0.02426236]\n",
      " ...\n",
      " [-0.01531738  0.08001369  0.13642788 ... -0.08366265  0.09461308\n",
      "   0.11169851]\n",
      " [ 0.00280763  0.04329168  0.09190278 ... -0.10850544  0.06513637\n",
      "   0.1288529 ]\n",
      " [ 0.02505323  0.01513023  0.01823278 ... -0.13223131  0.15637478\n",
      "   0.10989331]]\n",
      "[-0.00338947 -0.03522573 -0.07446598 -0.06563316 -0.17879623  0.11249764\n",
      " -0.13821243 -0.09273798 -0.09154113  0.16389397 -0.06216674 -0.1315785\n",
      " -0.14293465 -0.01786655 -0.10030112 -0.12182294 -0.04514779 -0.06400953\n",
      "  0.01290062 -0.04772647 -0.03516588 -0.09726825 -0.19053268 -0.13331857\n",
      "  0.03641406 -0.15574157 -0.12375885 -0.11347263 -0.06743915 -0.14561841\n",
      " -0.05805733 -0.02485945 -0.12787129  0.05488549 -0.12868126 -0.06395329\n",
      " -0.09099336 -0.21838562 -0.07906976 -0.07760466 -0.12633519 -0.07924207\n",
      " -0.1215201  -0.06750879 -0.21104977 -0.063025   -0.07370694 -0.2475563\n",
      " -0.11534771 -0.09661501 -0.04063229 -0.08591991 -0.02959051 -0.06803646\n",
      " -0.16780403 -0.00734888 -0.08547239 -0.10184129  0.03710013 -0.04677373\n",
      " -0.11668395 -0.08855268 -0.02383314 -0.14199765  0.02149977 -0.06515548\n",
      " -0.15060575 -0.0612623  -0.10141802 -0.13380687  0.00243018 -0.1687749\n",
      " -0.04575815 -0.12663756 -0.11209318 -0.0582365   0.05458173  0.14819099\n",
      " -0.10748374 -0.15085165 -0.16584848 -0.10926636 -0.13248482 -0.05738445\n",
      "  0.00100136 -0.15483631 -0.04126797 -0.06371228 -0.03977168 -0.13944331\n",
      "  0.03067147 -0.01395361 -0.05235665 -0.04215887 -0.12667984 -0.13639413\n",
      " -0.00936225 -0.12669392 -0.07612561 -0.09819513 -0.08193497 -0.06815147\n",
      " -0.15345998 -0.10231713 -0.1208121  -0.1796131  -0.00191014 -0.10495615\n",
      " -0.07086133 -0.00394543  0.02424306  0.02320694 -0.00335357 -0.07702553\n",
      " -0.12629099 -0.01013608 -0.1744423  -0.13316107 -0.09539715 -0.08209651\n",
      " -0.12936458 -0.05583749 -0.18867084  0.01040041  0.0006142   0.06193973\n",
      " -0.13584146 -0.07715747]\n",
      "[[-0.02746044  0.0846683  -0.02040492 ... -0.00190615  0.13128673\n",
      "   0.02001218]\n",
      " [-0.14528933 -0.20632496 -0.07772583 ...  0.20804314 -0.18495865\n",
      "  -0.35033393]\n",
      " [-0.07294378  0.07477454 -0.15085301 ... -0.14880441  0.22839768\n",
      "   0.17401834]\n",
      " ...\n",
      " [-0.14242178 -0.05437344 -0.2562598  ... -0.30009916 -0.28588772\n",
      "  -0.02625709]\n",
      " [-0.12281372  0.02205296 -0.23862728 ... -0.35174692 -0.26779634\n",
      "   0.05770455]\n",
      " [ 0.39553827  0.06177445 -0.26821133 ... -0.29596388 -0.06335489\n",
      "   0.11551741]]\n",
      "[ 0.19539376 -0.01630642  0.3229814  -0.00960206 -0.3328211  -0.22253627\n",
      " -0.38863894 -0.48159555 -0.07446552 -0.4274431  -0.5101184  -0.37084532\n",
      " -0.03850491 -0.01363282 -0.1603107  -0.6592968  -0.40391067 -0.00880008\n",
      "  0.25491884 -0.13893858  0.11859829  0.32039443 -0.2526601  -0.0064465\n",
      " -0.16870351 -0.55541587 -0.25718102 -0.33576456 -0.26033822 -0.20494267\n",
      "  0.37918818 -0.32940456 -0.38978133 -0.02266335 -0.44835466 -0.14112496\n",
      "  0.05711316  0.28891876  0.07646343 -0.29752275 -0.24606127 -0.32011014\n",
      "  0.28547516  0.08057797 -0.33406365 -0.01687262 -0.25619218 -0.33115193\n",
      " -0.49359298 -0.20439996  0.14194158 -0.21722479 -0.50274044 -0.42219526\n",
      " -0.20206003 -0.28522623 -0.27496666  0.44711193 -0.21210532 -0.0090919\n",
      " -0.22781532  0.11417165 -0.07104433 -0.18571691 -0.12150718 -0.353902\n",
      " -0.09215319 -0.33325177 -0.30534747 -0.2613836   0.12129138  0.04261404\n",
      " -0.1940874  -0.43425947 -0.3112267  -0.3753877   0.64286804  0.18609485\n",
      " -0.16605611 -0.28177857 -0.10411436 -0.16766234  0.1407994  -0.35897422\n",
      "  0.26000765 -0.10029448 -0.3597899  -0.35356778 -0.03294367 -0.01786306\n",
      " -0.28066012  0.00504771 -0.0431578  -0.25441355 -0.3917085  -0.32550883\n",
      " -0.474329    0.08185653 -0.11775906  0.04106271  0.05271256 -0.01083887\n",
      " -0.5601587   0.11869112 -0.35282052 -0.28166407 -0.55666876 -0.32689926\n",
      "  0.08667265  0.28326187 -0.33655563 -0.30720678 -0.6933395  -0.06951739\n",
      "  0.14563139 -0.23619704 -0.32169774  0.08269925 -0.5108105  -0.046165\n",
      " -0.4785534  -0.5434909  -0.25277212 -0.40839648 -0.32543817 -0.0410891\n",
      "  0.29809672  0.05449464]\n",
      "[[-2.73393858e-02  1.03571095e-01 -9.40018296e-02 ...  9.18754861e-02\n",
      "   5.39072491e-02  1.02323316e-01]\n",
      " [-5.34907281e-01 -3.35882306e-01 -2.09927440e-01 ... -5.92913777e-02\n",
      "   7.71388272e-03 -2.23017141e-01]\n",
      " [-1.37344748e-01 -2.24212170e-04  9.22437385e-02 ...  8.98445919e-02\n",
      "   1.62335992e-01  4.71508838e-02]\n",
      " ...\n",
      " [-1.77129075e-01 -1.49853989e-01  1.50782606e-02 ... -2.01709554e-01\n",
      "  -2.44587939e-02 -1.10265743e-02]\n",
      " [ 4.71012201e-03 -3.98192316e-01 -1.36464611e-02 ... -1.86256602e-01\n",
      "   4.14688094e-03 -3.27813663e-02]\n",
      " [ 4.98138219e-02 -1.66985616e-01 -9.17057022e-02 ... -5.78015111e-02\n",
      "  -5.65998554e-02  1.00652277e-01]]\n",
      "[ 0.28601068 -0.5481814  -0.09037429  0.16526456 -0.12951714 -0.1773572\n",
      " -0.4184996  -0.3629471   0.84918284  0.10002299]\n"
     ]
    }
   ],
   "source": [
    "# Найдем эпоху с наивысшей точностью валидации\n",
    "best_epoch = np.argmax(history.history['val_accuracy'])\n",
    "best_accuracy = history.history['val_accuracy'][best_epoch]\n",
    "\n",
    "# Получим веса модели для этой эпохи из файла, сохраненного ранее на этапе обучения\n",
    "model.load_weights(f'weights.{best_epoch+1:02d}.h5')\n",
    "\n",
    "# Получим параметры модели для лучшей эпохи\n",
    "best_parameters = model.get_weights()\n",
    "\n",
    "print(f\"Best accuracy: {best_accuracy}\")\n",
    "print(\"Best params:\")\n",
    "for layer_param in best_parameters:\n",
    "    print(layer_param)"
   ]
  },
  {
   "cell_type": "code",
   "execution_count": 17,
   "metadata": {},
   "outputs": [
    {
     "name": "stdout",
     "output_type": "stream",
     "text": [
      "Описание модели:\n",
      "Model: \"sequential\"\n",
      "_________________________________________________________________\n",
      " Layer (type)                Output Shape              Param #   \n",
      "=================================================================\n",
      " lambda (Lambda)             (None, 28, 28, 1)         0         \n",
      "                                                                 \n",
      " flatten (Flatten)           (None, 784)               0         \n",
      "                                                                 \n",
      " dense (Dense)               (None, 128)               100480    \n",
      "                                                                 \n",
      " dense_1 (Dense)             (None, 128)               16512     \n",
      "                                                                 \n",
      " dense_2 (Dense)             (None, 10)                1290      \n",
      "                                                                 \n",
      "=================================================================\n",
      "Total params: 118282 (462.04 KB)\n",
      "Trainable params: 118282 (462.04 KB)\n",
      "Non-trainable params: 0 (0.00 Byte)\n",
      "_________________________________________________________________\n"
     ]
    }
   ],
   "source": [
    "print(\"Описание модели:\")\n",
    "model.summary()"
   ]
  }
 ],
 "metadata": {
  "kernelspec": {
   "display_name": "venv",
   "language": "python",
   "name": "python3"
  },
  "language_info": {
   "codemirror_mode": {
    "name": "ipython",
    "version": 3
   },
   "file_extension": ".py",
   "mimetype": "text/x-python",
   "name": "python",
   "nbconvert_exporter": "python",
   "pygments_lexer": "ipython3",
   "version": "3.10.7"
  }
 },
 "nbformat": 4,
 "nbformat_minor": 2
}
