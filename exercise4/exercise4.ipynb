{
 "cells": [
  {
   "cell_type": "code",
   "execution_count": 1,
   "metadata": {},
   "outputs": [
    {
     "name": "stdout",
     "output_type": "stream",
     "text": [
      "WARNING:tensorflow:From d:\\www\\ml-python\\venv\\lib\\site-packages\\keras\\src\\losses.py:2976: The name tf.losses.sparse_softmax_cross_entropy is deprecated. Please use tf.compat.v1.losses.sparse_softmax_cross_entropy instead.\n",
      "\n"
     ]
    }
   ],
   "source": [
    "import numpy as np\n",
    "import pandas as pd\n",
    "import matplotlib.pyplot as plt\n",
    "import tensorflow as tf\n",
    "from sklearn.model_selection import train_test_split\n",
    "from sklearn.preprocessing import normalize\n",
    "from tensorflow.keras.models import Sequential\n",
    "from tensorflow.keras.layers import Dense, Flatten, Lambda\n",
    "from tensorflow.keras.preprocessing.image import ImageDataGenerator\n",
    "from tensorflow.keras.utils import to_categorical"
   ]
  },
  {
   "cell_type": "code",
   "execution_count": 2,
   "metadata": {},
   "outputs": [],
   "source": [
    "# загружаем данные и разбиваем их на составляющие\n",
    "train = pd.read_csv(\"./train.csv\")\n",
    "y_train = train[\"label\"]\n",
    "X_train = train.drop(labels = [\"label\"],axis = 1)"
   ]
  },
  {
   "cell_type": "code",
   "execution_count": 3,
   "metadata": {},
   "outputs": [],
   "source": [
    "\n",
    "X_train = normalize(X_train.astype('float32'), axis=1)\n",
    "\n",
    "# Из файла информацию о изображения с цифрами мы получили в виде одномерных векторов из 784 значений\n",
    "# Переформируем все данные в трехмерные матрицы 28x28x1.\n",
    "# Keras требует дополнительное измерение в конце, для каналов. \n",
    "# Если бы это были RGB-изображения, то было бы 3 канала, но поскольку у нас \"черно-белое\" изображение, мы указываем 1 серый канал.\n",
    "X_train = X_train.reshape(X_train.shape[0], 28, 28, 1)"
   ]
  },
  {
   "cell_type": "code",
   "execution_count": 4,
   "metadata": {},
   "outputs": [
    {
     "data": {
      "image/png": "[encoded data removed]",
      "text/plain": [
       "<Figure size 640x480 with 3 Axes>"
      ]
     },
     "metadata": {},
     "output_type": "display_data"
    }
   ],
   "source": [
    "# убедимся, что все ок, выведем сами тестовые изображения и соответствующие им цифры \n",
    "for i in range(6, 9):\n",
    "    plt.subplot(330 + (i+1))\n",
    "    plt.imshow(X_train[i], cmap=plt.get_cmap('gray'))\n",
    "    plt.title(y_train[i])"
   ]
  },
  {
   "cell_type": "code",
   "execution_count": 5,
   "metadata": {},
   "outputs": [],
   "source": [
    "mean_px = X_train.mean().astype(np.float32)\n",
    "std_px = X_train.std().astype(np.float32)\n",
    "\n",
    "# Нормализуем данные\n",
    "def normalize(x): \n",
    "    return (x-mean_px)/std_px"
   ]
  },
  {
   "cell_type": "markdown",
   "metadata": {},
   "source": [
    "Метки в данном случае представлены целыми числами от 0 до 9. \n",
    "Нам нужно применить one-hot encoding, чтобы преобразовать эти one-hot числовой массив (например: 2 -> [0,0,1,0,0,0,0,0,0,0,0])."
   ]
  },
  {
   "cell_type": "code",
   "execution_count": 6,
   "metadata": {},
   "outputs": [
    {
     "name": "stdout",
     "output_type": "stream",
     "text": [
      "1 преобрауется в \n",
      "[0. 1. 0. 0. 0. 0. 0. 0. 0. 0.]\n"
     ]
    }
   ],
   "source": [
    "print(f\"{y_train[0]} преобрауется в \")\n",
    "y_train = to_categorical(y_train, num_classes = 10)\n",
    "# Пример:\n",
    "print(y_train[0])"
   ]
  },
  {
   "cell_type": "code",
   "execution_count": 7,
   "metadata": {},
   "outputs": [],
   "source": [
    "X_train, X_test, y_train, y_test = train_test_split(X_train, y_train, test_size = 0.2, random_state=42)"
   ]
  },
  {
   "cell_type": "code",
   "execution_count": 8,
   "metadata": {},
   "outputs": [],
   "source": [
    "datagen = ImageDataGenerator(zoom_range = 0.1,\n",
    "                            height_shift_range = 0.1,\n",
    "                            width_shift_range = 0.1,\n",
    "                            rotation_range = 10)\n"
   ]
  },
  {
   "cell_type": "code",
   "execution_count": 9,
   "metadata": {},
   "outputs": [
    {
     "name": "stdout",
     "output_type": "stream",
     "text": [
      "WARNING:tensorflow:From d:\\www\\ml-python\\venv\\lib\\site-packages\\keras\\src\\backend.py:873: The name tf.get_default_graph is deprecated. Please use tf.compat.v1.get_default_graph instead.\n",
      "\n"
     ]
    }
   ],
   "source": [
    "model = Sequential()\n",
    "model.add(Lambda(normalize,input_shape=(28, 28, 1)))\n",
    "model.add(Flatten())\n",
    "model.add(Dense(128, activation='relu')),\n",
    "model.add(Dense(128, activation='relu')),\n",
    "model.add(Dense(10, activation='softmax'))"
   ]
  },
  {
   "cell_type": "code",
   "execution_count": 10,
   "metadata": {},
   "outputs": [
    {
     "name": "stdout",
     "output_type": "stream",
     "text": [
      "WARNING:tensorflow:From d:\\www\\ml-python\\venv\\lib\\site-packages\\keras\\src\\optimizers\\__init__.py:309: The name tf.train.Optimizer is deprecated. Please use tf.compat.v1.train.Optimizer instead.\n",
      "\n"
     ]
    }
   ],
   "source": [
    "model.compile(optimizer='adam', loss='categorical_crossentropy', metrics=['accuracy'])"
   ]
  },
  {
   "cell_type": "code",
   "execution_count": 11,
   "metadata": {},
   "outputs": [
    {
     "name": "stdout",
     "output_type": "stream",
     "text": [
      "Epoch 1/30\n",
      "WARNING:tensorflow:From d:\\www\\ml-python\\venv\\lib\\site-packages\\keras\\src\\utils\\tf_utils.py:492: The name tf.ragged.RaggedTensorValue is deprecated. Please use tf.compat.v1.ragged.RaggedTensorValue instead.\n",
      "\n",
      "WARNING:tensorflow:From d:\\www\\ml-python\\venv\\lib\\site-packages\\keras\\src\\engine\\base_layer_utils.py:384: The name tf.executing_eagerly_outside_functions is deprecated. Please use tf.compat.v1.executing_eagerly_outside_functions instead.\n",
      "\n",
      "2094/2100 [============================>.] - ETA: 0s - loss: 0.4858 - accuracy: 0.8449\n",
      "Epoch 1: saving model to weights.01.h5\n",
      "2100/2100 [==============================] - 14s 6ms/step - loss: 0.4857 - accuracy: 0.8449 - val_loss: 0.2196 - val_accuracy: 0.9325\n",
      "Epoch 2/30\n",
      "2092/2100 [============================>.] - ETA: 0s - loss: 0.2565 - accuracy: 0.9204\n",
      "Epoch 2: saving model to weights.02.h5\n",
      "2100/2100 [==============================] - 13s 6ms/step - loss: 0.2569 - accuracy: 0.9203 - val_loss: 0.1579 - val_accuracy: 0.9520\n",
      "Epoch 3/30\n",
      "2092/2100 [============================>.] - ETA: 0s - loss: 0.2120 - accuracy: 0.9341\n",
      "Epoch 3: saving model to weights.03.h5\n",
      "2100/2100 [==============================] - 12s 6ms/step - loss: 0.2120 - accuracy: 0.9342 - val_loss: 0.1313 - val_accuracy: 0.9582\n",
      "Epoch 4/30\n",
      "2095/2100 [============================>.] - ETA: 0s - loss: 0.1912 - accuracy: 0.9424\n",
      "Epoch 4: saving model to weights.04.h5\n",
      "2100/2100 [==============================] - 13s 6ms/step - loss: 0.1912 - accuracy: 0.9424 - val_loss: 0.1124 - val_accuracy: 0.9642\n",
      "Epoch 5/30\n",
      "2099/2100 [============================>.] - ETA: 0s - loss: 0.1727 - accuracy: 0.9466\n",
      "Epoch 5: saving model to weights.05.h5\n",
      "2100/2100 [==============================] - 17s 8ms/step - loss: 0.1727 - accuracy: 0.9465 - val_loss: 0.1430 - val_accuracy: 0.9535\n",
      "Epoch 6/30\n",
      "2099/2100 [============================>.] - ETA: 0s - loss: 0.1609 - accuracy: 0.9493\n",
      "Epoch 6: saving model to weights.06.h5\n",
      "2100/2100 [==============================] - 16s 7ms/step - loss: 0.1608 - accuracy: 0.9493 - val_loss: 0.1097 - val_accuracy: 0.9648\n",
      "Epoch 7/30\n",
      "2098/2100 [============================>.] - ETA: 0s - loss: 0.1569 - accuracy: 0.9523\n",
      "Epoch 7: saving model to weights.07.h5\n",
      "2100/2100 [==============================] - 16s 8ms/step - loss: 0.1569 - accuracy: 0.9523 - val_loss: 0.1169 - val_accuracy: 0.9642\n",
      "Epoch 8/30\n",
      "2095/2100 [============================>.] - ETA: 0s - loss: 0.1555 - accuracy: 0.9524\n",
      "Epoch 8: saving model to weights.08.h5\n",
      "2100/2100 [==============================] - 16s 8ms/step - loss: 0.1553 - accuracy: 0.9524 - val_loss: 0.1116 - val_accuracy: 0.9681\n",
      "Epoch 9/30\n",
      "2094/2100 [============================>.] - ETA: 0s - loss: 0.1412 - accuracy: 0.9560\n",
      "Epoch 9: saving model to weights.09.h5\n",
      "2100/2100 [==============================] - 16s 8ms/step - loss: 0.1415 - accuracy: 0.9560 - val_loss: 0.1069 - val_accuracy: 0.9686\n",
      "Epoch 10/30\n",
      "2098/2100 [============================>.] - ETA: 0s - loss: 0.1396 - accuracy: 0.9573\n",
      "Epoch 10: saving model to weights.10.h5\n",
      "2100/2100 [==============================] - 18s 9ms/step - loss: 0.1397 - accuracy: 0.9572 - val_loss: 0.0873 - val_accuracy: 0.9735\n",
      "Epoch 11/30\n",
      "2096/2100 [============================>.] - ETA: 0s - loss: 0.1336 - accuracy: 0.9586\n",
      "Epoch 11: saving model to weights.11.h5\n",
      "2100/2100 [==============================] - 17s 8ms/step - loss: 0.1334 - accuracy: 0.9586 - val_loss: 0.1001 - val_accuracy: 0.9721\n",
      "Epoch 12/30\n",
      "2094/2100 [============================>.] - ETA: 0s - loss: 0.1303 - accuracy: 0.9599\n",
      "Epoch 12: saving model to weights.12.h5\n",
      "2100/2100 [==============================] - 17s 8ms/step - loss: 0.1303 - accuracy: 0.9598 - val_loss: 0.0927 - val_accuracy: 0.9723\n",
      "Epoch 13/30\n",
      "2098/2100 [============================>.] - ETA: 0s - loss: 0.1323 - accuracy: 0.9607\n",
      "Epoch 13: saving model to weights.13.h5\n",
      "2100/2100 [==============================] - 18s 8ms/step - loss: 0.1324 - accuracy: 0.9606 - val_loss: 0.0920 - val_accuracy: 0.9715\n",
      "Epoch 14/30\n",
      "2095/2100 [============================>.] - ETA: 0s - loss: 0.1297 - accuracy: 0.9601\n",
      "Epoch 14: saving model to weights.14.h5\n",
      "2100/2100 [==============================] - 18s 8ms/step - loss: 0.1297 - accuracy: 0.9601 - val_loss: 0.0869 - val_accuracy: 0.9750\n",
      "Epoch 15/30\n",
      "2099/2100 [============================>.] - ETA: 0s - loss: 0.1286 - accuracy: 0.9616\n",
      "Epoch 15: saving model to weights.15.h5\n",
      "2100/2100 [==============================] - 16s 8ms/step - loss: 0.1287 - accuracy: 0.9615 - val_loss: 0.0921 - val_accuracy: 0.9725\n",
      "Epoch 16/30\n",
      "2095/2100 [============================>.] - ETA: 0s - loss: 0.1232 - accuracy: 0.9619\n",
      "Epoch 16: saving model to weights.16.h5\n",
      "2100/2100 [==============================] - 16s 8ms/step - loss: 0.1231 - accuracy: 0.9619 - val_loss: 0.0859 - val_accuracy: 0.9745\n",
      "Epoch 17/30\n",
      "2097/2100 [============================>.] - ETA: 0s - loss: 0.1227 - accuracy: 0.9627\n",
      "Epoch 17: saving model to weights.17.h5\n",
      "2100/2100 [==============================] - 16s 8ms/step - loss: 0.1228 - accuracy: 0.9627 - val_loss: 0.0766 - val_accuracy: 0.9786\n",
      "Epoch 18/30\n",
      "2096/2100 [============================>.] - ETA: 0s - loss: 0.1218 - accuracy: 0.9630\n",
      "Epoch 18: saving model to weights.18.h5\n",
      "2100/2100 [==============================] - 17s 8ms/step - loss: 0.1218 - accuracy: 0.9630 - val_loss: 0.0746 - val_accuracy: 0.9789\n",
      "Epoch 19/30\n",
      "2096/2100 [============================>.] - ETA: 0s - loss: 0.1181 - accuracy: 0.9644\n",
      "Epoch 19: saving model to weights.19.h5\n",
      "2100/2100 [==============================] - 20s 10ms/step - loss: 0.1180 - accuracy: 0.9644 - val_loss: 0.0817 - val_accuracy: 0.9774\n",
      "Epoch 20/30\n",
      "2098/2100 [============================>.] - ETA: 0s - loss: 0.1150 - accuracy: 0.9650\n",
      "Epoch 20: saving model to weights.20.h5\n",
      "2100/2100 [==============================] - 18s 9ms/step - loss: 0.1152 - accuracy: 0.9650 - val_loss: 0.0880 - val_accuracy: 0.9743\n",
      "Epoch 21/30\n",
      "2096/2100 [============================>.] - ETA: 0s - loss: 0.1154 - accuracy: 0.9662\n",
      "Epoch 21: saving model to weights.21.h5\n",
      "2100/2100 [==============================] - 18s 9ms/step - loss: 0.1152 - accuracy: 0.9663 - val_loss: 0.0904 - val_accuracy: 0.9751\n",
      "Epoch 22/30\n",
      "2095/2100 [============================>.] - ETA: 0s - loss: 0.1104 - accuracy: 0.9666\n",
      "Epoch 22: saving model to weights.22.h5\n",
      "2100/2100 [==============================] - 17s 8ms/step - loss: 0.1102 - accuracy: 0.9666 - val_loss: 0.0798 - val_accuracy: 0.9769\n",
      "Epoch 23/30\n",
      "2094/2100 [============================>.] - ETA: 0s - loss: 0.1117 - accuracy: 0.9661\n",
      "Epoch 23: saving model to weights.23.h5\n",
      "2100/2100 [==============================] - 19s 9ms/step - loss: 0.1114 - accuracy: 0.9662 - val_loss: 0.0806 - val_accuracy: 0.9773\n",
      "Epoch 24/30\n",
      "2094/2100 [============================>.] - ETA: 0s - loss: 0.1123 - accuracy: 0.9659\n",
      "Epoch 24: saving model to weights.24.h5\n",
      "2100/2100 [==============================] - 17s 8ms/step - loss: 0.1121 - accuracy: 0.9660 - val_loss: 0.0772 - val_accuracy: 0.9788\n",
      "Epoch 25/30\n",
      "2099/2100 [============================>.] - ETA: 0s - loss: 0.1138 - accuracy: 0.9653\n",
      "Epoch 25: saving model to weights.25.h5\n",
      "2100/2100 [==============================] - 17s 8ms/step - loss: 0.1137 - accuracy: 0.9653 - val_loss: 0.0793 - val_accuracy: 0.9774\n",
      "Epoch 26/30\n",
      "2099/2100 [============================>.] - ETA: 0s - loss: 0.1049 - accuracy: 0.9684\n",
      "Epoch 26: saving model to weights.26.h5\n",
      "2100/2100 [==============================] - 17s 8ms/step - loss: 0.1048 - accuracy: 0.9685 - val_loss: 0.0859 - val_accuracy: 0.9770\n",
      "Epoch 27/30\n",
      "2097/2100 [============================>.] - ETA: 0s - loss: 0.1071 - accuracy: 0.9688\n",
      "Epoch 27: saving model to weights.27.h5\n",
      "2100/2100 [==============================] - 21s 10ms/step - loss: 0.1069 - accuracy: 0.9688 - val_loss: 0.0733 - val_accuracy: 0.9798\n",
      "Epoch 28/30\n",
      "2096/2100 [============================>.] - ETA: 0s - loss: 0.1085 - accuracy: 0.9678\n",
      "Epoch 28: saving model to weights.28.h5\n",
      "2100/2100 [==============================] - 19s 9ms/step - loss: 0.1085 - accuracy: 0.9678 - val_loss: 0.0752 - val_accuracy: 0.9775\n",
      "Epoch 29/30\n",
      "2097/2100 [============================>.] - ETA: 0s - loss: 0.1106 - accuracy: 0.9677\n",
      "Epoch 29: saving model to weights.29.h5\n",
      "2100/2100 [==============================] - 18s 9ms/step - loss: 0.1105 - accuracy: 0.9677 - val_loss: 0.0780 - val_accuracy: 0.9793\n",
      "Epoch 30/30\n",
      "2095/2100 [============================>.] - ETA: 0s - loss: 0.1020 - accuracy: 0.9696\n",
      "Epoch 30: saving model to weights.30.h5\n",
      "2100/2100 [==============================] - 18s 9ms/step - loss: 0.1019 - accuracy: 0.9696 - val_loss: 0.0692 - val_accuracy: 0.9806\n",
      "263/263 [==============================] - 1s 2ms/step - loss: 0.0692 - accuracy: 0.9806\n",
      "Final loss: 0.0691864863038063\n",
      "Final accuracy: 0.9805952310562134\n"
     ]
    }
   ],
   "source": [
    "from tensorflow.keras.callbacks import ModelCheckpoint\n",
    "# Определим callback для сохранения весов на каждой этапе обучения\n",
    "# Это понадобится позже для определения параметров, при которых точность максимальна\n",
    "checkpoint_callback = ModelCheckpoint(\n",
    "    filepath='weights.{epoch:02d}.h5',\n",
    "    save_weights_only=True,\n",
    "    save_best_only=False,\n",
    "    verbose=1\n",
    ")\n",
    "\n",
    "history = model.fit(datagen.flow(X_train, y_train, batch_size=16),\n",
    "                    epochs=30, \n",
    "                    verbose=1,\n",
    "                    validation_data=(X_test, y_test), callbacks=[checkpoint_callback])\n",
    "\n",
    "loss, accuracy = model.evaluate(X_test, y_test)\n",
    "\n",
    "print(f\"Final loss: {loss}\")\n",
    "print(f\"Final accuracy: {accuracy}\")\n"
   ]
  },
  {
   "cell_type": "code",
   "execution_count": 12,
   "metadata": {},
   "outputs": [
    {
     "data": {
      "text/plain": [
       "dict_keys(['loss', 'accuracy', 'val_loss', 'val_accuracy'])"
      ]
     },
     "execution_count": 12,
     "metadata": {},
     "output_type": "execute_result"
    }
   ],
   "source": [
    "history_dict = history.history\n",
    "history_dict.keys()"
   ]
  },
  {
   "cell_type": "markdown",
   "metadata": {},
   "source": [
    "Посмотрим, как происходило изменение точности на каждой из эпох"
   ]
  },
  {
   "cell_type": "code",
   "execution_count": 13,
   "metadata": {},
   "outputs": [
    {
     "data": {
      "image/png": "[encoded data removed]",
      "text/plain": [
       "<Figure size 640x480 with 1 Axes>"
      ]
     },
     "metadata": {},
     "output_type": "display_data"
    }
   ],
   "source": [
    "loss_values = history_dict['loss']\n",
    "val_loss_values = history_dict['val_loss']\n",
    "epochs = range(1, len(loss_values) + 1)\n",
    "\n",
    "# \"bo\" is for \"blue dot\"\n",
    "plt.plot(epochs, loss_values, 'bo')\n",
    "# b+ is for \"blue crosses\"\n",
    "plt.plot(epochs, val_loss_values, 'b+')\n",
    "plt.xlabel('Epochs')\n",
    "plt.ylabel('Loss')\n",
    "\n",
    "plt.show()"
   ]
  },
  {
   "cell_type": "code",
   "execution_count": 14,
   "metadata": {},
   "outputs": [
    {
     "data": {
      "image/png": "[encoded data removed]",
      "text/plain": [
       "<Figure size 640x480 with 1 Axes>"
      ]
     },
     "metadata": {},
     "output_type": "display_data"
    }
   ],
   "source": [
    "plt.clf()\n",
    "acc_values = history_dict['accuracy']\n",
    "val_acc_values = history_dict['val_accuracy']\n",
    "\n",
    "plt.plot(epochs, acc_values, 'bo')\n",
    "plt.plot(epochs, val_acc_values, 'b+')\n",
    "plt.xlabel('Epochs')\n",
    "plt.ylabel('Accuracy')\n",
    "\n",
    "plt.show()"
   ]
  },
  {
   "cell_type": "markdown",
   "metadata": {},
   "source": [
    "### градиент целевой функции по обучаемым параметрам нейронной сети"
   ]
  },
  {
   "cell_type": "code",
   "execution_count": 15,
   "metadata": {},
   "outputs": [
    {
     "name": "stdout",
     "output_type": "stream",
     "text": [
      "Variable: dense/kernel:0, Gradient shape: (784, 128)\n",
      "[[-0.29921213  0.25556448  0.12005004 ...  0.0126336   0.08858687\n",
      "   2.0859957 ]\n",
      " [-0.29921213  0.25556448  0.12005004 ...  0.0126336   0.08858687\n",
      "   2.0859957 ]\n",
      " [-0.29921213  0.25556448  0.12005004 ...  0.0126336   0.08858687\n",
      "   2.0859957 ]\n",
      " ...\n",
      " [-0.29921213  0.25556448  0.12005004 ...  0.0126336   0.08858687\n",
      "   2.0859957 ]\n",
      " [-0.29921213  0.25556448  0.12005004 ...  0.0126336   0.08858687\n",
      "   2.0859957 ]\n",
      " [-0.29921213  0.25556448  0.12005004 ...  0.0126336   0.08858687\n",
      "   2.0859957 ]]\n",
      "Variable: dense/bias:0, Gradient shape: (128,)\n",
      "[ 7.13735044e-01 -6.09619021e-01 -2.86365181e-01 -1.10437766e-01\n",
      " -5.20209856e-02 -4.23281789e-01  3.58179659e-02 -1.24476874e+00\n",
      " -8.83171678e-01  1.00791514e+00  1.50097713e-01 -9.22842383e-01\n",
      "  3.42850542e+00 -1.60067189e+00 -1.14543581e+00  4.38364804e-01\n",
      "  2.78165728e-01  1.43971455e+00 -3.47272485e-01  9.12820041e-01\n",
      "  1.75243258e+00 -1.65582031e-01 -4.60704774e-01  1.57802477e-01\n",
      "  4.18224782e-01  1.13825023e-01  1.85819602e+00  3.82829285e+00\n",
      " -1.53393120e-01  1.30624347e-03 -2.58289039e-01 -2.62987971e-01\n",
      " -3.15948009e-01  2.24446028e-01  4.35915589e-01  5.07188976e-01\n",
      " -2.59687829e+00  5.51763736e-02 -2.79192305e+00 -3.05661350e-01\n",
      " -2.70548105e+00  3.29367232e+00  1.44370809e-01  1.74451888e+00\n",
      "  2.87581265e-01 -4.22854453e-01  1.23659742e+00 -1.09030545e+00\n",
      " -6.63081527e-01  1.03952420e+00  1.37443900e+00 -1.25818461e-01\n",
      "  2.67679930e+00  1.07482314e+00  1.11315024e+00  9.94134396e-02\n",
      "  2.92353332e-01  1.17673445e+00 -1.31517255e+00  2.89837718e-01\n",
      "  6.69348955e-01  9.82549548e-01  1.86264232e-01  9.54047799e-01\n",
      " -2.72669411e+00 -8.77300724e-02 -5.54269850e-02 -2.14536339e-01\n",
      " -6.80930167e-02  2.85158587e+00 -1.57079840e+00 -7.21586049e-01\n",
      "  7.78744400e-01 -1.49597037e+00  3.18848348e+00  4.71124649e+00\n",
      " -1.11770339e-01 -1.14868581e-03 -8.08100030e-03 -1.94623053e+00\n",
      " -1.39814347e-01  2.62179399e+00 -6.56311870e-01 -4.64788675e-02\n",
      "  3.40756357e-01 -8.01591933e-01 -6.27328902e-02 -7.31816649e-01\n",
      " -6.19290164e-04  1.98769474e+00  5.44296622e-01 -7.18310416e-01\n",
      " -9.76770669e-02 -1.64552486e+00 -6.95024133e-01  5.01869321e-01\n",
      "  3.62327266e+00 -3.44998503e+00  7.79525518e-01  1.24337864e+00\n",
      " -1.00127961e-02  2.31936835e-02 -2.51677066e-01  9.22652721e-01\n",
      "  8.00968558e-02 -1.13465226e+00  2.11169648e+00  2.92188048e+00\n",
      "  4.50467430e-02 -9.84592676e-01  1.47114968e+00  2.29231954e-01\n",
      " -1.49536371e-01  1.28455448e+00 -4.08813381e+00  1.94584012e+00\n",
      " -2.40861702e+00  1.32413602e+00 -2.98698515e-01 -9.21774983e-01\n",
      "  3.65285248e-01 -1.83373839e-01 -2.36759763e-02 -1.88794136e-02\n",
      " -5.63814402e-01 -3.01360935e-02 -2.11313516e-01 -4.97589397e+00]\n",
      "Variable: dense_1/kernel:0, Gradient shape: (128, 128)\n",
      "[[ 1.12824459e+01 -6.29828358e+00  2.91483951e+00 ...  7.32340887e-02\n",
      "   3.22941494e+00 -8.32485735e-01]\n",
      " [-4.18716371e-01  1.07134542e+01  3.62074590e+00 ... -5.37052059e+00\n",
      "  -8.83876514e+00  1.05767131e+00]\n",
      " [-2.93036811e-02 -5.91527104e-01  1.97850149e-02 ...  0.00000000e+00\n",
      "  -1.02255076e-01  9.10681933e-02]\n",
      " ...\n",
      " [-3.11207354e-01  1.66637301e+00 -5.42957127e-01 ...  6.89031367e-05\n",
      "  -2.93005049e-01 -1.10661581e-01]\n",
      " [ 0.00000000e+00 -2.88261324e-01  0.00000000e+00 ...  0.00000000e+00\n",
      "   0.00000000e+00  0.00000000e+00]\n",
      " [-1.63434067e+01  2.15377188e+00  2.76633244e+01 ... -6.29532695e-01\n",
      "  -5.63962984e+00  7.37422705e+00]]\n",
      "Variable: dense_1/bias:0, Gradient shape: (128,)\n",
      "[ 4.76806164e-02  1.19158471e+00  1.20593894e+00  3.16474468e-01\n",
      "  6.85757637e-01 -1.89915568e-01 -5.70415193e-03  3.82787049e-01\n",
      " -9.01813090e-01  1.77428401e+00  8.24390888e-01 -1.35158151e-02\n",
      " -9.32474136e-01  1.76441145e+00 -1.13228499e-03  6.83413418e-06\n",
      " -2.51523405e-01 -3.50643724e-01  3.30568314e+00 -1.19995154e-01\n",
      "  1.05192959e+00 -1.77742988e-01 -4.99296099e-01  1.57670274e-01\n",
      "  2.07047367e+00 -6.79660589e-02 -2.31092162e-02 -2.22082540e-01\n",
      "  8.11254442e-01  7.41715059e-02  1.28961635e+00 -3.22599769e-01\n",
      " -7.05586374e-02  1.50218323e-01  1.04505920e+00 -1.77032396e-01\n",
      "  1.71579421e-04 -5.21796227e-01 -1.13424894e-05 -3.52565140e-01\n",
      " -1.87542960e-02 -7.53095388e-01  1.37513876e+00 -4.16256607e-01\n",
      "  1.73878753e+00  2.45139688e-01  2.48851228e+00 -3.01021636e-01\n",
      " -2.43881917e+00 -3.29808772e-01  7.03639388e-01  8.33094656e-01\n",
      " -1.50403921e-02  5.60043395e-01 -4.04926389e-01  1.24598610e+00\n",
      "  3.77029181e-01  2.61898994e+00 -1.17277235e-01  2.70456135e-01\n",
      "  3.70558596e+00 -1.33335757e+00  1.69665903e-01 -5.21577150e-03\n",
      " -4.83920217e-01  4.01151627e-01  2.68149436e-01  8.32547958e-05\n",
      " -2.66284049e-01  1.60049513e-01 -4.69563209e-04 -9.70989000e-04\n",
      "  4.36824620e-01 -5.37436962e-01 -4.26905245e-01 -2.04534650e+00\n",
      "  4.18876171e-01  2.17504859e-01 -5.43651819e-01 -4.99198318e-01\n",
      " -2.77646565e+00  1.08039427e+00 -4.71633792e-01 -2.75447696e-01\n",
      "  9.71366525e-01  3.21137682e-02  1.20464087e-01  7.02401400e-01\n",
      " -3.52687597e-01 -5.74675202e-03 -2.03624666e-02 -6.83390319e-01\n",
      "  2.92086601e-01  6.87025964e-01  4.55160320e-01 -4.70349342e-01\n",
      "  2.36410469e-01 -8.11085224e-01  1.32983507e-06  6.13465488e-01\n",
      " -1.31683362e+00 -1.93337917e-01  9.55307424e-01 -2.58945048e-01\n",
      " -1.32092764e-03 -2.45234706e-02 -4.32612672e-02 -6.64901018e-01\n",
      "  2.12545112e-01 -2.34339893e-01 -1.03121638e+00 -1.93397665e+00\n",
      " -2.33102530e-01  1.24350175e-01 -1.65636577e-02 -2.18194366e+00\n",
      " -1.77478197e-03 -1.83270168e+00 -5.88379979e-01 -1.33022703e-02\n",
      "  1.61441877e-01 -9.94887710e-01  2.42203093e+00 -2.93511105e+00\n",
      " -7.66291693e-02 -1.83928633e+00 -1.08356595e+00  1.10481620e+00]\n",
      "Variable: dense_2/kernel:0, Gradient shape: (128, 10)\n",
      "[[-7.2094940e+01  5.0576490e-01 -1.1171152e+02 ...  7.0757515e+01\n",
      "  -1.3845798e+01  3.5150478e+01]\n",
      " [-1.4556008e+01  4.3026028e+01 -4.7802498e+01 ...  9.2611160e+00\n",
      "  -1.5450009e+02 -1.4564795e+01]\n",
      " [-2.2364807e+00  1.2179174e+00 -4.9475594e+00 ...  1.3249734e+02\n",
      "  -1.3405828e+00 -9.0369141e+01]\n",
      " ...\n",
      " [ 2.2544072e-03  2.7609182e+01 -5.0419426e-01 ...  1.6910583e+01\n",
      "   8.1613308e-01 -6.3670013e+01]\n",
      " [-1.9126192e+01  2.6337049e+00 -3.6467922e+01 ...  2.0020670e+01\n",
      "  -2.1109426e+01 -2.0190134e+01]\n",
      " [-3.8247037e-01  3.4198478e-01  1.2539684e+01 ...  6.4475646e+00\n",
      "  -4.8438263e+00 -1.2300916e+01]]\n",
      "Variable: dense_2/bias:0, Gradient shape: (10,)\n",
      "[ -8.279676   14.211619  -25.474394   13.952354   -4.9075565   4.314357\n",
      "   1.3728613  22.129965   -8.703753   -8.616326 ]\n"
     ]
    }
   ],
   "source": [
    "# Calculate gradients using tf.GradientTape\n",
    "with tf.GradientTape() as tape:\n",
    "    y_pred = model(X_test)\n",
    "    loss_value = tf.keras.losses.categorical_crossentropy(y_test, y_pred)\n",
    "\n",
    "# Calculate gradients of loss with respect to model trainable variables\n",
    "gradients = tape.gradient(loss_value, model.trainable_variables)\n",
    "\n",
    "# Print the gradients\n",
    "for var, grad in zip(model.trainable_variables, gradients):\n",
    "    print(f\"Variable: {var.name}, Gradient shape: {grad.shape}\")\n",
    "    print(grad.numpy())"
   ]
  },
  {
   "cell_type": "markdown",
   "metadata": {},
   "source": [
    "### параметры нейронной сети, при которых точность классификации максимальна\n",
    "\n",
    "Чтобы определить параметры нейронной сети, при которых точность классификации максимальна, мы\n",
    "- должны проанализировать объект history, возвращаемый методом fit(), который содержит историю обучения, включая значения точности для каждой эпохи;\n",
    "- найти эпоху с лучшей точностью проверки;\n",
    "- по мере обучения модели мы сохраняем веса, полученные на каждой эпохе, в отдельный файл. Загрузим веса из файла соответсвующего эпохе с лучшей точностью;\n",
    "- используем model.get_weights() для получения параметров (весов и смещений) модели в лучшую эпоху. Мы перебираем параметры и выводим их формы, чтобы проверить размеры параметров каждого слоя."
   ]
  },
  {
   "cell_type": "code",
   "execution_count": 19,
   "metadata": {},
   "outputs": [
    {
     "name": "stdout",
     "output_type": "stream",
     "text": [
      "Best accuracy: 0.9805952310562134\n",
      "Best params:\n",
      "[[ 0.02949593 -0.04756884  0.00404331 ...  0.05892873  0.129211\n",
      "   0.07234291]\n",
      " [-0.09087019 -0.04386     0.06456129 ...  0.00464164  0.06734035\n",
      "   0.0281317 ]\n",
      " [-0.05514572 -0.06834882  0.11618973 ... -0.00348602  0.13242157\n",
      "   0.07790106]\n",
      " ...\n",
      " [-0.07552447  0.04208294  0.00145352 ...  0.09313285  0.14105581\n",
      "   0.1064895 ]\n",
      " [-0.02187575 -0.00207477  0.10021647 ...  0.0793252   0.13528548\n",
      "  -0.02516678]\n",
      " [-0.09682751 -0.0620464   0.12633984 ...  0.00977407  0.04720979\n",
      "   0.04855281]]\n",
      "[ 0.02926639 -0.00582684 -0.07992987 -0.0908727  -0.11511593 -0.06966219\n",
      " -0.17794554 -0.03058179 -0.10369933 -0.13052994 -0.15256411 -0.05453183\n",
      " -0.10126723 -0.12297083 -0.17858282 -0.04025977 -0.14477065 -0.18011345\n",
      " -0.11113274 -0.1603664  -0.13715777  0.07525317 -0.1415084  -0.16506343\n",
      " -0.06396738 -0.12866983 -0.03497632 -0.04125307 -0.04695872 -0.1196413\n",
      " -0.16622911 -0.16918865 -0.14449722 -0.15156667 -0.11330795 -0.14568889\n",
      " -0.03250709 -0.12432967  0.04751863 -0.02773111  0.01490714 -0.12777798\n",
      " -0.02573637 -0.13474844 -0.18096712 -0.03722346 -0.05903701 -0.10657327\n",
      " -0.15807813 -0.14261185 -0.08771285 -0.0009667  -0.0827095  -0.00772232\n",
      " -0.11669234 -0.12954433  0.03434822 -0.12374903 -0.06098625 -0.1671882\n",
      " -0.22271208 -0.04881933 -0.1852568  -0.14139546  0.23773004 -0.17571859\n",
      " -0.03791049 -0.1968946  -0.10673019 -0.08357458  0.05831131  0.01753566\n",
      "  0.04747158 -0.0983974  -0.06188034 -0.09997255 -0.08042903 -0.04237142\n",
      " -0.17634955 -0.02025579 -0.08880606 -0.26843077 -0.07398449 -0.08372465\n",
      " -0.0786299  -0.02046026 -0.10545142 -0.07369702 -0.03905636 -0.13058311\n",
      " -0.1040147   0.04336903 -0.07648788 -0.01795739 -0.12369715 -0.00893295\n",
      " -0.05174723  0.10415184 -0.08864754 -0.119203   -0.13019097  0.07178764\n",
      " -0.23191413 -0.07375699 -0.07019644 -0.235565   -0.10340665 -0.03630025\n",
      " -0.16673523 -0.12635697 -0.05284804 -0.0032307  -0.13318725 -0.07401624\n",
      "  0.16473907 -0.16482033 -0.16564529 -0.25102723 -0.10803703 -0.04926175\n",
      " -0.09710384 -0.15685105 -0.26379752 -0.0362859  -0.05077642 -0.05861717\n",
      " -0.09923933 -0.02183484]\n",
      "[[ 0.05467391  0.33589596 -0.10817987 ... -0.15221718 -0.20295087\n",
      "   0.12400564]\n",
      " [ 0.07562859 -0.23730308  0.18767408 ...  0.27304447  0.13488056\n",
      "  -0.33212692]\n",
      " [ 0.09363784  0.42307657 -0.06156855 ... -0.38601455  0.1988071\n",
      "  -0.11370302]\n",
      " ...\n",
      " [ 0.00964587 -0.00266218 -0.18645573 ... -0.20074911  0.0232523\n",
      "  -0.2533053 ]\n",
      " [ 0.13227633  0.25853303  0.15221637 ... -0.09831325  0.09106438\n",
      "  -0.07869064]\n",
      " [ 0.04781082 -0.13416155 -0.12875964 ... -0.02347878 -0.01569247\n",
      "  -0.17668013]]\n",
      "[ 0.05802579  0.4415218  -0.09294009 -0.21886072 -0.16703697  0.05307266\n",
      " -0.24227227 -0.03829823  0.10666735 -0.46544552 -0.4772288  -0.19404517\n",
      "  0.06209423 -0.37842384 -0.6156752  -0.25542924 -0.3748709  -0.2561162\n",
      " -0.13515142 -0.10539852 -0.29425946 -0.08290274 -0.22390993 -0.34408507\n",
      " -0.267007   -0.43252438 -0.28868964 -0.2151321  -0.50430465 -0.39316216\n",
      " -0.54300946 -0.20853184 -0.14886142 -0.1518963  -0.10590564 -0.2298596\n",
      "  0.14389603 -0.20770489 -0.25686938 -0.5368473  -0.23190196  0.09768488\n",
      "  0.12403352  0.30527985 -0.1743297   0.01447083 -0.77762234 -0.34468412\n",
      "  0.19171964  0.27887186 -0.6069787  -0.30860302 -0.24766213  0.07337662\n",
      " -0.06447314 -0.4536856   0.1575195   0.19769    -0.30793366 -0.16181366\n",
      " -0.15709402  0.09490068 -0.3489921  -0.24535748  0.22034506 -0.18109661\n",
      " -0.04745214 -0.22176445 -0.11060925 -0.39012492 -0.19700345 -0.4770362\n",
      " -0.05684216 -0.16408679 -0.16470908  0.2103482  -0.14146495 -0.01298166\n",
      " -0.40516403  0.07609878 -0.2929227  -0.38651067 -0.3992892  -0.3153301\n",
      " -0.37622267 -0.42242476 -0.05851656 -0.4185439  -0.0385823   0.3010344\n",
      "  0.19943044 -0.17761883 -0.34337762 -0.3223782   0.02949056 -0.29153013\n",
      " -0.41942006  0.04011996 -0.52917653 -0.17537354  0.16973452 -0.02502778\n",
      " -0.43624526 -0.2065832  -0.5532155  -0.20146714 -0.20908612 -0.24179745\n",
      " -0.5656627  -0.1733507  -0.2560145   0.23285045 -0.09791275 -0.26267728\n",
      " -0.35928297  0.540438   -0.2989937   0.08802143  0.29743645  0.05345825\n",
      "  0.2170995  -0.32000738 -0.652526    0.01224251 -0.43034914 -0.33358604\n",
      "  0.2188567  -0.19736801]\n",
      "[[ 0.10459379 -0.07409467  0.12961264 ...  0.11119355  0.09798418\n",
      "   0.09953751]\n",
      " [-0.02992161 -0.12316892 -0.17622463 ... -0.2747183   0.07727271\n",
      "  -0.10182325]\n",
      " [ 0.02898883 -0.15814915 -0.08221204 ...  0.02227164 -0.1157037\n",
      "   0.06315496]\n",
      " ...\n",
      " [-0.2502693  -0.10247245 -0.24662592 ... -0.27110678 -0.20710595\n",
      "  -0.00757172]\n",
      " [ 0.01088211 -0.16534333  0.05896434 ... -0.05344361 -0.01867429\n",
      "  -0.03603829]\n",
      " [-0.013728   -0.20557103  0.07834787 ...  0.03649414 -0.1655355\n",
      "   0.00611124]]\n",
      "[ 0.0978372  -0.6884819   0.12643442 -0.12789534 -0.1419974  -0.04509445\n",
      " -0.29497895 -0.2387285   0.9023009   0.03150699]\n"
     ]
    }
   ],
   "source": [
    "# Найдем эпоху с наивысшей точностью валидации\n",
    "best_epoch = np.argmax(history.history['val_accuracy'])\n",
    "best_accuracy = history.history['val_accuracy'][best_epoch]\n",
    "\n",
    "# Получим веса модели для этой эпохи из файла, сохраненного ранее на этапе обучения\n",
    "model.load_weights(f'weights.{best_epoch+1:02d}.h5')\n",
    "\n",
    "# Получим параметры модели для лучшей эпохи\n",
    "best_parameters = model.get_weights()\n",
    "\n",
    "print(f\"Best accuracy: {best_accuracy}\")\n",
    "print(\"Best params:\")\n",
    "for layer_param in best_parameters:\n",
    "    print(layer_param)"
   ]
  },
  {
   "cell_type": "code",
   "execution_count": 18,
   "metadata": {},
   "outputs": [
    {
     "name": "stdout",
     "output_type": "stream",
     "text": [
      "Описание модели:\n",
      "Model: \"sequential\"\n",
      "_________________________________________________________________\n",
      " Layer (type)                Output Shape              Param #   \n",
      "=================================================================\n",
      " lambda (Lambda)             (None, 28, 28, 1)         0         \n",
      "                                                                 \n",
      " flatten (Flatten)           (None, 784)               0         \n",
      "                                                                 \n",
      " dense (Dense)               (None, 128)               100480    \n",
      "                                                                 \n",
      " dense_1 (Dense)             (None, 128)               16512     \n",
      "                                                                 \n",
      " dense_2 (Dense)             (None, 10)                1290      \n",
      "                                                                 \n",
      "=================================================================\n",
      "Total params: 118282 (462.04 KB)\n",
      "Trainable params: 118282 (462.04 KB)\n",
      "Non-trainable params: 0 (0.00 Byte)\n",
      "_________________________________________________________________\n"
     ]
    }
   ],
   "source": [
    "print(\"Описание модели:\")\n",
    "model.summary()"
   ]
  }
 ],
 "metadata": {
  "kernelspec": {
   "display_name": "venv",
   "language": "python",
   "name": "python3"
  },
  "language_info": {
   "codemirror_mode": {
    "name": "ipython",
    "version": 3
   },
   "file_extension": ".py",
   "mimetype": "text/x-python",
   "name": "python",
   "nbconvert_exporter": "python",
   "pygments_lexer": "ipython3",
   "version": "3.10.7"
  }
 },
 "nbformat": 4,
 "nbformat_minor": 2
}
