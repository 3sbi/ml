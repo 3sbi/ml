{
 "cells": [
  {
   "cell_type": "code",
   "execution_count": 1,
   "metadata": {},
   "outputs": [
    {
     "name": "stdout",
     "output_type": "stream",
     "text": [
      "WARNING:tensorflow:From d:\\www\\ml-python\\venv\\lib\\site-packages\\keras\\src\\losses.py:2976: The name tf.losses.sparse_softmax_cross_entropy is deprecated. Please use tf.compat.v1.losses.sparse_softmax_cross_entropy instead.\n",
      "\n"
     ]
    }
   ],
   "source": [
    "import numpy as np\n",
    "import pandas as pd\n",
    "import matplotlib.pyplot as plt\n",
    "import tensorflow as tf\n",
    "from sklearn.model_selection import train_test_split\n",
    "from sklearn.preprocessing import normalize\n",
    "from keras.models import Sequential\n",
    "from keras.layers import Dense, Flatten, Lambda\n",
    "from keras.preprocessing.image import ImageDataGenerator\n",
    "from keras.utils import to_categorical\n",
    "# from tensorflow.keras.models import Sequential\n",
    "# from tensorflow.keras.layers import Dense, Flatten, Lambda\n",
    "# from tensorflow.keras.preprocessing.image import ImageDataGenerator\n",
    "# from tensorflow.keras.utils import to_categorical"
   ]
  },
  {
   "cell_type": "markdown",
   "metadata": {},
   "source": [
    "### Решить задачу многоклассовой классификации с помощью многослойной нейронной сети, состоящей из полносвязных слоев."
   ]
  },
  {
   "cell_type": "code",
   "execution_count": 2,
   "metadata": {},
   "outputs": [],
   "source": [
    "# загружаем данные и разбиваем их на составляющие\n",
    "train = pd.read_csv(\"./train.csv\")\n",
    "y_train = train[\"label\"]\n",
    "X_train = train.drop(labels = [\"label\"],axis = 1)"
   ]
  },
  {
   "cell_type": "code",
   "execution_count": 3,
   "metadata": {},
   "outputs": [],
   "source": [
    "\n",
    "X_train = normalize(X_train.astype('float32'), axis=1)\n",
    "\n",
    "# Из файла информацию о изображения с цифрами мы получили в виде одномерных векторов из 784 значений\n",
    "# Переформируем все данные в трехмерные матрицы 28x28x1.\n",
    "# Keras требует дополнительное измерение в конце, для каналов. \n",
    "# Если бы это были RGB-изображения, то было бы 3 канала, но поскольку у нас \"черно-белое\" изображение, мы указываем 1 серый канал.\n",
    "X_train = X_train.reshape(X_train.shape[0], 28, 28, 1)"
   ]
  },
  {
   "cell_type": "code",
   "execution_count": 4,
   "metadata": {},
   "outputs": [
    {
     "data": {
      "image/png": "[encoded data removed]",
      "text/plain": [
       "<Figure size 640x480 with 3 Axes>"
      ]
     },
     "metadata": {},
     "output_type": "display_data"
    }
   ],
   "source": [
    "# убедимся, что все ок, выведем сами тестовые изображения и соответствующие им цифры \n",
    "for i in range(6, 9):\n",
    "    plt.subplot(330 + (i+1))\n",
    "    plt.imshow(X_train[i], cmap=plt.get_cmap('gray'))\n",
    "    plt.title(y_train[i])"
   ]
  },
  {
   "cell_type": "markdown",
   "metadata": {},
   "source": [
    "Стандартизация особенностей - это важный этап предварительной обработки. Он используется для центрирования данных вокруг нулевого среднего и единичной дисперсии."
   ]
  },
  {
   "cell_type": "code",
   "execution_count": 5,
   "metadata": {},
   "outputs": [],
   "source": [
    "mean_px = X_train.mean().astype(np.float32)\n",
    "std_px = X_train.std().astype(np.float32)\n",
    "def standardize(x): \n",
    "    return (x-mean_px)/std_px"
   ]
  },
  {
   "cell_type": "markdown",
   "metadata": {},
   "source": [
    "Метки в данном случае представлены целыми числами от 0 до 9. \n",
    "Нам нужно применить one-hot encoding, чтобы преобразовать эти one-hot числовой массив (например: 2 -> [0,0,1,0,0,0,0,0,0,0,0])."
   ]
  },
  {
   "cell_type": "code",
   "execution_count": 6,
   "metadata": {},
   "outputs": [
    {
     "name": "stdout",
     "output_type": "stream",
     "text": [
      "1 преобрауется в \n",
      "[0. 1. 0. 0. 0. 0. 0. 0. 0. 0.]\n"
     ]
    }
   ],
   "source": [
    "print(f\"{y_train[0]} преобрауется в \")\n",
    "y_train = to_categorical(y_train, num_classes = 10)\n",
    "# Пример:\n",
    "print(y_train[0])"
   ]
  },
  {
   "cell_type": "code",
   "execution_count": 7,
   "metadata": {},
   "outputs": [],
   "source": [
    "X_train, X_test, y_train, y_test = train_test_split(X_train, y_train, test_size = 0.2, random_state=42)"
   ]
  },
  {
   "cell_type": "code",
   "execution_count": 8,
   "metadata": {},
   "outputs": [],
   "source": [
    "datagen = ImageDataGenerator(zoom_range = 0.1,\n",
    "                            height_shift_range = 0.1,\n",
    "                            width_shift_range = 0.1,\n",
    "                            rotation_range = 10)"
   ]
  },
  {
   "cell_type": "code",
   "execution_count": 9,
   "metadata": {},
   "outputs": [
    {
     "name": "stdout",
     "output_type": "stream",
     "text": [
      "WARNING:tensorflow:From d:\\www\\ml-python\\venv\\lib\\site-packages\\keras\\src\\backend.py:873: The name tf.get_default_graph is deprecated. Please use tf.compat.v1.get_default_graph instead.\n",
      "\n"
     ]
    }
   ],
   "source": [
    "model = Sequential()\n",
    "model.add(Lambda(standardize,input_shape=(28, 28, 1)))\n",
    "model.add(Flatten())\n",
    "model.add(Dense(128, activation='relu')),\n",
    "model.add(Dense(128, activation='relu')),\n",
    "model.add(Dense(10, activation='softmax'))"
   ]
  },
  {
   "cell_type": "code",
   "execution_count": 10,
   "metadata": {},
   "outputs": [
    {
     "name": "stdout",
     "output_type": "stream",
     "text": [
      "WARNING:tensorflow:From d:\\www\\ml-python\\venv\\lib\\site-packages\\keras\\src\\optimizers\\__init__.py:309: The name tf.train.Optimizer is deprecated. Please use tf.compat.v1.train.Optimizer instead.\n",
      "\n"
     ]
    }
   ],
   "source": [
    "model.compile(optimizer='adam', loss='categorical_crossentropy', metrics=['accuracy'])"
   ]
  },
  {
   "cell_type": "code",
   "execution_count": 11,
   "metadata": {},
   "outputs": [
    {
     "name": "stdout",
     "output_type": "stream",
     "text": [
      "Epoch 1/29\n",
      "WARNING:tensorflow:From d:\\www\\ml-python\\venv\\lib\\site-packages\\keras\\src\\utils\\tf_utils.py:492: The name tf.ragged.RaggedTensorValue is deprecated. Please use tf.compat.v1.ragged.RaggedTensorValue instead.\n",
      "\n",
      "WARNING:tensorflow:From d:\\www\\ml-python\\venv\\lib\\site-packages\\keras\\src\\engine\\base_layer_utils.py:384: The name tf.executing_eagerly_outside_functions is deprecated. Please use tf.compat.v1.executing_eagerly_outside_functions instead.\n",
      "\n",
      "2096/2100 [============================>.] - ETA: 0s - loss: 0.4829 - accuracy: 0.8441\n",
      "Epoch 1: saving model to weights.01.h5\n",
      "2100/2100 [==============================] - 15s 7ms/step - loss: 0.4825 - accuracy: 0.8442 - val_loss: 0.2201 - val_accuracy: 0.9313\n",
      "Epoch 2/29\n",
      "2096/2100 [============================>.] - ETA: 0s - loss: 0.2556 - accuracy: 0.9195\n",
      "Epoch 2: saving model to weights.02.h5\n",
      "2100/2100 [==============================] - 13s 6ms/step - loss: 0.2557 - accuracy: 0.9196 - val_loss: 0.1445 - val_accuracy: 0.9536\n",
      "Epoch 3/29\n",
      "2096/2100 [============================>.] - ETA: 0s - loss: 0.2213 - accuracy: 0.9308\n",
      "Epoch 3: saving model to weights.03.h5\n",
      "2100/2100 [==============================] - 15s 7ms/step - loss: 0.2218 - accuracy: 0.9307 - val_loss: 0.1596 - val_accuracy: 0.9510\n",
      "Epoch 4/29\n",
      "2100/2100 [==============================] - ETA: 0s - loss: 0.1957 - accuracy: 0.9399\n",
      "Epoch 4: saving model to weights.04.h5\n",
      "2100/2100 [==============================] - 13s 6ms/step - loss: 0.1957 - accuracy: 0.9399 - val_loss: 0.1503 - val_accuracy: 0.9525\n",
      "Epoch 5/29\n",
      "2096/2100 [============================>.] - ETA: 0s - loss: 0.1757 - accuracy: 0.9437\n",
      "Epoch 5: saving model to weights.05.h5\n",
      "2100/2100 [==============================] - 13s 6ms/step - loss: 0.1756 - accuracy: 0.9437 - val_loss: 0.1142 - val_accuracy: 0.9662\n",
      "Epoch 6/29\n",
      "2098/2100 [============================>.] - ETA: 0s - loss: 0.1657 - accuracy: 0.9499\n",
      "Epoch 6: saving model to weights.06.h5\n",
      "2100/2100 [==============================] - 19s 9ms/step - loss: 0.1656 - accuracy: 0.9499 - val_loss: 0.0988 - val_accuracy: 0.9707\n",
      "Epoch 7/29\n",
      "2095/2100 [============================>.] - ETA: 0s - loss: 0.1570 - accuracy: 0.9506\n",
      "Epoch 7: saving model to weights.07.h5\n",
      "2100/2100 [==============================] - 19s 9ms/step - loss: 0.1569 - accuracy: 0.9506 - val_loss: 0.1073 - val_accuracy: 0.9664\n",
      "Epoch 8/29\n",
      "2096/2100 [============================>.] - ETA: 0s - loss: 0.1481 - accuracy: 0.9539\n",
      "Epoch 8: saving model to weights.08.h5\n",
      "2100/2100 [==============================] - 15s 7ms/step - loss: 0.1481 - accuracy: 0.9539 - val_loss: 0.1223 - val_accuracy: 0.9630\n",
      "Epoch 9/29\n",
      "2099/2100 [============================>.] - ETA: 0s - loss: 0.1440 - accuracy: 0.9573\n",
      "Epoch 9: saving model to weights.09.h5\n",
      "2100/2100 [==============================] - 16s 8ms/step - loss: 0.1440 - accuracy: 0.9573 - val_loss: 0.1032 - val_accuracy: 0.9690\n",
      "Epoch 10/29\n",
      "2099/2100 [============================>.] - ETA: 0s - loss: 0.1393 - accuracy: 0.9567\n",
      "Epoch 10: saving model to weights.10.h5\n",
      "2100/2100 [==============================] - 17s 8ms/step - loss: 0.1392 - accuracy: 0.9567 - val_loss: 0.1010 - val_accuracy: 0.9707\n",
      "Epoch 11/29\n",
      "2095/2100 [============================>.] - ETA: 0s - loss: 0.1348 - accuracy: 0.9580\n",
      "Epoch 11: saving model to weights.11.h5\n",
      "2100/2100 [==============================] - 18s 9ms/step - loss: 0.1346 - accuracy: 0.9580 - val_loss: 0.0826 - val_accuracy: 0.9756\n",
      "Epoch 12/29\n",
      "2097/2100 [============================>.] - ETA: 0s - loss: 0.1367 - accuracy: 0.9582\n",
      "Epoch 12: saving model to weights.12.h5\n",
      "2100/2100 [==============================] - 18s 8ms/step - loss: 0.1368 - accuracy: 0.9582 - val_loss: 0.0891 - val_accuracy: 0.9742\n",
      "Epoch 13/29\n",
      "2098/2100 [============================>.] - ETA: 0s - loss: 0.1278 - accuracy: 0.9612\n",
      "Epoch 13: saving model to weights.13.h5\n",
      "2100/2100 [==============================] - 18s 9ms/step - loss: 0.1276 - accuracy: 0.9612 - val_loss: 0.1035 - val_accuracy: 0.9698\n",
      "Epoch 14/29\n",
      "2093/2100 [============================>.] - ETA: 0s - loss: 0.1274 - accuracy: 0.9619\n",
      "Epoch 14: saving model to weights.14.h5\n",
      "2100/2100 [==============================] - 17s 8ms/step - loss: 0.1274 - accuracy: 0.9619 - val_loss: 0.1052 - val_accuracy: 0.9706\n",
      "Epoch 15/29\n",
      "2096/2100 [============================>.] - ETA: 0s - loss: 0.1257 - accuracy: 0.9620\n",
      "Epoch 15: saving model to weights.15.h5\n",
      "2100/2100 [==============================] - 19s 9ms/step - loss: 0.1258 - accuracy: 0.9620 - val_loss: 0.0950 - val_accuracy: 0.9742\n",
      "Epoch 16/29\n",
      "2096/2100 [============================>.] - ETA: 0s - loss: 0.1234 - accuracy: 0.9626\n",
      "Epoch 16: saving model to weights.16.h5\n",
      "2100/2100 [==============================] - 20s 9ms/step - loss: 0.1233 - accuracy: 0.9626 - val_loss: 0.0876 - val_accuracy: 0.9721\n",
      "Epoch 17/29\n",
      "2098/2100 [============================>.] - ETA: 0s - loss: 0.1243 - accuracy: 0.9627\n",
      "Epoch 17: saving model to weights.17.h5\n",
      "2100/2100 [==============================] - 22s 11ms/step - loss: 0.1242 - accuracy: 0.9627 - val_loss: 0.0840 - val_accuracy: 0.9742\n",
      "Epoch 18/29\n",
      "2098/2100 [============================>.] - ETA: 0s - loss: 0.1121 - accuracy: 0.9662\n",
      "Epoch 18: saving model to weights.18.h5\n",
      "2100/2100 [==============================] - 20s 10ms/step - loss: 0.1120 - accuracy: 0.9663 - val_loss: 0.0813 - val_accuracy: 0.9750\n",
      "Epoch 19/29\n",
      "2092/2100 [============================>.] - ETA: 0s - loss: 0.1169 - accuracy: 0.9653\n",
      "Epoch 19: saving model to weights.19.h5\n",
      "2100/2100 [==============================] - 16s 8ms/step - loss: 0.1170 - accuracy: 0.9652 - val_loss: 0.0866 - val_accuracy: 0.9740\n",
      "Epoch 20/29\n",
      "2096/2100 [============================>.] - ETA: 0s - loss: 0.1165 - accuracy: 0.9652\n",
      "Epoch 20: saving model to weights.20.h5\n",
      "2100/2100 [==============================] - 14s 7ms/step - loss: 0.1166 - accuracy: 0.9652 - val_loss: 0.1053 - val_accuracy: 0.9687\n",
      "Epoch 21/29\n",
      "2099/2100 [============================>.] - ETA: 0s - loss: 0.1160 - accuracy: 0.9648\n",
      "Epoch 21: saving model to weights.21.h5\n",
      "2100/2100 [==============================] - 14s 7ms/step - loss: 0.1159 - accuracy: 0.9648 - val_loss: 0.0789 - val_accuracy: 0.9785\n",
      "Epoch 22/29\n",
      "2095/2100 [============================>.] - ETA: 0s - loss: 0.1134 - accuracy: 0.9658\n",
      "Epoch 22: saving model to weights.22.h5\n",
      "2100/2100 [==============================] - 17s 8ms/step - loss: 0.1137 - accuracy: 0.9657 - val_loss: 0.0781 - val_accuracy: 0.9758\n",
      "Epoch 23/29\n",
      "2099/2100 [============================>.] - ETA: 0s - loss: 0.1130 - accuracy: 0.9666\n",
      "Epoch 23: saving model to weights.23.h5\n",
      "2100/2100 [==============================] - 20s 9ms/step - loss: 0.1130 - accuracy: 0.9666 - val_loss: 0.0758 - val_accuracy: 0.9813\n",
      "Epoch 24/29\n",
      "2094/2100 [============================>.] - ETA: 0s - loss: 0.1111 - accuracy: 0.9664\n",
      "Epoch 24: saving model to weights.24.h5\n",
      "2100/2100 [==============================] - 19s 9ms/step - loss: 0.1112 - accuracy: 0.9663 - val_loss: 0.0847 - val_accuracy: 0.9775\n",
      "Epoch 25/29\n",
      "2097/2100 [============================>.] - ETA: 0s - loss: 0.1098 - accuracy: 0.9671\n",
      "Epoch 25: saving model to weights.25.h5\n",
      "2100/2100 [==============================] - 19s 9ms/step - loss: 0.1098 - accuracy: 0.9671 - val_loss: 0.0878 - val_accuracy: 0.9763\n",
      "Epoch 26/29\n",
      "2096/2100 [============================>.] - ETA: 0s - loss: 0.1091 - accuracy: 0.9679\n",
      "Epoch 26: saving model to weights.26.h5\n",
      "2100/2100 [==============================] - 16s 7ms/step - loss: 0.1089 - accuracy: 0.9679 - val_loss: 0.0885 - val_accuracy: 0.9757\n",
      "Epoch 27/29\n",
      "2095/2100 [============================>.] - ETA: 0s - loss: 0.1094 - accuracy: 0.9670\n",
      "Epoch 27: saving model to weights.27.h5\n",
      "2100/2100 [==============================] - 20s 9ms/step - loss: 0.1097 - accuracy: 0.9669 - val_loss: 0.0955 - val_accuracy: 0.9738\n",
      "Epoch 28/29\n",
      "2094/2100 [============================>.] - ETA: 0s - loss: 0.1098 - accuracy: 0.9672\n",
      "Epoch 28: saving model to weights.28.h5\n",
      "2100/2100 [==============================] - 18s 9ms/step - loss: 0.1098 - accuracy: 0.9672 - val_loss: 0.0797 - val_accuracy: 0.9758\n",
      "Epoch 29/29\n",
      "2096/2100 [============================>.] - ETA: 0s - loss: 0.1058 - accuracy: 0.9682\n",
      "Epoch 29: saving model to weights.29.h5\n",
      "2100/2100 [==============================] - 17s 8ms/step - loss: 0.1057 - accuracy: 0.9682 - val_loss: 0.0723 - val_accuracy: 0.9790\n",
      "263/263 [==============================] - 1s 2ms/step - loss: 0.0723 - accuracy: 0.9790\n",
      "Final loss: 0.07227141410112381\n",
      "Final accuracy: 0.9790475964546204\n"
     ]
    }
   ],
   "source": [
    "from tensorflow.keras.callbacks import ModelCheckpoint\n",
    "# Определим callback для сохранения весов на каждой этапе обучения\n",
    "# Это понадобится позже для определения параметров, при которых точность максимальна\n",
    "checkpoint_callback = ModelCheckpoint(\n",
    "    filepath='weights.{epoch:02d}.h5',\n",
    "    save_weights_only=True,\n",
    "    save_best_only=False,\n",
    "    verbose=1\n",
    ")\n",
    "\n",
    "history = model.fit(datagen.flow(X_train, y_train, batch_size=16),\n",
    "                    epochs=29, \n",
    "                    verbose=1,\n",
    "                    validation_data=(X_test, y_test), callbacks=[checkpoint_callback])\n",
    "\n",
    "loss, accuracy = model.evaluate(X_test, y_test)\n",
    "\n",
    "print(f\"Final loss: {loss}\")\n",
    "print(f\"Final accuracy: {accuracy}\")\n"
   ]
  },
  {
   "cell_type": "code",
   "execution_count": 12,
   "metadata": {},
   "outputs": [
    {
     "data": {
      "text/plain": [
       "dict_keys(['loss', 'accuracy', 'val_loss', 'val_accuracy'])"
      ]
     },
     "execution_count": 12,
     "metadata": {},
     "output_type": "execute_result"
    }
   ],
   "source": [
    "history_dict = history.history\n",
    "history_dict.keys()"
   ]
  },
  {
   "cell_type": "markdown",
   "metadata": {},
   "source": [
    "Посмотрим, как происходило изменение точности на каждой из эпох"
   ]
  },
  {
   "cell_type": "code",
   "execution_count": 13,
   "metadata": {},
   "outputs": [
    {
     "data": {
      "image/png": "[encoded data removed]",
      "text/plain": [
       "<Figure size 640x480 with 1 Axes>"
      ]
     },
     "metadata": {},
     "output_type": "display_data"
    }
   ],
   "source": [
    "loss_values = history_dict['loss']\n",
    "val_loss_values = history_dict['val_loss']\n",
    "epochs = range(1, len(loss_values) + 1)\n",
    "\n",
    "plt.plot(epochs, loss_values, 'bo')\n",
    "plt.plot(epochs, val_loss_values, 'b+')\n",
    "plt.legend(['loss', 'val_loss'])\n",
    "plt.xlabel('Epochs')\n",
    "plt.ylabel('Loss')\n",
    "\n",
    "plt.show()"
   ]
  },
  {
   "cell_type": "code",
   "execution_count": 14,
   "metadata": {},
   "outputs": [
    {
     "data": {
      "image/png": "[encoded data removed]",
      "text/plain": [
       "<Figure size 640x480 with 1 Axes>"
      ]
     },
     "metadata": {},
     "output_type": "display_data"
    }
   ],
   "source": [
    "plt.clf()\n",
    "acc_values = history_dict['accuracy']\n",
    "val_acc_values = history_dict['val_accuracy']\n",
    "\n",
    "plt.plot(epochs, acc_values, 'bo')\n",
    "plt.plot(epochs, val_acc_values, 'b+')\n",
    "plt.legend(['accuracy', 'val_accuracy'])\n",
    "plt.xlabel('Epochs')\n",
    "plt.ylabel('Accuracy')\n",
    "\n",
    "plt.show()"
   ]
  },
  {
   "cell_type": "markdown",
   "metadata": {},
   "source": [
    "### Вычислить градиент целевой функции по обучаемым параметрам нейронной сети, сравнить полученные значения со значениями, вычисленными с помощью библиотечных функций"
   ]
  },
  {
   "cell_type": "code",
   "execution_count": 15,
   "metadata": {},
   "outputs": [
    {
     "name": "stdout",
     "output_type": "stream",
     "text": [
      "Best accuracy: 0.9813095331192017\n",
      "Best params:\n",
      "[[-0.04220533  0.18742411 -0.14756899 ... -0.01708057  0.1183227\n",
      "   0.17657517]\n",
      " [ 0.02343066  0.12704588 -0.17909186 ...  0.03032963  0.03593529\n",
      "   0.07722642]\n",
      " [ 0.06052176  0.17553481 -0.11769428 ...  0.07179723  0.02911661\n",
      "   0.11864807]\n",
      " ...\n",
      " [ 0.01304426  0.07974745 -0.09822937 ... -0.07474518  0.01332953\n",
      "   0.0781544 ]\n",
      " [-0.04650022  0.18392773 -0.09008701 ... -0.02937578 -0.01390326\n",
      "   0.14088707]\n",
      " [ 0.02064295  0.15368721 -0.14459725 ...  0.07614125  0.09210829\n",
      "   0.09907603]]\n",
      "[-0.03059397 -0.11160898  0.10550868 -0.19308043 -0.09763703 -0.13176575\n",
      " -0.07652689  0.06605405 -0.04883838  0.00553885 -0.09068472  0.06433117\n",
      " -0.11792408 -0.07643215 -0.04755628 -0.08748143  0.04514018 -0.19209485\n",
      " -0.21552597 -0.07540876 -0.08458669 -0.05478548 -0.10911197 -0.07660513\n",
      "  0.03004547  0.00243603  0.07220473 -0.05557925 -0.15863356 -0.11089264\n",
      " -0.09416723 -0.17974415 -0.27016288 -0.11159208 -0.05874808 -0.11151635\n",
      "  0.1654178  -0.0603856  -0.09200501  0.0024193  -0.16410258 -0.18182981\n",
      " -0.11142805 -0.1024897  -0.13069947 -0.07751828 -0.07235391 -0.22216053\n",
      " -0.15825067 -0.0536375  -0.07322095 -0.06931515 -0.1242912  -0.00076447\n",
      " -0.06251445 -0.1225673   0.04418923 -0.04859739 -0.1447778  -0.1950221\n",
      "  0.02014622 -0.16519919 -0.11114393 -0.05106154 -0.05515849  0.03419862\n",
      " -0.04448391 -0.04026786  0.0834237  -0.13324569 -0.13715462 -0.09798776\n",
      " -0.04038875 -0.11744726 -0.00619531 -0.16083495 -0.14413331 -0.11336672\n",
      " -0.03413301 -0.08019356 -0.16461582 -0.11659107  0.04158513 -0.1707711\n",
      " -0.13212024 -0.10057224 -0.0795272  -0.00435322 -0.08331224 -0.02027754\n",
      " -0.17516921  0.05802864 -0.1503934  -0.13091533  0.03801888 -0.12585655\n",
      " -0.18680964 -0.10110946  0.02254081 -0.15102707 -0.06772067 -0.12335019\n",
      " -0.10017626 -0.06689473  0.02288476  0.04968648 -0.08953314 -0.01506151\n",
      " -0.12012042 -0.1243245  -0.01921432 -0.07851047 -0.19167432  0.0834227\n",
      " -0.0756475  -0.09991603 -0.08541951 -0.02977313 -0.0224138  -0.15410586\n",
      "  0.05027096 -0.14962445 -0.09318221  0.00512832 -0.15272613 -0.0107094\n",
      " -0.04266627 -0.11813264]\n",
      "[[-0.12032879 -0.01219659  0.06158188 ... -0.15888466  0.12943196\n",
      "  -0.25574175]\n",
      " [ 0.03382659  0.0706009   0.26243418 ...  0.03859863 -0.08974848\n",
      "   0.02979564]\n",
      " [-0.24077709  0.00613945 -0.06657372 ... -0.12714615 -0.09824927\n",
      "   0.08027231]\n",
      " ...\n",
      " [-0.16546482 -0.33895257 -0.1348836  ... -0.24699838  0.0384705\n",
      "  -0.2625326 ]\n",
      " [ 0.17102104 -0.12244893  0.06762774 ... -0.03090992 -0.10093073\n",
      "  -0.32740322]\n",
      " [-0.19352959 -0.04754023  0.36460644 ... -0.16883753  0.2569549\n",
      "  -0.12743203]]\n",
      "[-1.10664912e-01 -3.38443846e-01 -7.79189504e-05  3.98603797e-01\n",
      " -2.19476879e-01 -2.85080194e-01 -6.98107854e-02  3.96460801e-01\n",
      " -3.92795414e-01 -3.41045052e-01 -2.38975123e-01  2.11391039e-02\n",
      "  3.13366801e-02 -3.09164345e-01 -3.90803665e-01 -1.74516276e-01\n",
      " -2.55243450e-01 -1.63344786e-01  7.77683109e-02  3.38737160e-01\n",
      " -5.10291040e-01  1.06527135e-01  1.38194174e-01 -1.47201955e-01\n",
      " -4.61109996e-01 -4.20983315e-01  2.46052757e-01 -1.79751329e-02\n",
      " -3.59580845e-01 -2.47923672e-01  8.99337307e-02 -3.44575733e-01\n",
      " -4.74896550e-01 -2.60679307e-03 -7.88683519e-02 -5.36537468e-01\n",
      "  2.93323874e-01 -3.98505628e-01 -3.73286903e-01  3.44291151e-01\n",
      " -3.97821248e-01 -3.92103493e-01 -1.98776647e-01 -8.66050720e-02\n",
      " -1.53869927e-01  1.08746417e-01 -2.44340092e-01  3.49328548e-01\n",
      " -2.83315390e-01 -1.41795531e-01 -2.28035346e-01 -5.61342120e-01\n",
      "  5.06007075e-02 -1.72718987e-01  1.81129247e-01 -2.02297539e-01\n",
      " -1.93231419e-01 -2.67198324e-01 -3.59740019e-01 -4.82371032e-01\n",
      " -7.54951611e-02 -6.08594775e-01 -2.45871142e-01 -1.35252789e-01\n",
      " -1.18041918e-01 -3.94812256e-01 -4.32165027e-01 -3.91859025e-01\n",
      " -3.33211333e-01 -9.40738097e-02 -1.43662646e-01 -3.35668847e-02\n",
      "  1.18860818e-01 -3.08390856e-01 -1.17194235e-01 -3.07462424e-01\n",
      "  8.74134675e-02 -1.63102955e-01  9.27124247e-02 -3.09323311e-01\n",
      " -2.44758219e-01 -3.37015718e-01 -3.25734675e-01 -1.43982396e-01\n",
      " -3.08570474e-01 -5.65325141e-01 -4.75859880e-01 -2.71255076e-01\n",
      "  1.32603273e-01  1.22936934e-01 -3.57726157e-01 -6.79397285e-02\n",
      " -4.41662557e-02  1.53321937e-01 -1.28254011e-01 -3.93909961e-01\n",
      " -2.98452973e-01 -3.06760252e-01  1.74329147e-01 -3.71508777e-01\n",
      " -1.66679412e-01 -2.48322204e-01 -1.76264405e-01  4.85155076e-01\n",
      "  5.81382513e-01 -2.77362853e-01 -4.80148673e-01 -1.43871516e-01\n",
      " -9.80189890e-02 -3.56830284e-03  7.24705905e-02  3.87715161e-01\n",
      "  6.39832243e-02 -2.75431484e-01 -2.59944052e-01  2.19908759e-01\n",
      " -1.18434995e-01 -1.81467503e-01 -1.74567133e-01  7.18533695e-02\n",
      " -3.19788903e-01 -2.77457952e-01  4.13256586e-02 -1.54825062e-01\n",
      " -5.68040848e-01 -3.91423792e-01 -3.92722577e-01 -3.51097733e-01]\n",
      "[[-0.07998978 -0.3449967  -0.11756924 ...  0.01172693  0.12166885\n",
      "   0.11150191]\n",
      " [ 0.17715013 -0.15102212  0.01717784 ...  0.1918794  -0.08604278\n",
      "   0.03179779]\n",
      " [-0.09444255 -0.1962253  -0.00937346 ...  0.04926471 -0.00269777\n",
      "  -0.07410479]\n",
      " ...\n",
      " [-0.0188194  -0.09776548  0.11782956 ...  0.14787565 -0.03584618\n",
      "  -0.06240946]\n",
      " [ 0.02239471 -0.14386983 -0.11153232 ...  0.00393057 -0.14525636\n",
      "  -0.09324718]\n",
      " [ 0.11554375 -0.23576194 -0.08282278 ... -0.06275252 -0.2286592\n",
      "  -0.0598177 ]]\n",
      "[ 0.1503589  -0.5533129   0.03722584 -0.02439953 -0.13937163 -0.14340617\n",
      " -0.33307904 -0.31031993  0.9306239   0.02406631]\n"
     ]
    }
   ],
   "source": [
    "# Найдем эпоху с наивысшей точностью валидации\n",
    "best_epoch = np.argmax(history.history['val_accuracy'])\n",
    "best_accuracy = history.history['val_accuracy'][best_epoch]\n",
    "\n",
    "# Получим веса модели для этой эпохи из файла, сохраненного ранее на этапе обучения\n",
    "model.load_weights(f'weights.{best_epoch+1:02d}.h5')\n",
    "\n",
    "# Получим параметры модели для лучшей эпохи\n",
    "best_parameters = model.get_weights()\n",
    "\n",
    "print(f\"Best accuracy: {best_accuracy}\")\n",
    "print(\"Best params:\")\n",
    "for layer_param in best_parameters:\n",
    "    print(layer_param)"
   ]
  },
  {
   "cell_type": "markdown",
   "metadata": {},
   "source": [
    "### Определить параметры нейронной сети, при которых точность классификации максимальна\n",
    "\n",
    "Чтобы определить параметры нейронной сети, при которых точность классификации максимальна, мы\n",
    "- должны проанализировать объект history, возвращаемый методом fit(), который содержит историю обучения, включая значения точности для каждой эпохи;\n",
    "- найти эпоху с лучшей точностью проверки;\n",
    "- по мере обучения модели мы сохраняем веса, полученные на каждой эпохе, в отдельный файл. Загрузим веса из файла соответсвующего эпохе с лучшей точностью;\n",
    "- используем model.get_weights() для получения параметров (весов и смещений) модели в лучшую эпоху. Мы перебираем параметры и выводим их формы, чтобы проверить размеры параметров каждого слоя."
   ]
  },
  {
   "cell_type": "code",
   "execution_count": 16,
   "metadata": {},
   "outputs": [
    {
     "name": "stdout",
     "output_type": "stream",
     "text": [
      "Best accuracy: 0.9813095331192017\n",
      "Best params:\n",
      "[[-0.04220533  0.18742411 -0.14756899 ... -0.01708057  0.1183227\n",
      "   0.17657517]\n",
      " [ 0.02343066  0.12704588 -0.17909186 ...  0.03032963  0.03593529\n",
      "   0.07722642]\n",
      " [ 0.06052176  0.17553481 -0.11769428 ...  0.07179723  0.02911661\n",
      "   0.11864807]\n",
      " ...\n",
      " [ 0.01304426  0.07974745 -0.09822937 ... -0.07474518  0.01332953\n",
      "   0.0781544 ]\n",
      " [-0.04650022  0.18392773 -0.09008701 ... -0.02937578 -0.01390326\n",
      "   0.14088707]\n",
      " [ 0.02064295  0.15368721 -0.14459725 ...  0.07614125  0.09210829\n",
      "   0.09907603]]\n",
      "[-0.03059397 -0.11160898  0.10550868 -0.19308043 -0.09763703 -0.13176575\n",
      " -0.07652689  0.06605405 -0.04883838  0.00553885 -0.09068472  0.06433117\n",
      " -0.11792408 -0.07643215 -0.04755628 -0.08748143  0.04514018 -0.19209485\n",
      " -0.21552597 -0.07540876 -0.08458669 -0.05478548 -0.10911197 -0.07660513\n",
      "  0.03004547  0.00243603  0.07220473 -0.05557925 -0.15863356 -0.11089264\n",
      " -0.09416723 -0.17974415 -0.27016288 -0.11159208 -0.05874808 -0.11151635\n",
      "  0.1654178  -0.0603856  -0.09200501  0.0024193  -0.16410258 -0.18182981\n",
      " -0.11142805 -0.1024897  -0.13069947 -0.07751828 -0.07235391 -0.22216053\n",
      " -0.15825067 -0.0536375  -0.07322095 -0.06931515 -0.1242912  -0.00076447\n",
      " -0.06251445 -0.1225673   0.04418923 -0.04859739 -0.1447778  -0.1950221\n",
      "  0.02014622 -0.16519919 -0.11114393 -0.05106154 -0.05515849  0.03419862\n",
      " -0.04448391 -0.04026786  0.0834237  -0.13324569 -0.13715462 -0.09798776\n",
      " -0.04038875 -0.11744726 -0.00619531 -0.16083495 -0.14413331 -0.11336672\n",
      " -0.03413301 -0.08019356 -0.16461582 -0.11659107  0.04158513 -0.1707711\n",
      " -0.13212024 -0.10057224 -0.0795272  -0.00435322 -0.08331224 -0.02027754\n",
      " -0.17516921  0.05802864 -0.1503934  -0.13091533  0.03801888 -0.12585655\n",
      " -0.18680964 -0.10110946  0.02254081 -0.15102707 -0.06772067 -0.12335019\n",
      " -0.10017626 -0.06689473  0.02288476  0.04968648 -0.08953314 -0.01506151\n",
      " -0.12012042 -0.1243245  -0.01921432 -0.07851047 -0.19167432  0.0834227\n",
      " -0.0756475  -0.09991603 -0.08541951 -0.02977313 -0.0224138  -0.15410586\n",
      "  0.05027096 -0.14962445 -0.09318221  0.00512832 -0.15272613 -0.0107094\n",
      " -0.04266627 -0.11813264]\n",
      "[[-0.12032879 -0.01219659  0.06158188 ... -0.15888466  0.12943196\n",
      "  -0.25574175]\n",
      " [ 0.03382659  0.0706009   0.26243418 ...  0.03859863 -0.08974848\n",
      "   0.02979564]\n",
      " [-0.24077709  0.00613945 -0.06657372 ... -0.12714615 -0.09824927\n",
      "   0.08027231]\n",
      " ...\n",
      " [-0.16546482 -0.33895257 -0.1348836  ... -0.24699838  0.0384705\n",
      "  -0.2625326 ]\n",
      " [ 0.17102104 -0.12244893  0.06762774 ... -0.03090992 -0.10093073\n",
      "  -0.32740322]\n",
      " [-0.19352959 -0.04754023  0.36460644 ... -0.16883753  0.2569549\n",
      "  -0.12743203]]\n",
      "[-1.10664912e-01 -3.38443846e-01 -7.79189504e-05  3.98603797e-01\n",
      " -2.19476879e-01 -2.85080194e-01 -6.98107854e-02  3.96460801e-01\n",
      " -3.92795414e-01 -3.41045052e-01 -2.38975123e-01  2.11391039e-02\n",
      "  3.13366801e-02 -3.09164345e-01 -3.90803665e-01 -1.74516276e-01\n",
      " -2.55243450e-01 -1.63344786e-01  7.77683109e-02  3.38737160e-01\n",
      " -5.10291040e-01  1.06527135e-01  1.38194174e-01 -1.47201955e-01\n",
      " -4.61109996e-01 -4.20983315e-01  2.46052757e-01 -1.79751329e-02\n",
      " -3.59580845e-01 -2.47923672e-01  8.99337307e-02 -3.44575733e-01\n",
      " -4.74896550e-01 -2.60679307e-03 -7.88683519e-02 -5.36537468e-01\n",
      "  2.93323874e-01 -3.98505628e-01 -3.73286903e-01  3.44291151e-01\n",
      " -3.97821248e-01 -3.92103493e-01 -1.98776647e-01 -8.66050720e-02\n",
      " -1.53869927e-01  1.08746417e-01 -2.44340092e-01  3.49328548e-01\n",
      " -2.83315390e-01 -1.41795531e-01 -2.28035346e-01 -5.61342120e-01\n",
      "  5.06007075e-02 -1.72718987e-01  1.81129247e-01 -2.02297539e-01\n",
      " -1.93231419e-01 -2.67198324e-01 -3.59740019e-01 -4.82371032e-01\n",
      " -7.54951611e-02 -6.08594775e-01 -2.45871142e-01 -1.35252789e-01\n",
      " -1.18041918e-01 -3.94812256e-01 -4.32165027e-01 -3.91859025e-01\n",
      " -3.33211333e-01 -9.40738097e-02 -1.43662646e-01 -3.35668847e-02\n",
      "  1.18860818e-01 -3.08390856e-01 -1.17194235e-01 -3.07462424e-01\n",
      "  8.74134675e-02 -1.63102955e-01  9.27124247e-02 -3.09323311e-01\n",
      " -2.44758219e-01 -3.37015718e-01 -3.25734675e-01 -1.43982396e-01\n",
      " -3.08570474e-01 -5.65325141e-01 -4.75859880e-01 -2.71255076e-01\n",
      "  1.32603273e-01  1.22936934e-01 -3.57726157e-01 -6.79397285e-02\n",
      " -4.41662557e-02  1.53321937e-01 -1.28254011e-01 -3.93909961e-01\n",
      " -2.98452973e-01 -3.06760252e-01  1.74329147e-01 -3.71508777e-01\n",
      " -1.66679412e-01 -2.48322204e-01 -1.76264405e-01  4.85155076e-01\n",
      "  5.81382513e-01 -2.77362853e-01 -4.80148673e-01 -1.43871516e-01\n",
      " -9.80189890e-02 -3.56830284e-03  7.24705905e-02  3.87715161e-01\n",
      "  6.39832243e-02 -2.75431484e-01 -2.59944052e-01  2.19908759e-01\n",
      " -1.18434995e-01 -1.81467503e-01 -1.74567133e-01  7.18533695e-02\n",
      " -3.19788903e-01 -2.77457952e-01  4.13256586e-02 -1.54825062e-01\n",
      " -5.68040848e-01 -3.91423792e-01 -3.92722577e-01 -3.51097733e-01]\n",
      "[[-0.07998978 -0.3449967  -0.11756924 ...  0.01172693  0.12166885\n",
      "   0.11150191]\n",
      " [ 0.17715013 -0.15102212  0.01717784 ...  0.1918794  -0.08604278\n",
      "   0.03179779]\n",
      " [-0.09444255 -0.1962253  -0.00937346 ...  0.04926471 -0.00269777\n",
      "  -0.07410479]\n",
      " ...\n",
      " [-0.0188194  -0.09776548  0.11782956 ...  0.14787565 -0.03584618\n",
      "  -0.06240946]\n",
      " [ 0.02239471 -0.14386983 -0.11153232 ...  0.00393057 -0.14525636\n",
      "  -0.09324718]\n",
      " [ 0.11554375 -0.23576194 -0.08282278 ... -0.06275252 -0.2286592\n",
      "  -0.0598177 ]]\n",
      "[ 0.1503589  -0.5533129   0.03722584 -0.02439953 -0.13937163 -0.14340617\n",
      " -0.33307904 -0.31031993  0.9306239   0.02406631]\n"
     ]
    }
   ],
   "source": [
    "# Найдем эпоху с наивысшей точностью валидации\n",
    "best_epoch = np.argmax(history.history['val_accuracy'])\n",
    "best_accuracy = history.history['val_accuracy'][best_epoch]\n",
    "\n",
    "# Получим веса модели для этой эпохи из файла, сохраненного ранее на этапе обучения\n",
    "model.load_weights(f'weights.{best_epoch+1:02d}.h5')\n",
    "\n",
    "# Получим параметры модели для лучшей эпохи\n",
    "best_parameters = model.get_weights()\n",
    "\n",
    "print(f\"Best accuracy: {best_accuracy}\")\n",
    "print(\"Best params:\")\n",
    "for layer_param in best_parameters:\n",
    "    print(layer_param)"
   ]
  },
  {
   "cell_type": "code",
   "execution_count": 17,
   "metadata": {},
   "outputs": [
    {
     "name": "stdout",
     "output_type": "stream",
     "text": [
      "Описание модели:\n",
      "Model: \"sequential\"\n",
      "_________________________________________________________________\n",
      " Layer (type)                Output Shape              Param #   \n",
      "=================================================================\n",
      " lambda (Lambda)             (None, 28, 28, 1)         0         \n",
      "                                                                 \n",
      " flatten (Flatten)           (None, 784)               0         \n",
      "                                                                 \n",
      " dense (Dense)               (None, 128)               100480    \n",
      "                                                                 \n",
      " dense_1 (Dense)             (None, 128)               16512     \n",
      "                                                                 \n",
      " dense_2 (Dense)             (None, 10)                1290      \n",
      "                                                                 \n",
      "=================================================================\n",
      "Total params: 118282 (462.04 KB)\n",
      "Trainable params: 118282 (462.04 KB)\n",
      "Non-trainable params: 0 (0.00 Byte)\n",
      "_________________________________________________________________\n"
     ]
    }
   ],
   "source": [
    "print(\"Описание модели:\")\n",
    "model.summary()"
   ]
  }
 ],
 "metadata": {
  "kernelspec": {
   "display_name": "venv",
   "language": "python",
   "name": "python3"
  },
  "language_info": {
   "codemirror_mode": {
    "name": "ipython",
    "version": 3
   },
   "file_extension": ".py",
   "mimetype": "text/x-python",
   "name": "python",
   "nbconvert_exporter": "python",
   "pygments_lexer": "ipython3",
   "version": "3.10.7"
  }
 },
 "nbformat": 4,
 "nbformat_minor": 2
}
