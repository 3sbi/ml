{
 "cells": [
  {
   "cell_type": "code",
   "execution_count": 41,
   "metadata": {},
   "outputs": [],
   "source": [
    "import pandas as pd\n",
    "import numpy as np\n",
    "from sklearn.model_selection import train_test_split\n",
    "from sklearn.preprocessing import StandardScaler\n",
    "from sklearn.linear_model import SGDRegressor, LinearRegression, Ridge\n",
    "from sklearn import metrics\n",
    "%matplotlib inline\n",
    "\n",
    "import warnings\n",
    "def ignore_warn(*args, **kwargs):\n",
    "    pass\n",
    "warnings.warn = ignore_warn"
   ]
  },
  {
   "cell_type": "code",
   "execution_count": 42,
   "metadata": {},
   "outputs": [
    {
     "data": {
      "text/html": [
       "<div>\n",
       "<style scoped>\n",
       "    .dataframe tbody tr th:only-of-type {\n",
       "        vertical-align: middle;\n",
       "    }\n",
       "\n",
       "    .dataframe tbody tr th {\n",
       "        vertical-align: top;\n",
       "    }\n",
       "\n",
       "    .dataframe thead th {\n",
       "        text-align: right;\n",
       "    }\n",
       "</style>\n",
       "<table border=\"1\" class=\"dataframe\">\n",
       "  <thead>\n",
       "    <tr style=\"text-align: right;\">\n",
       "      <th></th>\n",
       "      <th>Posted On</th>\n",
       "      <th>BHK</th>\n",
       "      <th>Rent</th>\n",
       "      <th>Size</th>\n",
       "      <th>Floor</th>\n",
       "      <th>Area Type</th>\n",
       "      <th>Area Locality</th>\n",
       "      <th>City</th>\n",
       "      <th>Furnishing Status</th>\n",
       "      <th>Tenant Preferred</th>\n",
       "      <th>Bathroom</th>\n",
       "      <th>Point of Contact</th>\n",
       "    </tr>\n",
       "  </thead>\n",
       "  <tbody>\n",
       "    <tr>\n",
       "      <th>0</th>\n",
       "      <td>2022-05-18</td>\n",
       "      <td>2</td>\n",
       "      <td>10000</td>\n",
       "      <td>1100</td>\n",
       "      <td>Ground out of 2</td>\n",
       "      <td>Super Area</td>\n",
       "      <td>Bandel</td>\n",
       "      <td>Kolkata</td>\n",
       "      <td>Unfurnished</td>\n",
       "      <td>Bachelors/Family</td>\n",
       "      <td>2</td>\n",
       "      <td>Contact Owner</td>\n",
       "    </tr>\n",
       "    <tr>\n",
       "      <th>1</th>\n",
       "      <td>2022-05-13</td>\n",
       "      <td>2</td>\n",
       "      <td>20000</td>\n",
       "      <td>800</td>\n",
       "      <td>1 out of 3</td>\n",
       "      <td>Super Area</td>\n",
       "      <td>Phool Bagan, Kankurgachi</td>\n",
       "      <td>Kolkata</td>\n",
       "      <td>Semi-Furnished</td>\n",
       "      <td>Bachelors/Family</td>\n",
       "      <td>1</td>\n",
       "      <td>Contact Owner</td>\n",
       "    </tr>\n",
       "    <tr>\n",
       "      <th>2</th>\n",
       "      <td>2022-05-16</td>\n",
       "      <td>2</td>\n",
       "      <td>17000</td>\n",
       "      <td>1000</td>\n",
       "      <td>1 out of 3</td>\n",
       "      <td>Super Area</td>\n",
       "      <td>Salt Lake City Sector 2</td>\n",
       "      <td>Kolkata</td>\n",
       "      <td>Semi-Furnished</td>\n",
       "      <td>Bachelors/Family</td>\n",
       "      <td>1</td>\n",
       "      <td>Contact Owner</td>\n",
       "    </tr>\n",
       "    <tr>\n",
       "      <th>3</th>\n",
       "      <td>2022-07-04</td>\n",
       "      <td>2</td>\n",
       "      <td>10000</td>\n",
       "      <td>800</td>\n",
       "      <td>1 out of 2</td>\n",
       "      <td>Super Area</td>\n",
       "      <td>Dumdum Park</td>\n",
       "      <td>Kolkata</td>\n",
       "      <td>Unfurnished</td>\n",
       "      <td>Bachelors/Family</td>\n",
       "      <td>1</td>\n",
       "      <td>Contact Owner</td>\n",
       "    </tr>\n",
       "    <tr>\n",
       "      <th>4</th>\n",
       "      <td>2022-05-09</td>\n",
       "      <td>2</td>\n",
       "      <td>7500</td>\n",
       "      <td>850</td>\n",
       "      <td>1 out of 2</td>\n",
       "      <td>Carpet Area</td>\n",
       "      <td>South Dum Dum</td>\n",
       "      <td>Kolkata</td>\n",
       "      <td>Unfurnished</td>\n",
       "      <td>Bachelors</td>\n",
       "      <td>1</td>\n",
       "      <td>Contact Owner</td>\n",
       "    </tr>\n",
       "  </tbody>\n",
       "</table>\n",
       "</div>"
      ],
      "text/plain": [
       "    Posted On  BHK   Rent  Size            Floor    Area Type  \\\n",
       "0  2022-05-18    2  10000  1100  Ground out of 2   Super Area   \n",
       "1  2022-05-13    2  20000   800       1 out of 3   Super Area   \n",
       "2  2022-05-16    2  17000  1000       1 out of 3   Super Area   \n",
       "3  2022-07-04    2  10000   800       1 out of 2   Super Area   \n",
       "4  2022-05-09    2   7500   850       1 out of 2  Carpet Area   \n",
       "\n",
       "              Area Locality     City Furnishing Status  Tenant Preferred  \\\n",
       "0                    Bandel  Kolkata       Unfurnished  Bachelors/Family   \n",
       "1  Phool Bagan, Kankurgachi  Kolkata    Semi-Furnished  Bachelors/Family   \n",
       "2   Salt Lake City Sector 2  Kolkata    Semi-Furnished  Bachelors/Family   \n",
       "3               Dumdum Park  Kolkata       Unfurnished  Bachelors/Family   \n",
       "4             South Dum Dum  Kolkata       Unfurnished         Bachelors   \n",
       "\n",
       "   Bathroom Point of Contact  \n",
       "0         2    Contact Owner  \n",
       "1         1    Contact Owner  \n",
       "2         1    Contact Owner  \n",
       "3         1    Contact Owner  \n",
       "4         1    Contact Owner  "
      ]
     },
     "execution_count": 42,
     "metadata": {},
     "output_type": "execute_result"
    }
   ],
   "source": [
    "data = pd.read_csv('./House_Rent_Dataset.csv')\n",
    "data.head()"
   ]
  },
  {
   "cell_type": "markdown",
   "metadata": {},
   "source": [
    "### Предварительная обработка данных\n",
    "В первую очередь проверим есть ли пропущенные значения"
   ]
  },
  {
   "cell_type": "code",
   "execution_count": 43,
   "metadata": {},
   "outputs": [
    {
     "data": {
      "text/plain": [
       "Posted On            0\n",
       "BHK                  0\n",
       "Rent                 0\n",
       "Size                 0\n",
       "Floor                0\n",
       "Area Type            0\n",
       "Area Locality        0\n",
       "City                 0\n",
       "Furnishing Status    0\n",
       "Tenant Preferred     0\n",
       "Bathroom             0\n",
       "Point of Contact     0\n",
       "dtype: int64"
      ]
     },
     "execution_count": 43,
     "metadata": {},
     "output_type": "execute_result"
    }
   ],
   "source": [
    "data.isna().sum()"
   ]
  },
  {
   "cell_type": "markdown",
   "metadata": {},
   "source": [
    "Пропущенных значений нет, "
   ]
  },
  {
   "cell_type": "code",
   "execution_count": 44,
   "metadata": {},
   "outputs": [
    {
     "name": "stdout",
     "output_type": "stream",
     "text": [
      "<class 'pandas.core.frame.DataFrame'>\n",
      "RangeIndex: 4746 entries, 0 to 4745\n",
      "Data columns (total 12 columns):\n",
      " #   Column             Non-Null Count  Dtype \n",
      "---  ------             --------------  ----- \n",
      " 0   Posted On          4746 non-null   object\n",
      " 1   BHK                4746 non-null   int64 \n",
      " 2   Rent               4746 non-null   int64 \n",
      " 3   Size               4746 non-null   int64 \n",
      " 4   Floor              4746 non-null   object\n",
      " 5   Area Type          4746 non-null   object\n",
      " 6   Area Locality      4746 non-null   object\n",
      " 7   City               4746 non-null   object\n",
      " 8   Furnishing Status  4746 non-null   object\n",
      " 9   Tenant Preferred   4746 non-null   object\n",
      " 10  Bathroom           4746 non-null   int64 \n",
      " 11  Point of Contact   4746 non-null   object\n",
      "dtypes: int64(4), object(8)\n",
      "memory usage: 445.1+ KB\n"
     ]
    }
   ],
   "source": [
    "data.info()"
   ]
  },
  {
   "cell_type": "code",
   "execution_count": 45,
   "metadata": {},
   "outputs": [
    {
     "name": "stdout",
     "output_type": "stream",
     "text": [
      "<class 'pandas.core.frame.DataFrame'>\n",
      "RangeIndex: 4746 entries, 0 to 4745\n",
      "Data columns (total 12 columns):\n",
      " #   Column             Non-Null Count  Dtype         \n",
      "---  ------             --------------  -----         \n",
      " 0   Posted On          4746 non-null   datetime64[ns]\n",
      " 1   BHK                4746 non-null   int64         \n",
      " 2   Rent               4746 non-null   int64         \n",
      " 3   Size               4746 non-null   int64         \n",
      " 4   Floor              4746 non-null   object        \n",
      " 5   Area Type          4746 non-null   object        \n",
      " 6   Area Locality      4746 non-null   object        \n",
      " 7   City               4746 non-null   object        \n",
      " 8   Furnishing Status  4746 non-null   object        \n",
      " 9   Tenant Preferred   4746 non-null   object        \n",
      " 10  Bathroom           4746 non-null   int64         \n",
      " 11  Point of Contact   4746 non-null   object        \n",
      "dtypes: datetime64[ns](1), int64(4), object(7)\n",
      "memory usage: 445.1+ KB\n"
     ]
    }
   ],
   "source": [
    "# у столбца Posted On указан тип object, преобразуем его во время.\n",
    "data['Posted On'] = pd.to_datetime(data['Posted On'])\n",
    "data.info()"
   ]
  },
  {
   "cell_type": "markdown",
   "metadata": {},
   "source": [
    "В столбце `Floor` указано как общее количество этажей, так и сам этаж апартаментов. Разобьем эту составляющую на два отдельных столбца с данными."
   ]
  },
  {
   "cell_type": "code",
   "execution_count": 46,
   "metadata": {},
   "outputs": [],
   "source": [
    "# data[\"Total Floors\"] = data[\"Floor\"].apply(lambda floor:floor.split()[-1])\n",
    "# data[\"Floor\"] = data[\"Floor\"].apply(lambda floor:floor.split()[0])\n",
    "\n",
    "# encodes = {\"Floor\":     {\"Ground\": 0, \"Upper\": 999, \"Lower\": -1},\n",
    "#            \"Total Floors\": {\"Ground\": 0}}\n",
    "\n",
    "# data = data.replace(encodes)\n",
    "\n",
    "# data.head()"
   ]
  },
  {
   "cell_type": "code",
   "execution_count": 47,
   "metadata": {},
   "outputs": [
    {
     "data": {
      "text/plain": [
       "[('Posted On', 81),\n",
       " ('BHK', 6),\n",
       " ('Rent', 243),\n",
       " ('Size', 615),\n",
       " ('Floor', 480),\n",
       " ('Area Type', 3),\n",
       " ('Area Locality', 2235),\n",
       " ('City', 6),\n",
       " ('Furnishing Status', 3),\n",
       " ('Tenant Preferred', 3),\n",
       " ('Bathroom', 8),\n",
       " ('Point of Contact', 3)]"
      ]
     },
     "execution_count": 47,
     "metadata": {},
     "output_type": "execute_result"
    }
   ],
   "source": [
    "[(data.columns[i], data.iloc[:, i].unique().shape[0]) for i in range(len(data.columns))]"
   ]
  },
  {
   "cell_type": "markdown",
   "metadata": {},
   "source": [
    "В столбце `Area Locality`, где хранится информация о местоположении дома, слишком много уникальных значений"
   ]
  },
  {
   "cell_type": "code",
   "execution_count": 48,
   "metadata": {},
   "outputs": [],
   "source": [
    "data = data.drop(['Area Locality', 'Posted On', 'Floor'],axis=1)"
   ]
  },
  {
   "cell_type": "code",
   "execution_count": 49,
   "metadata": {},
   "outputs": [
    {
     "data": {
      "text/html": [
       "<div>\n",
       "<style scoped>\n",
       "    .dataframe tbody tr th:only-of-type {\n",
       "        vertical-align: middle;\n",
       "    }\n",
       "\n",
       "    .dataframe tbody tr th {\n",
       "        vertical-align: top;\n",
       "    }\n",
       "\n",
       "    .dataframe thead th {\n",
       "        text-align: right;\n",
       "    }\n",
       "</style>\n",
       "<table border=\"1\" class=\"dataframe\">\n",
       "  <thead>\n",
       "    <tr style=\"text-align: right;\">\n",
       "      <th></th>\n",
       "      <th>BHK</th>\n",
       "      <th>Rent</th>\n",
       "      <th>Size</th>\n",
       "      <th>Bathroom</th>\n",
       "      <th>Area Type_Built Area</th>\n",
       "      <th>Area Type_Carpet Area</th>\n",
       "      <th>Area Type_Super Area</th>\n",
       "      <th>City_Bangalore</th>\n",
       "      <th>City_Chennai</th>\n",
       "      <th>City_Delhi</th>\n",
       "      <th>...</th>\n",
       "      <th>City_Mumbai</th>\n",
       "      <th>Furnishing Status_Furnished</th>\n",
       "      <th>Furnishing Status_Semi-Furnished</th>\n",
       "      <th>Furnishing Status_Unfurnished</th>\n",
       "      <th>Tenant Preferred_Bachelors</th>\n",
       "      <th>Tenant Preferred_Bachelors/Family</th>\n",
       "      <th>Tenant Preferred_Family</th>\n",
       "      <th>Point of Contact_Contact Agent</th>\n",
       "      <th>Point of Contact_Contact Builder</th>\n",
       "      <th>Point of Contact_Contact Owner</th>\n",
       "    </tr>\n",
       "  </thead>\n",
       "  <tbody>\n",
       "    <tr>\n",
       "      <th>0</th>\n",
       "      <td>2</td>\n",
       "      <td>10000</td>\n",
       "      <td>1100</td>\n",
       "      <td>2</td>\n",
       "      <td>False</td>\n",
       "      <td>False</td>\n",
       "      <td>True</td>\n",
       "      <td>False</td>\n",
       "      <td>False</td>\n",
       "      <td>False</td>\n",
       "      <td>...</td>\n",
       "      <td>False</td>\n",
       "      <td>False</td>\n",
       "      <td>False</td>\n",
       "      <td>True</td>\n",
       "      <td>False</td>\n",
       "      <td>True</td>\n",
       "      <td>False</td>\n",
       "      <td>False</td>\n",
       "      <td>False</td>\n",
       "      <td>True</td>\n",
       "    </tr>\n",
       "    <tr>\n",
       "      <th>1</th>\n",
       "      <td>2</td>\n",
       "      <td>20000</td>\n",
       "      <td>800</td>\n",
       "      <td>1</td>\n",
       "      <td>False</td>\n",
       "      <td>False</td>\n",
       "      <td>True</td>\n",
       "      <td>False</td>\n",
       "      <td>False</td>\n",
       "      <td>False</td>\n",
       "      <td>...</td>\n",
       "      <td>False</td>\n",
       "      <td>False</td>\n",
       "      <td>True</td>\n",
       "      <td>False</td>\n",
       "      <td>False</td>\n",
       "      <td>True</td>\n",
       "      <td>False</td>\n",
       "      <td>False</td>\n",
       "      <td>False</td>\n",
       "      <td>True</td>\n",
       "    </tr>\n",
       "    <tr>\n",
       "      <th>2</th>\n",
       "      <td>2</td>\n",
       "      <td>17000</td>\n",
       "      <td>1000</td>\n",
       "      <td>1</td>\n",
       "      <td>False</td>\n",
       "      <td>False</td>\n",
       "      <td>True</td>\n",
       "      <td>False</td>\n",
       "      <td>False</td>\n",
       "      <td>False</td>\n",
       "      <td>...</td>\n",
       "      <td>False</td>\n",
       "      <td>False</td>\n",
       "      <td>True</td>\n",
       "      <td>False</td>\n",
       "      <td>False</td>\n",
       "      <td>True</td>\n",
       "      <td>False</td>\n",
       "      <td>False</td>\n",
       "      <td>False</td>\n",
       "      <td>True</td>\n",
       "    </tr>\n",
       "    <tr>\n",
       "      <th>3</th>\n",
       "      <td>2</td>\n",
       "      <td>10000</td>\n",
       "      <td>800</td>\n",
       "      <td>1</td>\n",
       "      <td>False</td>\n",
       "      <td>False</td>\n",
       "      <td>True</td>\n",
       "      <td>False</td>\n",
       "      <td>False</td>\n",
       "      <td>False</td>\n",
       "      <td>...</td>\n",
       "      <td>False</td>\n",
       "      <td>False</td>\n",
       "      <td>False</td>\n",
       "      <td>True</td>\n",
       "      <td>False</td>\n",
       "      <td>True</td>\n",
       "      <td>False</td>\n",
       "      <td>False</td>\n",
       "      <td>False</td>\n",
       "      <td>True</td>\n",
       "    </tr>\n",
       "    <tr>\n",
       "      <th>4</th>\n",
       "      <td>2</td>\n",
       "      <td>7500</td>\n",
       "      <td>850</td>\n",
       "      <td>1</td>\n",
       "      <td>False</td>\n",
       "      <td>True</td>\n",
       "      <td>False</td>\n",
       "      <td>False</td>\n",
       "      <td>False</td>\n",
       "      <td>False</td>\n",
       "      <td>...</td>\n",
       "      <td>False</td>\n",
       "      <td>False</td>\n",
       "      <td>False</td>\n",
       "      <td>True</td>\n",
       "      <td>True</td>\n",
       "      <td>False</td>\n",
       "      <td>False</td>\n",
       "      <td>False</td>\n",
       "      <td>False</td>\n",
       "      <td>True</td>\n",
       "    </tr>\n",
       "  </tbody>\n",
       "</table>\n",
       "<p>5 rows × 22 columns</p>\n",
       "</div>"
      ],
      "text/plain": [
       "   BHK   Rent  Size  Bathroom  Area Type_Built Area  Area Type_Carpet Area  \\\n",
       "0    2  10000  1100         2                 False                  False   \n",
       "1    2  20000   800         1                 False                  False   \n",
       "2    2  17000  1000         1                 False                  False   \n",
       "3    2  10000   800         1                 False                  False   \n",
       "4    2   7500   850         1                 False                   True   \n",
       "\n",
       "   Area Type_Super Area  City_Bangalore  City_Chennai  City_Delhi  ...  \\\n",
       "0                  True           False         False       False  ...   \n",
       "1                  True           False         False       False  ...   \n",
       "2                  True           False         False       False  ...   \n",
       "3                  True           False         False       False  ...   \n",
       "4                 False           False         False       False  ...   \n",
       "\n",
       "   City_Mumbai  Furnishing Status_Furnished  Furnishing Status_Semi-Furnished  \\\n",
       "0        False                        False                             False   \n",
       "1        False                        False                              True   \n",
       "2        False                        False                              True   \n",
       "3        False                        False                             False   \n",
       "4        False                        False                             False   \n",
       "\n",
       "   Furnishing Status_Unfurnished  Tenant Preferred_Bachelors  \\\n",
       "0                           True                       False   \n",
       "1                          False                       False   \n",
       "2                          False                       False   \n",
       "3                           True                       False   \n",
       "4                           True                        True   \n",
       "\n",
       "   Tenant Preferred_Bachelors/Family  Tenant Preferred_Family  \\\n",
       "0                               True                    False   \n",
       "1                               True                    False   \n",
       "2                               True                    False   \n",
       "3                               True                    False   \n",
       "4                              False                    False   \n",
       "\n",
       "   Point of Contact_Contact Agent  Point of Contact_Contact Builder  \\\n",
       "0                           False                             False   \n",
       "1                           False                             False   \n",
       "2                           False                             False   \n",
       "3                           False                             False   \n",
       "4                           False                             False   \n",
       "\n",
       "   Point of Contact_Contact Owner  \n",
       "0                            True  \n",
       "1                            True  \n",
       "2                            True  \n",
       "3                            True  \n",
       "4                            True  \n",
       "\n",
       "[5 rows x 22 columns]"
      ]
     },
     "execution_count": 49,
     "metadata": {},
     "output_type": "execute_result"
    }
   ],
   "source": [
    "columns = ['Area Type', 'City', 'Furnishing Status', 'Tenant Preferred', 'Point of Contact']\n",
    "data = pd.get_dummies(data, columns=columns)\n",
    "\n",
    "data.head()"
   ]
  },
  {
   "cell_type": "code",
   "execution_count": 50,
   "metadata": {},
   "outputs": [
    {
     "data": {
      "text/plain": [
       "Rent                                 1.000000\n",
       "Bathroom                             0.441215\n",
       "Size                                 0.413551\n",
       "BHK                                  0.369718\n",
       "Point of Contact_Contact Agent       0.339750\n",
       "City_Mumbai                          0.327038\n",
       "Area Type_Carpet Area                0.215769\n",
       "Furnishing Status_Furnished          0.110576\n",
       "Tenant Preferred_Family              0.063941\n",
       "Furnishing Status_Semi-Furnished     0.045309\n",
       "Tenant Preferred_Bachelors           0.042151\n",
       "Point of Contact_Contact Builder    -0.005482\n",
       "Area Type_Built Area                -0.006439\n",
       "City_Delhi                          -0.027072\n",
       "City_Bangalore                      -0.061512\n",
       "Tenant Preferred_Bachelors/Family   -0.078774\n",
       "City_Chennai                        -0.082361\n",
       "City_Hyderabad                      -0.087465\n",
       "City_Kolkata                        -0.105322\n",
       "Furnishing Status_Unfurnished       -0.126271\n",
       "Area Type_Super Area                -0.215499\n",
       "Point of Contact_Contact Owner      -0.339521\n",
       "Name: Rent, dtype: float64"
      ]
     },
     "execution_count": 50,
     "metadata": {},
     "output_type": "execute_result"
    }
   ],
   "source": [
    "\n",
    "data.corr()['Rent'].sort_values(ascending=False)"
   ]
  },
  {
   "cell_type": "markdown",
   "metadata": {},
   "source": [
    "### Разбиваем данные и масштабируем данные"
   ]
  },
  {
   "cell_type": "code",
   "execution_count": 51,
   "metadata": {},
   "outputs": [],
   "source": [
    "# Разделение на признаки и целевую переменную\n",
    "X = data.drop('Rent', axis=1)\n",
    "y = data['Rent']\n",
    "\n",
    "# Разделение на обучающую и тестовую выборки\n",
    "X_train, X_test, y_train, y_test = train_test_split(X, y, test_size=0.3, random_state=42)"
   ]
  },
  {
   "cell_type": "code",
   "execution_count": 52,
   "metadata": {},
   "outputs": [],
   "source": [
    "# Scaling the data\n",
    "y_train = y_train.values.reshape(-1,1)\n",
    "y_tes = y_test.values.reshape(-1,1)\n",
    "scaler = StandardScaler()\n",
    "sc_y = StandardScaler()\n",
    "X_train = scaler.fit_transform(X_train)\n",
    "X_test = scaler.fit_transform(X_test)"
   ]
  },
  {
   "cell_type": "markdown",
   "metadata": {},
   "source": [
    "### Моделирование"
   ]
  },
  {
   "cell_type": "code",
   "execution_count": 53,
   "metadata": {},
   "outputs": [
    {
     "name": "stdout",
     "output_type": "stream",
     "text": [
      "Значения функции потерь (линейная регрессия):\n",
      "MAE: 6196861716843749.0\n",
      "MSE: 1.1356299080116221e+32\n",
      "RMSE: 1.0656593771049088e+16\n",
      "\n",
      "\n",
      "Значения функции потерь (регуляризация Ridge):\n",
      "MAE: 22316.591562243033\n",
      "MSE: 1624280058.254136\n",
      "RMSE: 40302.35797387215\n",
      "\n",
      "\n"
     ]
    }
   ],
   "source": [
    "from numpy import ndarray\n",
    "# Модель линейной регрессии без регуляризации\n",
    "linear_reg = LinearRegression()\n",
    "linear_reg.fit(X_train, y_train)\n",
    "\n",
    "# Модель линейной регрессии с L2-регуляризацией (Ridge)\n",
    "ridge_reg = Ridge(alpha=0.5)\n",
    "ridge_reg.fit(X_train, y_train)\n",
    "\n",
    "\n",
    "linear_reg_prediction = linear_reg.predict(X_test)\n",
    "ridge_reg_prediction = ridge_reg.predict(X_test)\n",
    "\n",
    "def print_metrics(prediction: ndarray):\n",
    "    # Evaluation metrics\n",
    "    mae = metrics.mean_absolute_error(y_test, prediction)\n",
    "    mse=  metrics.mean_squared_error(y_test, prediction)\n",
    "    rmse =  np.sqrt(mse)\n",
    "    print('MAE:', mae)\n",
    "    print('MSE:', mse)\n",
    "    print('RMSE:', rmse)\n",
    "    print('\\n')\n",
    "\n",
    "print(\"Значения функции потерь (линейная регрессия):\")\n",
    "print_metrics(linear_reg_prediction)\n",
    "print(\"Значения функции потерь (регуляризация Ridge):\")\n",
    "print_metrics(ridge_reg_prediction)"
   ]
  },
  {
   "cell_type": "markdown",
   "metadata": {},
   "source": [
    "Получим модель линейной регрессии с помощью стохастического градиентного спуска"
   ]
  },
  {
   "cell_type": "code",
   "execution_count": 54,
   "metadata": {},
   "outputs": [
    {
     "name": "stdout",
     "output_type": "stream",
     "text": [
      "Значения функции потерь (Стохастический градиентный спуск):\n",
      "MAE: 25933.795851107425\n",
      "MSE: 1800360626.970854\n",
      "RMSE: 42430.6566879521\n",
      "\n",
      "\n"
     ]
    }
   ],
   "source": [
    "sgdr_reg = SGDRegressor(tol=.0001, eta0=.01) \n",
    "sgdr_reg.fit(X_train, y_train)\n",
    "sgdr_reg_prediction = sgdr_reg.predict(X_test)\n",
    "print(\"Значения функции потерь (Стохастический градиентный спуск):\")\n",
    "print_metrics(sgdr_reg_prediction)"
   ]
  },
  {
   "cell_type": "markdown",
   "metadata": {},
   "source": [
    "### Какая модель имеет наименьшее значение функции потерь на тестовой выборке?\n",
    "\n",
    "**Наименьшее значение функции потерь на тестовой выборке имеет модель с регуляризацией L2, следовательно, она имеет наилучшую точность**\n",
    "\n",
    "\n",
    "Регуляризация помогает избежать эффекта переобучения в данном примере. Использование L2-регуляризации (Ridge) позволяет штрафовать большие значения коэффициентов модели, что помогает уменьшить переобучение."
   ]
  },
  {
   "cell_type": "markdown",
   "metadata": {},
   "source": [
    "### Какие признаки оказывают наибольший вклад в точность определения стоимости аренды?\n",
    "\n",
    "Чтобы определить признаки, которые оказывают наибольший вклад в точность определения стоимости аренды, можно использовать коэффициенты модели линейной регрессии. Чем больше абсолютное значение коэффициента, тем больший вклад вносит соответствующий признак."
   ]
  },
  {
   "cell_type": "code",
   "execution_count": 55,
   "metadata": {},
   "outputs": [
    {
     "name": "stdout",
     "output_type": "stream",
     "text": [
      "Наиболее важные признаки для линейной регрессии:\n",
      "                              Признак   Коэффициент\n",
      "16  Tenant Preferred_Bachelors/Family  3.864205e+17\n",
      "15         Tenant Preferred_Bachelors  3.274686e+17\n",
      "17            Tenant Preferred_Family  2.616761e+17\n",
      "13   Furnishing Status_Semi-Furnished -6.771444e+16\n",
      "14      Furnishing Status_Unfurnished -6.592735e+16\n",
      "12        Furnishing Status_Furnished -4.712783e+16\n",
      "11                        City_Mumbai -2.059286e+16\n",
      "7                        City_Chennai -2.010158e+16\n",
      "6                      City_Bangalore -2.004090e+16\n",
      "9                      City_Hyderabad -1.969210e+16\n",
      "8                          City_Delhi -1.704134e+16\n",
      "10                       City_Kolkata -1.579364e+16\n",
      "20     Point of Contact_Contact Owner  9.954992e+15\n",
      "18     Point of Contact_Contact Agent  9.952574e+15\n",
      "5                Area Type_Super Area -9.270821e+15\n",
      "4               Area Type_Carpet Area -9.270538e+15\n",
      "3                Area Type_Built Area -4.549513e+14\n",
      "19   Point of Contact_Contact Builder  3.691217e+14\n",
      "1                                Size  2.401116e+04\n",
      "2                            Bathroom  1.025161e+04\n",
      "0                                 BHK  3.247603e+03\n"
     ]
    }
   ],
   "source": [
    "# Выведем все коэффициенты от самого высокого по модулю до самого низкого (т.е. от более значимых до менее значимых) для каждой из представленных моделей\n",
    "feature_importance = pd.DataFrame({\"Признак\": X.columns, \"Коэффициент\": linear_reg.coef_[0]})\n",
    "feature_importance_sorted = feature_importance.iloc[feature_importance['Коэффициент'].abs().argsort()[::-1]]\n",
    "print(\"Наиболее важные признаки для линейной регрессии:\")\n",
    "print(feature_importance_sorted)"
   ]
  },
  {
   "cell_type": "code",
   "execution_count": 56,
   "metadata": {},
   "outputs": [
    {
     "name": "stdout",
     "output_type": "stream",
     "text": [
      "Наиболее важные признаки для Ridge:\n",
      "                              Признак   Коэффициент\n",
      "1                                Size  23789.167440\n",
      "11                        City_Mumbai  17811.922994\n",
      "2                            Bathroom  10243.462744\n",
      "9                      City_Hyderabad  -9039.153338\n",
      "7                        City_Chennai  -5394.706110\n",
      "0                                 BHK   3244.215468\n",
      "17            Tenant Preferred_Family  -2977.460734\n",
      "10                       City_Kolkata  -2737.456455\n",
      "12        Furnishing Status_Furnished   2303.564654\n",
      "20     Point of Contact_Contact Owner  -2288.890348\n",
      "18     Point of Contact_Contact Agent   2270.256426\n",
      "6                      City_Bangalore  -2155.025911\n",
      "15         Tenant Preferred_Bachelors   1304.968560\n",
      "13   Furnishing Status_Semi-Furnished   -989.449892\n",
      "16  Tenant Preferred_Bachelors/Family    910.392313\n",
      "14      Furnishing Status_Unfurnished   -630.420609\n",
      "5                Area Type_Super Area   -607.685287\n",
      "4               Area Type_Carpet Area    597.008842\n",
      "19   Point of Contact_Contact Builder    517.413854\n",
      "8                          City_Delhi    356.001581\n",
      "3                Area Type_Built Area    217.931071\n"
     ]
    }
   ],
   "source": [
    "\n",
    "feature_importance = pd.DataFrame({\"Признак\": X.columns, \"Коэффициент\": ridge_reg.coef_[0]})\n",
    "feature_importance_sorted = feature_importance.iloc[feature_importance['Коэффициент'].abs().argsort()[::-1]]\n",
    "print(\"Наиболее важные признаки для Ridge:\")\n",
    "print(feature_importance_sorted)"
   ]
  },
  {
   "cell_type": "code",
   "execution_count": 57,
   "metadata": {},
   "outputs": [
    {
     "name": "stdout",
     "output_type": "stream",
     "text": [
      "Наиболее важные признаки для градиентного спуска:\n",
      "                              Признак    Коэффициент\n",
      "19   Point of Contact_Contact Builder  361709.897096\n",
      "1                                Size   25298.405296\n",
      "11                        City_Mumbai   13947.861067\n",
      "20     Point of Contact_Contact Owner  -12836.855921\n",
      "2                            Bathroom   10488.309599\n",
      "7                        City_Chennai   -6273.132522\n",
      "10                       City_Kolkata   -4176.613192\n",
      "9                      City_Hyderabad   -3970.880955\n",
      "17            Tenant Preferred_Family   -3269.899076\n",
      "15         Tenant Preferred_Bachelors    3066.759563\n",
      "0                                 BHK    2596.036387\n",
      "12        Furnishing Status_Furnished    1819.743130\n",
      "8                          City_Delhi   -1668.552485\n",
      "14      Furnishing Status_Unfurnished   -1256.977490\n",
      "3                Area Type_Built Area     911.177997\n",
      "18     Point of Contact_Contact Agent    -575.145293\n",
      "6                      City_Bangalore     572.173177\n",
      "16  Tenant Preferred_Bachelors/Family    -384.588260\n",
      "5                Area Type_Super Area    -107.316861\n",
      "4               Area Type_Carpet Area      62.604104\n",
      "13   Furnishing Status_Semi-Furnished     -42.699117\n"
     ]
    }
   ],
   "source": [
    "\n",
    "feature_importance = pd.DataFrame({\"Признак\": X.columns, \"Коэффициент\": sgdr_reg.coef_})\n",
    "feature_importance_sorted = feature_importance.iloc[feature_importance['Коэффициент'].abs().argsort()[::-1]]\n",
    "print(\"Наиболее важные признаки для градиентного спуска:\")\n",
    "print(feature_importance_sorted)"
   ]
  }
 ],
 "metadata": {
  "kernelspec": {
   "display_name": "venv",
   "language": "python",
   "name": "python3"
  },
  "language_info": {
   "codemirror_mode": {
    "name": "ipython",
    "version": 3
   },
   "file_extension": ".py",
   "mimetype": "text/x-python",
   "name": "python",
   "nbconvert_exporter": "python",
   "pygments_lexer": "ipython3",
   "version": "3.10.7"
  }
 },
 "nbformat": 4,
 "nbformat_minor": 2
}
